{
  "nbformat": 4,
  "nbformat_minor": 0,
  "metadata": {
    "accelerator": "GPU",
    "colab": {
      "name": "MNIST:CNN.ipynb",
      "provenance": [],
      "collapsed_sections": [],
      "authorship_tag": "ABX9TyP6lyKO5zXXoNkMKTq/wJsW",
      "include_colab_link": true
    },
    "kernelspec": {
      "display_name": "Python 3",
      "name": "python3"
    }
  },
  "cells": [
    {
      "cell_type": "markdown",
      "metadata": {
        "id": "view-in-github",
        "colab_type": "text"
      },
      "source": [
        "<a href=\"https://colab.research.google.com/github/jungeun919/Deep_learning/blob/main/MNIST_CNN.ipynb\" target=\"_parent\"><img src=\"https://colab.research.google.com/assets/colab-badge.svg\" alt=\"Open In Colab\"/></a>"
      ]
    },
    {
      "cell_type": "code",
      "metadata": {
        "colab": {
          "base_uri": "https://localhost:8080/",
          "height": 1000
        },
        "id": "TKqUZxTlGI2u",
        "outputId": "998ca8bc-fbc7-4a23-f481-d0fe9da12644"
      },
      "source": [
        "from keras.datasets import mnist\r\n",
        "from keras.utils import np_utils\r\n",
        "from keras.models import Sequential\r\n",
        "from keras.layers import Dense, Dropout, Flatten, Conv2D, MaxPooling2D\r\n",
        "from keras.callbacks import ModelCheckpoint, EarlyStopping\r\n",
        "\r\n",
        "import matplotlib.pyplot as plt\r\n",
        "import numpy\r\n",
        "import os\r\n",
        "import tensorflow as tf\r\n",
        "\r\n",
        "seed = 0\r\n",
        "numpy.random.seed(seed)\r\n",
        "tf.random.set_seed(3)\r\n",
        "\r\n",
        "# 데이터 불러오기\r\n",
        "(X_train, Y_train), (X_test, Y_test) = mnist.load_data()\r\n",
        "X_train = X_train.reshape(X_train.shape[0], 28, 28, 1).astype('float32') / 255\r\n",
        "X_test = X_test.reshape(X_test.shape[0], 28, 28, 1).astype('float32') / 255\r\n",
        "Y_train = np_utils.to_categorical(Y_train)\r\n",
        "Y_test = np_utils.to_categorical(Y_test)\r\n",
        "\r\n",
        "# 컨볼루션 신경망(CNN) 설정\r\n",
        "model = Sequential()\r\n",
        "model.add(Conv2D(32, kernel_size=(3, 3), input_shape=(28, 28, 1), activation='relu'))\r\n",
        "model.add(Conv2D(64, (3, 3), activation='relu'))\r\n",
        "model.add(MaxPooling2D(pool_size=2))\r\n",
        "model.add(Dropout(0.25))\r\n",
        "model.add(Flatten())\r\n",
        "model.add(Dense(128, activation='relu'))\r\n",
        "model.add(Dropout(0.5))\r\n",
        "model.add(Dense(10, activation='softmax'))\r\n",
        "\r\n",
        "model.compile(loss='categorical_crossentropy', optimizer='adam', metrics=['accuracy'])\r\n",
        "\r\n",
        "# 모델 최적화 설정\r\n",
        "MODEL_DIR = './model/'\r\n",
        "if not os.path.exists(MODEL_DIR):\r\n",
        "  os.mkdir(MODEL_DIR)\r\n",
        "\r\n",
        "modelpath = \"./model/{epoch:02d}-{val_loss:.4f}.hdf5\"\r\n",
        "checkpointer = ModelCheckpoint(filepath=modelpath, monitor='val_loss', verbose=1, save_best_only=True)\r\n",
        "\r\n",
        "# 학습의 자동 중단\r\n",
        "early_stopping_callback = EarlyStopping(monitor='val_loss', patience=10)\r\n",
        "\r\n",
        "# 모델의 실행\r\n",
        "history = model.fit(X_train, Y_train, validation_data=(X_test, Y_test), epochs=30, batch_size=200, verbose=0, callbacks=[early_stopping_callback, checkpointer])\r\n",
        "\r\n",
        "# 테스트의 정확도 출력\r\n",
        "print(\"\\n Test Accuracy: %.4f\" % (model.evaluate(X_test, Y_test)[1]))\r\n",
        "\r\n",
        "# 테스트셋의 오차\r\n",
        "y_vloss = history.history['val_loss']\r\n",
        "\r\n",
        "# 학습셋의 오차\r\n",
        "y_loss = history.history['loss']\r\n",
        "\r\n",
        "# 그래프로 표현\r\n",
        "x_len = numpy.arange(len(y_loss))\r\n",
        "plt.plot(x_len, y_vloss, marker='.', c=\"red\", label='Testset loss')\r\n",
        "plt.plot(x_len, y_loss, marker='.', c=\"blue\", label='Trainset loss')\r\n",
        "\r\n",
        "# 그래프에 그리드를 주고 레이블을 표시\r\n",
        "plt.legend(loc='upper right')\r\n",
        "plt.grid()\r\n",
        "plt.xlabel('epoch')\r\n",
        "plt.ylabel('loss')\r\n",
        "plt.show()"
      ],
      "execution_count": 1,
      "outputs": [
        {
          "output_type": "stream",
          "text": [
            "Downloading data from https://storage.googleapis.com/tensorflow/tf-keras-datasets/mnist.npz\n",
            "11493376/11490434 [==============================] - 0s 0us/step\n",
            "\n",
            "Epoch 00001: val_loss improved from inf to 0.05466, saving model to ./model/01-0.0547.hdf5\n",
            "\n",
            "Epoch 00002: val_loss improved from 0.05466 to 0.03968, saving model to ./model/02-0.0397.hdf5\n",
            "\n",
            "Epoch 00003: val_loss improved from 0.03968 to 0.03493, saving model to ./model/03-0.0349.hdf5\n",
            "\n",
            "Epoch 00004: val_loss did not improve from 0.03493\n",
            "\n",
            "Epoch 00005: val_loss improved from 0.03493 to 0.03082, saving model to ./model/05-0.0308.hdf5\n",
            "\n",
            "Epoch 00006: val_loss improved from 0.03082 to 0.03019, saving model to ./model/06-0.0302.hdf5\n",
            "\n",
            "Epoch 00007: val_loss did not improve from 0.03019\n",
            "\n",
            "Epoch 00008: val_loss did not improve from 0.03019\n",
            "\n",
            "Epoch 00009: val_loss improved from 0.03019 to 0.02981, saving model to ./model/09-0.0298.hdf5\n",
            "\n",
            "Epoch 00010: val_loss improved from 0.02981 to 0.02918, saving model to ./model/10-0.0292.hdf5\n",
            "\n",
            "Epoch 00011: val_loss improved from 0.02918 to 0.02893, saving model to ./model/11-0.0289.hdf5\n",
            "\n",
            "Epoch 00012: val_loss did not improve from 0.02893\n",
            "\n",
            "Epoch 00013: val_loss improved from 0.02893 to 0.02581, saving model to ./model/13-0.0258.hdf5\n",
            "\n",
            "Epoch 00014: val_loss did not improve from 0.02581\n",
            "\n",
            "Epoch 00015: val_loss did not improve from 0.02581\n",
            "\n",
            "Epoch 00016: val_loss improved from 0.02581 to 0.02534, saving model to ./model/16-0.0253.hdf5\n",
            "\n",
            "Epoch 00017: val_loss did not improve from 0.02534\n",
            "\n",
            "Epoch 00018: val_loss did not improve from 0.02534\n",
            "\n",
            "Epoch 00019: val_loss did not improve from 0.02534\n",
            "\n",
            "Epoch 00020: val_loss did not improve from 0.02534\n",
            "\n",
            "Epoch 00021: val_loss did not improve from 0.02534\n",
            "\n",
            "Epoch 00022: val_loss did not improve from 0.02534\n",
            "\n",
            "Epoch 00023: val_loss did not improve from 0.02534\n",
            "\n",
            "Epoch 00024: val_loss did not improve from 0.02534\n",
            "\n",
            "Epoch 00025: val_loss did not improve from 0.02534\n",
            "\n",
            "Epoch 00026: val_loss did not improve from 0.02534\n",
            "313/313 [==============================] - 1s 3ms/step - loss: 0.0329 - accuracy: 0.9927\n",
            "\n",
            " Test Accuracy: 0.9927\n"
          ],
          "name": "stdout"
        },
        {
          "output_type": "display_data",
          "data": {
            "image/png": "[encoded data removed]",
            "text/plain": [
              "<Figure size 432x288 with 1 Axes>"
            ]
          },
          "metadata": {
            "tags": [],
            "needs_background": "light"
          }
        }
      ]
    }
  ]
}