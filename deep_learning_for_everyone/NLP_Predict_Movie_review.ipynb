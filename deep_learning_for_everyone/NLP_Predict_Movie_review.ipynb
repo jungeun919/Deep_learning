{
  "nbformat": 4,
  "nbformat_minor": 0,
  "metadata": {
    "colab": {
      "name": "NLP:Predict Movie review.ipynb",
      "provenance": [],
      "authorship_tag": "ABX9TyN828IKwTnIGynSvb1AtMDm",
      "include_colab_link": true
    },
    "kernelspec": {
      "name": "python3",
      "display_name": "Python 3"
    }
  },
  "cells": [
    {
      "cell_type": "markdown",
      "metadata": {
        "id": "view-in-github",
        "colab_type": "text"
      },
      "source": [
        "<a href=\"https://colab.research.google.com/github/jungeun919/Deep_learning/blob/main/NLP_Predict_Movie_review.ipynb\" target=\"_parent\"><img src=\"https://colab.research.google.com/assets/colab-badge.svg\" alt=\"Open In Colab\"/></a>"
      ]
    },
    {
      "cell_type": "code",
      "metadata": {
        "colab": {
          "base_uri": "https://localhost:8080/"
        },
        "id": "CNg1UCOBZXub",
        "outputId": "39663d56-dc22-4442-e30c-7427be4183a5"
      },
      "source": [
        "import numpy\r\n",
        "import tensorflow as tf\r\n",
        "\r\n",
        "from numpy import array\r\n",
        "from tensorflow.keras.preprocessing.text import Tokenizer\r\n",
        "from tensorflow.keras.preprocessing.sequence import pad_sequences\r\n",
        "from keras.models import Sequential\r\n",
        "from tensorflow.keras.layers import Dense, Flatten, Embedding\r\n",
        "\r\n",
        "# 텍스트 리뷰 자료 지정\r\n",
        "docs = ['너무 재밌네요', '최고예요', '참 잘 만든 영화예요', '추천하고 싶은 영화입니다.', '한 번 더 보고싶네요',\\\r\n",
        "        '글쎄요', '별로예요', '생각보다 지루하네요', '연기가 어색해요', '재미없어요']\r\n",
        "\r\n",
        "# 긍정 리뷰는 1, 부정 리뷰는 0으로 클래스 지정\r\n",
        "classes = array([1, 1, 1, 1, 1, 0, 0, 0, 0, 0])\r\n",
        "\r\n",
        "# 토큰화\r\n",
        "token = Tokenizer()\r\n",
        "token.fit_on_texts(docs)\r\n",
        "print(token.word_index)\r\n",
        "\r\n",
        "# 지정된 인덱스로 새로운 배열을 생성\r\n",
        "x = token.texts_to_sequences(docs)\r\n",
        "print(x)\r\n",
        "\r\n",
        "# 패딩, 서로 다른 길이의 데이터를 4로 맞추기\r\n",
        "padded_x = pad_sequences(x, 4) \r\n",
        "\"\\n패딩 결과\\n\", print(padded_x)\r\n",
        "\r\n",
        "# 임베딩에 입력될 단어 수 지정\r\n",
        "word_size = len(token.word_index) + 1\r\n",
        "\r\n",
        "# 단어 임베딩을 포함하여 딥러닝 모델을 만들고 결과를 출력\r\n",
        "model = Sequential()\r\n",
        "model.add(Embedding(word_size, 8, input_length=4))\r\n",
        "model.add(Flatten())\r\n",
        "model.add(Dense(1, activation='sigmoid'))\r\n",
        "\r\n",
        "model.compile(loss='binary_crossentropy', optimizer='adam', metrics=['accuracy'])\r\n",
        "model.fit(padded_x, classes, epochs=20)\r\n",
        "\r\n",
        "print(\"\\n Accuracy: %.4f\" % (model.evaluate(padded_x, classes)[1]))"
      ],
      "execution_count": null,
      "outputs": [
        {
          "output_type": "stream",
          "text": [
            "{'너무': 1, '재밌네요': 2, '최고예요': 3, '참': 4, '잘': 5, '만든': 6, '영화예요': 7, '추천하고': 8, '싶은': 9, '영화입니다': 10, '한': 11, '번': 12, '더': 13, '보고싶네요': 14, '글쎄요': 15, '별로예요': 16, '생각보다': 17, '지루하네요': 18, '연기가': 19, '어색해요': 20, '재미없어요': 21}\n",
            "[[1, 2], [3], [4, 5, 6, 7], [8, 9, 10], [11, 12, 13, 14], [15], [16], [17, 18], [19, 20], [21]]\n",
            "[[ 0  0  1  2]\n",
            " [ 0  0  0  3]\n",
            " [ 4  5  6  7]\n",
            " [ 0  8  9 10]\n",
            " [11 12 13 14]\n",
            " [ 0  0  0 15]\n",
            " [ 0  0  0 16]\n",
            " [ 0  0 17 18]\n",
            " [ 0  0 19 20]\n",
            " [ 0  0  0 21]]\n",
            "Epoch 1/20\n",
            "1/1 [==============================] - 0s 435ms/step - loss: 0.6925 - accuracy: 0.5000\n",
            "Epoch 2/20\n",
            "1/1 [==============================] - 0s 5ms/step - loss: 0.6902 - accuracy: 0.5000\n",
            "Epoch 3/20\n",
            "1/1 [==============================] - 0s 4ms/step - loss: 0.6879 - accuracy: 0.6000\n",
            "Epoch 4/20\n",
            "1/1 [==============================] - 0s 3ms/step - loss: 0.6856 - accuracy: 0.7000\n",
            "Epoch 5/20\n",
            "1/1 [==============================] - 0s 3ms/step - loss: 0.6833 - accuracy: 0.7000\n",
            "Epoch 6/20\n",
            "1/1 [==============================] - 0s 3ms/step - loss: 0.6811 - accuracy: 0.7000\n",
            "Epoch 7/20\n",
            "1/1 [==============================] - 0s 3ms/step - loss: 0.6788 - accuracy: 0.7000\n",
            "Epoch 8/20\n",
            "1/1 [==============================] - 0s 4ms/step - loss: 0.6765 - accuracy: 0.8000\n",
            "Epoch 9/20\n",
            "1/1 [==============================] - 0s 5ms/step - loss: 0.6742 - accuracy: 0.9000\n",
            "Epoch 10/20\n",
            "1/1 [==============================] - 0s 3ms/step - loss: 0.6719 - accuracy: 0.9000\n",
            "Epoch 11/20\n",
            "1/1 [==============================] - 0s 4ms/step - loss: 0.6697 - accuracy: 0.9000\n",
            "Epoch 12/20\n",
            "1/1 [==============================] - 0s 3ms/step - loss: 0.6674 - accuracy: 0.9000\n",
            "Epoch 13/20\n",
            "1/1 [==============================] - 0s 3ms/step - loss: 0.6651 - accuracy: 1.0000\n",
            "Epoch 14/20\n",
            "1/1 [==============================] - 0s 3ms/step - loss: 0.6628 - accuracy: 1.0000\n",
            "Epoch 15/20\n",
            "1/1 [==============================] - 0s 5ms/step - loss: 0.6605 - accuracy: 1.0000\n",
            "Epoch 16/20\n",
            "1/1 [==============================] - 0s 3ms/step - loss: 0.6582 - accuracy: 1.0000\n",
            "Epoch 17/20\n",
            "1/1 [==============================] - 0s 3ms/step - loss: 0.6558 - accuracy: 1.0000\n",
            "Epoch 18/20\n",
            "1/1 [==============================] - 0s 3ms/step - loss: 0.6535 - accuracy: 1.0000\n",
            "Epoch 19/20\n",
            "1/1 [==============================] - 0s 3ms/step - loss: 0.6511 - accuracy: 1.0000\n",
            "Epoch 20/20\n",
            "1/1 [==============================] - 0s 4ms/step - loss: 0.6488 - accuracy: 1.0000\n",
            "WARNING:tensorflow:5 out of the last 5 calls to <function Model.make_test_function.<locals>.test_function at 0x7fab100fc2f0> triggered tf.function retracing. Tracing is expensive and the excessive number of tracings could be due to (1) creating @tf.function repeatedly in a loop, (2) passing tensors with different shapes, (3) passing Python objects instead of tensors. For (1), please define your @tf.function outside of the loop. For (2), @tf.function has experimental_relax_shapes=True option that relaxes argument shapes that can avoid unnecessary retracing. For (3), please refer to https://www.tensorflow.org/guide/function#controlling_retracing and https://www.tensorflow.org/api_docs/python/tf/function for  more details.\n",
            "1/1 [==============================] - 0s 112ms/step - loss: 0.6464 - accuracy: 0.9000\n",
            "\n",
            " Accuracy: 0.9000\n"
          ],
          "name": "stdout"
        }
      ]
    }
  ]
}
