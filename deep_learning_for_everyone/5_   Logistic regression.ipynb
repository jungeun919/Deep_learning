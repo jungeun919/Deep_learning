{
  "nbformat": 4,
  "nbformat_minor": 0,
  "metadata": {
    "colab": {
      "name": "5장_로지스틱회귀.ipynb",
      "provenance": [],
      "authorship_tag": "ABX9TyNl/A1QkFiWNorQXKCP1L6a",
      "include_colab_link": true
    },
    "kernelspec": {
      "name": "python3",
      "display_name": "Python 3"
    }
  },
  "cells": [
    {
      "cell_type": "markdown",
      "metadata": {
        "id": "view-in-github",
        "colab_type": "text"
      },
      "source": [
        "<a href=\"https://colab.research.google.com/github/jungeun919/Deep_learning/blob/main/5_%20%20%20Logistic%20regression.ipynb\" target=\"_parent\"><img src=\"https://colab.research.google.com/assets/colab-badge.svg\" alt=\"Open In Colab\"/></a>"
      ]
    },
    {
      "cell_type": "code",
      "metadata": {
        "colab": {
          "base_uri": "https://localhost:8080/",
          "height": 638
        },
        "id": "GTTSbqRbZexx",
        "outputId": "1cb493d6-d787-4cf2-fc12-69c30d45f087"
      },
      "source": [
        "import numpy as np\r\n",
        "import pandas as pd\r\n",
        "import matplotlib.pyplot as plt\r\n",
        "\r\n",
        "data = [[2, 0], [4, 0], [6, 0], [8, 1], [10, 1], [12, 1], [14, 1]]\r\n",
        "\r\n",
        "x_data = [i[0] for i in data]\r\n",
        "y_data = [i[1] for i in data]\r\n",
        "\r\n",
        "# x_data = np.array(x)\r\n",
        "# y_data = np.array(y)\r\n",
        "\r\n",
        "# plt.scatter(x_data, y_data)\r\n",
        "# plt.xlim(0, 15) # 축의 범위 설정\r\n",
        "# plt.ylim(-0.1, 1.1)\r\n",
        "\r\n",
        "# 초기화\r\n",
        "a, b = 0, 0\r\n",
        "lr = 0.05\r\n",
        "\r\n",
        "def sigmoid(x):\r\n",
        "  return 1 / (1 + np.e ** (-x))\r\n",
        "\r\n",
        "# 경사 하강법\r\n",
        "for i in range(2001):\r\n",
        "  for x_data, y_data in data:\r\n",
        "    a_diff = x_data * (sigmoid(a*x_data + b) - y_data)\r\n",
        "    b_diff = sigmoid(a*x_data + b) - y_data\r\n",
        "\r\n",
        "    # a_diff = (1/len(x_data))*sum(x_data*(sigmoid(a*x_data + b) - y_data)) \r\n",
        "    # b_diff = (1/len(x_data))*sum(sigmoid(a*x_data + b) - y_data)\r\n",
        "\r\n",
        "    a = a - (lr * a_diff)\r\n",
        "    b = b - (lr * b_diff)\r\n",
        "\r\n",
        "    if i % 1000 == 0:\r\n",
        "      print(\"epochs=%.f, 기울기=%.04f, 절편=%.04f\" % (i, a, b))\r\n",
        "\r\n",
        "plt.scatter(x_data, y_data)\r\n",
        "plt.xlim(0, 15)\r\n",
        "plt.ylim(-0.1, 1.1)\r\n",
        "x_range = (np.arange(0, 15, 0.1))\r\n",
        "plt.plot(np.arange(0, 15, 0.1), np.array([sigmoid(a*x + b) for x in x_range]))\r\n",
        "plt.show()"
      ],
      "execution_count": null,
      "outputs": [
        {
          "output_type": "stream",
          "text": [
            "epochs=0, 기울기=-0.0500, 절편=-0.0250\n",
            "epochs=0, 기울기=-0.1388, 절편=-0.0472\n",
            "epochs=0, 기울기=-0.2268, 절편=-0.0619\n",
            "epochs=0, 기울기=0.1201, 절편=-0.0185\n",
            "epochs=0, 기울기=0.2374, 절편=-0.0068\n",
            "epochs=0, 기울기=0.2705, 절편=-0.0040\n",
            "epochs=0, 기울기=0.2860, 절편=-0.0029\n",
            "epochs=1000, 기울기=1.4978, 절편=-9.9401\n",
            "epochs=1000, 기울기=1.4940, 절편=-9.9411\n",
            "epochs=1000, 기울기=1.4120, 절편=-9.9547\n",
            "epochs=1000, 기울기=1.4949, 절편=-9.9444\n",
            "epochs=1000, 기울기=1.4982, 절편=-9.9440\n",
            "epochs=1000, 기울기=1.4984, 절편=-9.9440\n",
            "epochs=1000, 기울기=1.4985, 절편=-9.9440\n",
            "epochs=2000, 기울기=1.9065, 절편=-12.9489\n",
            "epochs=2000, 기울기=1.9055, 절편=-12.9491\n",
            "epochs=2000, 기울기=1.8515, 절편=-12.9581\n",
            "epochs=2000, 기울기=1.9057, 절편=-12.9514\n",
            "epochs=2000, 기울기=1.9068, 절편=-12.9513\n",
            "epochs=2000, 기울기=1.9068, 절편=-12.9513\n",
            "epochs=2000, 기울기=1.9068, 절편=-12.9513\n"
          ],
          "name": "stdout"
        },
        {
          "output_type": "display_data",
          "data": {
            "image/png": "[encoded data removed]",
            "text/plain": [
              "<Figure size 432x288 with 1 Axes>"
            ]
          },
          "metadata": {
            "tags": [],
            "needs_background": "light"
          }
        }
      ]
    }
  ]
}
