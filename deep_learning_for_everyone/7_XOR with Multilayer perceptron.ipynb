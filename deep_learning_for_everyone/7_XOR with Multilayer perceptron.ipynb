{
  "nbformat": 4,
  "nbformat_minor": 0,
  "metadata": {
    "colab": {
      "name": "7장_다층퍼셉트론으로XOR문제해결.ipynb",
      "provenance": [],
      "authorship_tag": "ABX9TyN4un38e4SjY+9jVkMf3E9H",
      "include_colab_link": true
    },
    "kernelspec": {
      "name": "python3",
      "display_name": "Python 3"
    }
  },
  "cells": [
    {
      "cell_type": "markdown",
      "metadata": {
        "id": "view-in-github",
        "colab_type": "text"
      },
      "source": [
        "<a href=\"https://colab.research.google.com/github/jungeun919/Deep_learning/blob/main/7_XOR%20with%20Multilayer%20perceptron.ipynb\" target=\"_parent\"><img src=\"https://colab.research.google.com/assets/colab-badge.svg\" alt=\"Open In Colab\"/></a>"
      ]
    },
    {
      "cell_type": "code",
      "metadata": {
        "colab": {
          "base_uri": "https://localhost:8080/"
        },
        "id": "BxbNJax95XIq",
        "outputId": "3ac956a8-bfd9-4a49-964b-3590f8f7ad30"
      },
      "source": [
        "import numpy as np\r\n",
        "\r\n",
        "w11 = np.array([-2, -2])\r\n",
        "w12 = np.array([2, 2])\r\n",
        "w2 = np.array([1, 1])\r\n",
        "b1 = 3\r\n",
        "b2 = -1\r\n",
        "b3 = -1\r\n",
        "\r\n",
        "def MLP(x, w, b):\r\n",
        "  y = np.sum(w * x) + b\r\n",
        "  if y <= 0:\r\n",
        "    return 0\r\n",
        "  else:\r\n",
        "    return 1\r\n",
        "    \r\n",
        "def NAND(x1, x2):\r\n",
        "  return MLP(np.array([x1, x2]), w11, b1)\r\n",
        "\r\n",
        "def OR(x1, x2):\r\n",
        "  return MLP(np.array([x1, x2]), w12, b2)\r\n",
        "\r\n",
        "def AND(x1, x2):\r\n",
        "  return MLP(np.array([x1, x2]), w2, b3)\r\n",
        "\r\n",
        "def XOR(x1, x2):\r\n",
        "  return AND(NAND(x1, x2), OR(x1, x2))\r\n",
        "\r\n",
        "if __name__ == '__main__':\r\n",
        "  for x in [(0, 0), (1, 0), (0, 1), (1, 1)]:\r\n",
        "    y = XOR(x[0], x[1])\r\n",
        "    print(\"입력 값: \" + str(x) + \"출력 값: \" + str(y))"
      ],
      "execution_count": null,
      "outputs": [
        {
          "output_type": "stream",
          "text": [
            "입력 값: (0, 0)출력 값: 0\n",
            "입력 값: (1, 0)출력 값: 1\n",
            "입력 값: (0, 1)출력 값: 1\n",
            "입력 값: (1, 1)출력 값: 0\n"
          ],
          "name": "stdout"
        }
      ]
    }
  ]
}
