{
  "nbformat": 4,
  "nbformat_minor": 0,
  "metadata": {
    "colab": {
      "name": "3장_선형회귀실습2.ipynb",
      "provenance": [],
      "authorship_tag": "ABX9TyPFx93x0XKVLLg0+BpweS4l",
      "include_colab_link": true
    },
    "kernelspec": {
      "name": "python3",
      "display_name": "Python 3"
    }
  },
  "cells": [
    {
      "cell_type": "markdown",
      "metadata": {
        "id": "view-in-github",
        "colab_type": "text"
      },
      "source": [
        "<a href=\"https://colab.research.google.com/github/jungeun919/Deep_learning/blob/main/3_Linear%20regression2.ipynb\" target=\"_parent\"><img src=\"https://colab.research.google.com/assets/colab-badge.svg\" alt=\"Open In Colab\"/></a>"
      ]
    },
    {
      "cell_type": "code",
      "metadata": {
        "colab": {
          "base_uri": "https://localhost:8080/"
        },
        "id": "RGnbh1zIXxTE",
        "outputId": "20d8517b-f370-4d34-b1d2-af0e66d02346"
      },
      "source": [
        "import numpy as np\r\n",
        "\r\n",
        "fake_a_b = [3, 76]\r\n",
        "\r\n",
        "data = [[2, 81], [4, 93], [6, 91], [8, 97]]\r\n",
        "x = [i[0] for i in data] # data의 각 원소를 한 번씩 i 자리에 대입\r\n",
        "y = [i[1] for i in data]\r\n",
        "\r\n",
        "# y = ax + b에 a와 b를 대입하여 결과를 출력하는 함수 -> y = 3x + 76\r\n",
        "def predict(x):\r\n",
        "  return fake_a_b[0] * x + fake_a_b[1]\r\n",
        "\r\n",
        "# MSE(평균제곱오차) 함수\r\n",
        "def mse(y, y_hat):\r\n",
        "  return ((y - y_hat)**2).mean()\r\n",
        "\r\n",
        "# MSE 함수를 각 y 값에 대입하여 최종 값을 구하는 함수\r\n",
        "def mse_val(y, predict_result):\r\n",
        "  return mse(np.array(y), np.array(predict_result))\r\n",
        "print(np.array(y), np.array(predict_result))\r\n",
        "print(mse(np.array(y), np.array(predict_result)))\r\n",
        "\r\n",
        "predict_result = []\r\n",
        "\r\n",
        "for i in range(len(x)):\r\n",
        "  predict_result.append(predict(x[i])) # append : 리스트에 요소를 추가하는 함수\r\n",
        "  print(\"공부시간=%.f, 실제 점수:%.f, 예측 점수:%.f\" % (x[i], y[i], predict(x[i])))\r\n",
        "\r\n",
        "print(\"mse 최종값: \" + str(mse_val(predict_result, y)))"
      ],
      "execution_count": null,
      "outputs": [
        {
          "output_type": "stream",
          "text": [
            "[81 93 91 97] [ 82  88  94 100]\n",
            "11.0\n",
            "공부시간=2, 실제 점수:81, 예측 점수:82\n",
            "공부시간=4, 실제 점수:93, 예측 점수:88\n",
            "공부시간=6, 실제 점수:91, 예측 점수:94\n",
            "공부시간=8, 실제 점수:97, 예측 점수:100\n",
            "mse 최종값: 11.0\n"
          ],
          "name": "stdout"
        }
      ]
    }
  ]
}
