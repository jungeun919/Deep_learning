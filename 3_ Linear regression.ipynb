{
  "nbformat": 4,
  "nbformat_minor": 0,
  "metadata": {
    "colab": {
      "name": "3장_선형회귀실습.ipynb",
      "provenance": [],
      "authorship_tag": "ABX9TyPkDd9beEDxEBf2ZeGPDEA5",
      "include_colab_link": true
    },
    "kernelspec": {
      "name": "python3",
      "display_name": "Python 3"
    }
  },
  "cells": [
    {
      "cell_type": "markdown",
      "metadata": {
        "id": "view-in-github",
        "colab_type": "text"
      },
      "source": [
        "<a href=\"https://colab.research.google.com/github/jungeun919/Deep_learning/blob/main/3_%20Linear%20regression.ipynb\" target=\"_parent\"><img src=\"https://colab.research.google.com/assets/colab-badge.svg\" alt=\"Open In Colab\"/></a>"
      ]
    },
    {
      "cell_type": "code",
      "metadata": {
        "colab": {
          "base_uri": "https://localhost:8080/"
        },
        "id": "bXNV_dgANLnk",
        "outputId": "bcc15c97-e479-44a0-c9fe-40df85218b99"
      },
      "source": [
        "import numpy as np\r\n",
        "\r\n",
        "x = [2, 4, 6, 8]\r\n",
        "y = [81, 93, 91, 97]\r\n",
        "\r\n",
        "# print(x[1] * 2)\r\n",
        "\r\n",
        "mx = np.mean(x)\r\n",
        "my = np.mean(y)\r\n",
        "print(\"x의 평균값:\", mx)\r\n",
        "print(\"y의 평균값:\", my)\r\n",
        "\r\n",
        "# 기울기 공식의 분모\r\n",
        "divisor = sum([(i - mx)**2 for i in x]) # x의 각 원소를 한 번씩 i 자리에 대입\r\n",
        "\r\n",
        "# 기울기 공식의 분자\r\n",
        "def top(x, mx, y, my):\r\n",
        "  d = 0\r\n",
        "  for i in range(len(x)):\r\n",
        "    d += (x[i] - mx) * (y[i] - my)\r\n",
        "  return d\r\n",
        "dividend = top(x, mx, y, my)\r\n",
        "\r\n",
        "print(\"분모:\", divisor)\r\n",
        "print(\"분자:\", dividend)\r\n",
        "\r\n",
        "# 기울기와 y 절편\r\n",
        "a = dividend / divisor\r\n",
        "b = my - (mx * a)\r\n",
        "\r\n",
        "print(\"기울기 a =\", a)\r\n",
        "print(\"y 절편 b =\", b)"
      ],
      "execution_count": 1,
      "outputs": [
        {
          "output_type": "stream",
          "text": [
            "x의 평균값: 5.0\n",
            "y의 평균값: 90.5\n",
            "분모: 20.0\n",
            "분자: 46.0\n",
            "기울기 a = 2.3\n",
            "y 절편 b = 79.0\n"
          ],
          "name": "stdout"
        }
      ]
    }
  ]
}