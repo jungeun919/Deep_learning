{
  "nbformat": 4,
  "nbformat_minor": 0,
  "metadata": {
    "colab": {
      "name": "Use_Multi_layer.ipynb",
      "provenance": [],
      "collapsed_sections": [],
      "include_colab_link": true
    },
    "kernelspec": {
      "name": "python3",
      "display_name": "Python 3"
    },
    "accelerator": "GPU"
  },
  "cells": [
    {
      "cell_type": "markdown",
      "metadata": {
        "id": "view-in-github",
        "colab_type": "text"
      },
      "source": [
        "<a href=\"https://colab.research.google.com/github/jungeun919/Deep_learning/blob/main/Use_Multi_layer.ipynb\" target=\"_parent\"><img src=\"https://colab.research.google.com/assets/colab-badge.svg\" alt=\"Open In Colab\"/></a>"
      ]
    },
    {
      "cell_type": "markdown",
      "metadata": {
        "id": "ecbNH6UeNxDm"
      },
      "source": [
        "# 히든레이어 사용하기"
      ]
    },
    {
      "cell_type": "code",
      "metadata": {
        "id": "lB0htFvCNrnX"
      },
      "source": [
        "import tensorflow as tf\n",
        "import pandas as pd"
      ],
      "execution_count": 1,
      "outputs": []
    },
    {
      "cell_type": "markdown",
      "metadata": {
        "id": "tMCDTFt7_48X"
      },
      "source": [
        "# 보스턴 집값 예측"
      ]
    },
    {
      "cell_type": "code",
      "metadata": {
        "id": "5seJatAXOgPs",
        "colab": {
          "base_uri": "https://localhost:8080/"
        },
        "outputId": "823b60c1-969c-4c40-8126-6918765b3602"
      },
      "source": [
        "# 과거의 데이터를 준비합니다.\n",
        "파일경로 = 'https://raw.githubusercontent.com/blackdew/tensorflow1/master/csv/boston.csv'\n",
        "보스턴 = pd.read_csv(파일경로)\n",
        "\n",
        "# 종속변수, 독립변수\n",
        "독립 = 보스턴[['crim', 'zn', 'indus', 'chas', 'nox', \n",
        "            'rm', 'age', 'dis', 'rad', 'tax',\n",
        "            'ptratio', 'b', 'lstat']]\n",
        "종속 = 보스턴[['medv']]\n",
        "print(독립.shape, 종속.shape)"
      ],
      "execution_count": 2,
      "outputs": [
        {
          "output_type": "stream",
          "text": [
            "(506, 13) (506, 1)\n"
          ],
          "name": "stdout"
        }
      ]
    },
    {
      "cell_type": "code",
      "metadata": {
        "id": "vfkJqttEOiJt"
      },
      "source": [
        "# 모델의 구조를 만듭니다\n",
        "X = tf.keras.layers.Input(shape=[13])\n",
        "H = tf.keras.layers.Dense(10, activation='swish')(X)\n",
        "Y = tf.keras.layers.Dense(1)(H)\n",
        "model = tf.keras.models.Model(X, Y)\n",
        "model.compile(loss='mse')"
      ],
      "execution_count": 3,
      "outputs": []
    },
    {
      "cell_type": "code",
      "metadata": {
        "id": "3m3Ap3YVYQIZ",
        "colab": {
          "base_uri": "https://localhost:8080/"
        },
        "outputId": "e86d7dac-3da3-4288-cbc6-b4480e385e36"
      },
      "source": [
        "# 모델 구조 확인\n",
        "model.summary()"
      ],
      "execution_count": 4,
      "outputs": [
        {
          "output_type": "stream",
          "text": [
            "Model: \"model\"\n",
            "_________________________________________________________________\n",
            "Layer (type)                 Output Shape              Param #   \n",
            "=================================================================\n",
            "input_1 (InputLayer)         [(None, 13)]              0         \n",
            "_________________________________________________________________\n",
            "dense (Dense)                (None, 10)                140       \n",
            "_________________________________________________________________\n",
            "dense_1 (Dense)              (None, 1)                 11        \n",
            "=================================================================\n",
            "Total params: 151\n",
            "Trainable params: 151\n",
            "Non-trainable params: 0\n",
            "_________________________________________________________________\n"
          ],
          "name": "stdout"
        }
      ]
    },
    {
      "cell_type": "code",
      "metadata": {
        "id": "jMNsfnzyOoDm",
        "colab": {
          "base_uri": "https://localhost:8080/"
        },
        "outputId": "03dda508-904a-4af6-a83c-99d432a8a4d9"
      },
      "source": [
        "# 데이터로 모델을 학습(FIT)합니다.\n",
        "model.fit(독립, 종속, epochs=100)"
      ],
      "execution_count": 5,
      "outputs": [
        {
          "output_type": "stream",
          "text": [
            "Epoch 1/100\n",
            "16/16 [==============================] - 2s 2ms/step - loss: 65572.4306\n",
            "Epoch 2/100\n",
            "16/16 [==============================] - 0s 2ms/step - loss: 42341.7273\n",
            "Epoch 3/100\n",
            "16/16 [==============================] - 0s 2ms/step - loss: 28362.5628\n",
            "Epoch 4/100\n",
            "16/16 [==============================] - 0s 2ms/step - loss: 18014.2702\n",
            "Epoch 5/100\n",
            "16/16 [==============================] - 0s 2ms/step - loss: 9473.8152\n",
            "Epoch 6/100\n",
            "16/16 [==============================] - 0s 2ms/step - loss: 4269.0855\n",
            "Epoch 7/100\n",
            "16/16 [==============================] - 0s 2ms/step - loss: 1295.7177\n",
            "Epoch 8/100\n",
            "16/16 [==============================] - 0s 2ms/step - loss: 486.6590\n",
            "Epoch 9/100\n",
            "16/16 [==============================] - 0s 2ms/step - loss: 384.9922\n",
            "Epoch 10/100\n",
            "16/16 [==============================] - 0s 3ms/step - loss: 321.1090\n",
            "Epoch 11/100\n",
            "16/16 [==============================] - 0s 2ms/step - loss: 256.3957\n",
            "Epoch 12/100\n",
            "16/16 [==============================] - 0s 2ms/step - loss: 214.6164\n",
            "Epoch 13/100\n",
            "16/16 [==============================] - 0s 2ms/step - loss: 182.1548\n",
            "Epoch 14/100\n",
            "16/16 [==============================] - 0s 2ms/step - loss: 141.6205\n",
            "Epoch 15/100\n",
            "16/16 [==============================] - 0s 2ms/step - loss: 122.3671\n",
            "Epoch 16/100\n",
            "16/16 [==============================] - 0s 2ms/step - loss: 94.0044\n",
            "Epoch 17/100\n",
            "16/16 [==============================] - 0s 2ms/step - loss: 99.0487\n",
            "Epoch 18/100\n",
            "16/16 [==============================] - 0s 2ms/step - loss: 82.2988\n",
            "Epoch 19/100\n",
            "16/16 [==============================] - 0s 2ms/step - loss: 72.4301\n",
            "Epoch 20/100\n",
            "16/16 [==============================] - 0s 2ms/step - loss: 70.1589\n",
            "Epoch 21/100\n",
            "16/16 [==============================] - 0s 2ms/step - loss: 56.1313\n",
            "Epoch 22/100\n",
            "16/16 [==============================] - 0s 2ms/step - loss: 60.4892\n",
            "Epoch 23/100\n",
            "16/16 [==============================] - 0s 2ms/step - loss: 54.0955\n",
            "Epoch 24/100\n",
            "16/16 [==============================] - 0s 2ms/step - loss: 50.2737\n",
            "Epoch 25/100\n",
            "16/16 [==============================] - 0s 2ms/step - loss: 47.9237\n",
            "Epoch 26/100\n",
            "16/16 [==============================] - 0s 2ms/step - loss: 53.3074\n",
            "Epoch 27/100\n",
            "16/16 [==============================] - 0s 2ms/step - loss: 53.1655\n",
            "Epoch 28/100\n",
            "16/16 [==============================] - 0s 2ms/step - loss: 43.3954\n",
            "Epoch 29/100\n",
            "16/16 [==============================] - 0s 2ms/step - loss: 54.6971\n",
            "Epoch 30/100\n",
            "16/16 [==============================] - 0s 2ms/step - loss: 45.8850\n",
            "Epoch 31/100\n",
            "16/16 [==============================] - 0s 2ms/step - loss: 54.1629\n",
            "Epoch 32/100\n",
            "16/16 [==============================] - 0s 2ms/step - loss: 47.9942\n",
            "Epoch 33/100\n",
            "16/16 [==============================] - 0s 2ms/step - loss: 50.5892\n",
            "Epoch 34/100\n",
            "16/16 [==============================] - 0s 2ms/step - loss: 53.0857\n",
            "Epoch 35/100\n",
            "16/16 [==============================] - 0s 2ms/step - loss: 48.6211\n",
            "Epoch 36/100\n",
            "16/16 [==============================] - 0s 3ms/step - loss: 44.6918\n",
            "Epoch 37/100\n",
            "16/16 [==============================] - 0s 2ms/step - loss: 50.0326\n",
            "Epoch 38/100\n",
            "16/16 [==============================] - 0s 2ms/step - loss: 43.6717\n",
            "Epoch 39/100\n",
            "16/16 [==============================] - 0s 2ms/step - loss: 40.2871\n",
            "Epoch 40/100\n",
            "16/16 [==============================] - 0s 2ms/step - loss: 44.0713\n",
            "Epoch 41/100\n",
            "16/16 [==============================] - 0s 2ms/step - loss: 45.2998\n",
            "Epoch 42/100\n",
            "16/16 [==============================] - 0s 2ms/step - loss: 45.2892\n",
            "Epoch 43/100\n",
            "16/16 [==============================] - 0s 2ms/step - loss: 47.4939\n",
            "Epoch 44/100\n",
            "16/16 [==============================] - 0s 2ms/step - loss: 48.9641\n",
            "Epoch 45/100\n",
            "16/16 [==============================] - 0s 2ms/step - loss: 40.5058\n",
            "Epoch 46/100\n",
            "16/16 [==============================] - 0s 2ms/step - loss: 41.3170\n",
            "Epoch 47/100\n",
            "16/16 [==============================] - 0s 2ms/step - loss: 49.8294\n",
            "Epoch 48/100\n",
            "16/16 [==============================] - 0s 2ms/step - loss: 45.9909\n",
            "Epoch 49/100\n",
            "16/16 [==============================] - 0s 2ms/step - loss: 46.2419\n",
            "Epoch 50/100\n",
            "16/16 [==============================] - 0s 2ms/step - loss: 48.0902\n",
            "Epoch 51/100\n",
            "16/16 [==============================] - 0s 2ms/step - loss: 40.1893\n",
            "Epoch 52/100\n",
            "16/16 [==============================] - 0s 2ms/step - loss: 42.0000\n",
            "Epoch 53/100\n",
            "16/16 [==============================] - 0s 2ms/step - loss: 40.2392\n",
            "Epoch 54/100\n",
            "16/16 [==============================] - 0s 2ms/step - loss: 42.1131\n",
            "Epoch 55/100\n",
            "16/16 [==============================] - 0s 2ms/step - loss: 42.4843\n",
            "Epoch 56/100\n",
            "16/16 [==============================] - 0s 2ms/step - loss: 47.0154\n",
            "Epoch 57/100\n",
            "16/16 [==============================] - 0s 2ms/step - loss: 41.4634\n",
            "Epoch 58/100\n",
            "16/16 [==============================] - 0s 3ms/step - loss: 38.3290\n",
            "Epoch 59/100\n",
            "16/16 [==============================] - 0s 2ms/step - loss: 46.9582\n",
            "Epoch 60/100\n",
            "16/16 [==============================] - 0s 2ms/step - loss: 43.6605\n",
            "Epoch 61/100\n",
            "16/16 [==============================] - 0s 2ms/step - loss: 41.3892\n",
            "Epoch 62/100\n",
            "16/16 [==============================] - 0s 2ms/step - loss: 41.4072\n",
            "Epoch 63/100\n",
            "16/16 [==============================] - 0s 2ms/step - loss: 36.1732\n",
            "Epoch 64/100\n",
            "16/16 [==============================] - 0s 2ms/step - loss: 39.3903\n",
            "Epoch 65/100\n",
            "16/16 [==============================] - 0s 3ms/step - loss: 34.2609\n",
            "Epoch 66/100\n",
            "16/16 [==============================] - 0s 2ms/step - loss: 48.4783\n",
            "Epoch 67/100\n",
            "16/16 [==============================] - 0s 2ms/step - loss: 37.0658\n",
            "Epoch 68/100\n",
            "16/16 [==============================] - 0s 2ms/step - loss: 42.8055\n",
            "Epoch 69/100\n",
            "16/16 [==============================] - 0s 2ms/step - loss: 34.7510\n",
            "Epoch 70/100\n",
            "16/16 [==============================] - 0s 2ms/step - loss: 38.0830\n",
            "Epoch 71/100\n",
            "16/16 [==============================] - 0s 2ms/step - loss: 35.8884\n",
            "Epoch 72/100\n",
            "16/16 [==============================] - 0s 2ms/step - loss: 39.6717\n",
            "Epoch 73/100\n",
            "16/16 [==============================] - 0s 2ms/step - loss: 37.0380\n",
            "Epoch 74/100\n",
            "16/16 [==============================] - 0s 2ms/step - loss: 34.4924\n",
            "Epoch 75/100\n",
            "16/16 [==============================] - 0s 2ms/step - loss: 40.7006\n",
            "Epoch 76/100\n",
            "16/16 [==============================] - 0s 2ms/step - loss: 53.7130\n",
            "Epoch 77/100\n",
            "16/16 [==============================] - 0s 2ms/step - loss: 32.6833\n",
            "Epoch 78/100\n",
            "16/16 [==============================] - 0s 2ms/step - loss: 35.0453\n",
            "Epoch 79/100\n",
            "16/16 [==============================] - 0s 2ms/step - loss: 37.7329\n",
            "Epoch 80/100\n",
            "16/16 [==============================] - 0s 2ms/step - loss: 43.8654\n",
            "Epoch 81/100\n",
            "16/16 [==============================] - 0s 2ms/step - loss: 36.9086\n",
            "Epoch 82/100\n",
            "16/16 [==============================] - 0s 2ms/step - loss: 40.4715\n",
            "Epoch 83/100\n",
            "16/16 [==============================] - 0s 2ms/step - loss: 41.5689\n",
            "Epoch 84/100\n",
            "16/16 [==============================] - 0s 2ms/step - loss: 44.8559\n",
            "Epoch 85/100\n",
            "16/16 [==============================] - 0s 2ms/step - loss: 38.2183\n",
            "Epoch 86/100\n",
            "16/16 [==============================] - 0s 2ms/step - loss: 38.2837\n",
            "Epoch 87/100\n",
            "16/16 [==============================] - 0s 2ms/step - loss: 34.4990\n",
            "Epoch 88/100\n",
            "16/16 [==============================] - 0s 2ms/step - loss: 39.7915\n",
            "Epoch 89/100\n",
            "16/16 [==============================] - 0s 2ms/step - loss: 33.6524\n",
            "Epoch 90/100\n",
            "16/16 [==============================] - 0s 2ms/step - loss: 37.3928\n",
            "Epoch 91/100\n",
            "16/16 [==============================] - 0s 2ms/step - loss: 34.3135\n",
            "Epoch 92/100\n",
            "16/16 [==============================] - 0s 2ms/step - loss: 42.9993\n",
            "Epoch 93/100\n",
            "16/16 [==============================] - 0s 2ms/step - loss: 32.7935\n",
            "Epoch 94/100\n",
            "16/16 [==============================] - 0s 2ms/step - loss: 34.2915\n",
            "Epoch 95/100\n",
            "16/16 [==============================] - 0s 2ms/step - loss: 43.7749\n",
            "Epoch 96/100\n",
            "16/16 [==============================] - 0s 2ms/step - loss: 38.7844\n",
            "Epoch 97/100\n",
            "16/16 [==============================] - 0s 2ms/step - loss: 38.9381\n",
            "Epoch 98/100\n",
            "16/16 [==============================] - 0s 2ms/step - loss: 40.6521\n",
            "Epoch 99/100\n",
            "16/16 [==============================] - 0s 2ms/step - loss: 38.0829\n",
            "Epoch 100/100\n",
            "16/16 [==============================] - 0s 2ms/step - loss: 31.9595\n"
          ],
          "name": "stdout"
        },
        {
          "output_type": "execute_result",
          "data": {
            "text/plain": [
              "<tensorflow.python.keras.callbacks.History at 0x7fab621417b8>"
            ]
          },
          "metadata": {
            "tags": []
          },
          "execution_count": 5
        }
      ]
    },
    {
      "cell_type": "code",
      "metadata": {
        "id": "7myiwud5Opdo",
        "colab": {
          "base_uri": "https://localhost:8080/"
        },
        "outputId": "a9c7d1a6-e37c-44f3-b4e0-77d6f323f79a"
      },
      "source": [
        "# 모델을 이용합니다\n",
        "print(model.predict(독립[:5]))\n",
        "print(종속[:5])"
      ],
      "execution_count": 6,
      "outputs": [
        {
          "output_type": "stream",
          "text": [
            "[[26.805895]\n",
            " [24.169666]\n",
            " [28.320663]\n",
            " [29.998419]\n",
            " [28.62973 ]]\n",
            "   medv\n",
            "0  24.0\n",
            "1  21.6\n",
            "2  34.7\n",
            "3  33.4\n",
            "4  36.2\n"
          ],
          "name": "stdout"
        }
      ]
    },
    {
      "cell_type": "markdown",
      "metadata": {
        "id": "UNjrnjjeOzJr"
      },
      "source": [
        "# 아이리스 품종 분류\n"
      ]
    },
    {
      "cell_type": "code",
      "metadata": {
        "id": "8UaitxOBOyrF",
        "colab": {
          "base_uri": "https://localhost:8080/"
        },
        "outputId": "a5734963-97f5-432f-cb3a-74c95b7b9be2"
      },
      "source": [
        "# 과거의 데이터를 준비합니다.\n",
        "파일경로 = 'https://raw.githubusercontent.com/blackdew/tensorflow1/master/csv/iris.csv'\n",
        "아이리스 = pd.read_csv(파일경로)\n",
        "\n",
        "# 원핫인코딩\n",
        "아이리스 = pd.get_dummies(아이리스)\n",
        "\n",
        "# 종속변수, 독립변수\n",
        "독립 = 아이리스[['꽃잎길이', '꽃잎폭', '꽃받침길이', '꽃받침폭']]\n",
        "종속 = 아이리스[['품종_setosa', '품종_versicolor', '품종_virginica']]\n",
        "print(독립.shape, 종속.shape)"
      ],
      "execution_count": 7,
      "outputs": [
        {
          "output_type": "stream",
          "text": [
            "(150, 4) (150, 3)\n"
          ],
          "name": "stdout"
        }
      ]
    },
    {
      "cell_type": "code",
      "metadata": {
        "id": "WybEdUjlO1UY"
      },
      "source": [
        "# 모델의 구조를 만듭니다\n",
        "X = tf.keras.layers.Input(shape=[4])\n",
        "H = tf.keras.layers.Dense(8, activation=\"swish\")(X)\n",
        "H = tf.keras.layers.Dense(8, activation=\"swish\")(H)\n",
        "H = tf.keras.layers.Dense(8, activation=\"swish\")(H)\n",
        "Y = tf.keras.layers.Dense(3, activation='softmax')(H)\n",
        "model = tf.keras.models.Model(X, Y)\n",
        "model.compile(loss='categorical_crossentropy',\n",
        "              metrics='accuracy')"
      ],
      "execution_count": 8,
      "outputs": []
    },
    {
      "cell_type": "code",
      "metadata": {
        "id": "1pMmno2taozU",
        "colab": {
          "base_uri": "https://localhost:8080/"
        },
        "outputId": "96a6c20f-68f7-4e3e-ac8c-4211d64af079"
      },
      "source": [
        "# 모델 구조 확인\n",
        "model.summary()"
      ],
      "execution_count": 9,
      "outputs": [
        {
          "output_type": "stream",
          "text": [
            "Model: \"model_1\"\n",
            "_________________________________________________________________\n",
            "Layer (type)                 Output Shape              Param #   \n",
            "=================================================================\n",
            "input_2 (InputLayer)         [(None, 4)]               0         \n",
            "_________________________________________________________________\n",
            "dense_2 (Dense)              (None, 8)                 40        \n",
            "_________________________________________________________________\n",
            "dense_3 (Dense)              (None, 8)                 72        \n",
            "_________________________________________________________________\n",
            "dense_4 (Dense)              (None, 8)                 72        \n",
            "_________________________________________________________________\n",
            "dense_5 (Dense)              (None, 3)                 27        \n",
            "=================================================================\n",
            "Total params: 211\n",
            "Trainable params: 211\n",
            "Non-trainable params: 0\n",
            "_________________________________________________________________\n"
          ],
          "name": "stdout"
        }
      ]
    },
    {
      "cell_type": "code",
      "metadata": {
        "id": "19E6GPw9O2Ge",
        "colab": {
          "base_uri": "https://localhost:8080/"
        },
        "outputId": "b61cf639-e814-4e52-92f8-5518e6f609d4"
      },
      "source": [
        "# 데이터로 모델을 학습(FIT)합니다.\n",
        "model.fit(독립, 종속, epochs=100)"
      ],
      "execution_count": 10,
      "outputs": [
        {
          "output_type": "stream",
          "text": [
            "Epoch 1/100\n",
            "5/5 [==============================] - 0s 3ms/step - loss: 1.2980 - accuracy: 0.3815\n",
            "Epoch 2/100\n",
            "5/5 [==============================] - 0s 3ms/step - loss: 1.1766 - accuracy: 0.3780\n",
            "Epoch 3/100\n",
            "5/5 [==============================] - 0s 3ms/step - loss: 1.1712 - accuracy: 0.3112\n",
            "Epoch 4/100\n",
            "5/5 [==============================] - 0s 3ms/step - loss: 1.1047 - accuracy: 0.3737\n",
            "Epoch 5/100\n",
            "5/5 [==============================] - 0s 3ms/step - loss: 1.0674 - accuracy: 0.3429\n",
            "Epoch 6/100\n",
            "5/5 [==============================] - 0s 3ms/step - loss: 1.0497 - accuracy: 0.3440\n",
            "Epoch 7/100\n",
            "5/5 [==============================] - 0s 3ms/step - loss: 1.0052 - accuracy: 0.5377\n",
            "Epoch 8/100\n",
            "5/5 [==============================] - 0s 3ms/step - loss: 0.9774 - accuracy: 0.6342\n",
            "Epoch 9/100\n",
            "5/5 [==============================] - 0s 3ms/step - loss: 0.9443 - accuracy: 0.5904\n",
            "Epoch 10/100\n",
            "5/5 [==============================] - 0s 4ms/step - loss: 0.9090 - accuracy: 0.5787\n",
            "Epoch 11/100\n",
            "5/5 [==============================] - 0s 3ms/step - loss: 0.8806 - accuracy: 0.6885\n",
            "Epoch 12/100\n",
            "5/5 [==============================] - 0s 3ms/step - loss: 0.8600 - accuracy: 0.6777\n",
            "Epoch 13/100\n",
            "5/5 [==============================] - 0s 3ms/step - loss: 0.8185 - accuracy: 0.6772\n",
            "Epoch 14/100\n",
            "5/5 [==============================] - 0s 3ms/step - loss: 0.7924 - accuracy: 0.6728\n",
            "Epoch 15/100\n",
            "5/5 [==============================] - 0s 3ms/step - loss: 0.7608 - accuracy: 0.6589\n",
            "Epoch 16/100\n",
            "5/5 [==============================] - 0s 5ms/step - loss: 0.7338 - accuracy: 0.6711\n",
            "Epoch 17/100\n",
            "5/5 [==============================] - 0s 3ms/step - loss: 0.6993 - accuracy: 0.6780\n",
            "Epoch 18/100\n",
            "5/5 [==============================] - 0s 3ms/step - loss: 0.6702 - accuracy: 0.6772\n",
            "Epoch 19/100\n",
            "5/5 [==============================] - 0s 3ms/step - loss: 0.6504 - accuracy: 0.6659\n",
            "Epoch 20/100\n",
            "5/5 [==============================] - 0s 3ms/step - loss: 0.5953 - accuracy: 0.7376\n",
            "Epoch 21/100\n",
            "5/5 [==============================] - 0s 3ms/step - loss: 0.5989 - accuracy: 0.6842\n",
            "Epoch 22/100\n",
            "5/5 [==============================] - 0s 3ms/step - loss: 0.5505 - accuracy: 0.7272\n",
            "Epoch 23/100\n",
            "5/5 [==============================] - 0s 3ms/step - loss: 0.5597 - accuracy: 0.7188\n",
            "Epoch 24/100\n",
            "5/5 [==============================] - 0s 3ms/step - loss: 0.5336 - accuracy: 0.7223\n",
            "Epoch 25/100\n",
            "5/5 [==============================] - 0s 3ms/step - loss: 0.4930 - accuracy: 0.7786\n",
            "Epoch 26/100\n",
            "5/5 [==============================] - 0s 3ms/step - loss: 0.4820 - accuracy: 0.7953\n",
            "Epoch 27/100\n",
            "5/5 [==============================] - 0s 3ms/step - loss: 0.4563 - accuracy: 0.7887\n",
            "Epoch 28/100\n",
            "5/5 [==============================] - 0s 3ms/step - loss: 0.4394 - accuracy: 0.8211\n",
            "Epoch 29/100\n",
            "5/5 [==============================] - 0s 4ms/step - loss: 0.4061 - accuracy: 0.8546\n",
            "Epoch 30/100\n",
            "5/5 [==============================] - 0s 3ms/step - loss: 0.4209 - accuracy: 0.8498\n",
            "Epoch 31/100\n",
            "5/5 [==============================] - 0s 3ms/step - loss: 0.4017 - accuracy: 0.8161\n",
            "Epoch 32/100\n",
            "5/5 [==============================] - 0s 3ms/step - loss: 0.3687 - accuracy: 0.9163\n",
            "Epoch 33/100\n",
            "5/5 [==============================] - 0s 3ms/step - loss: 0.3741 - accuracy: 0.9233\n",
            "Epoch 34/100\n",
            "5/5 [==============================] - 0s 3ms/step - loss: 0.3514 - accuracy: 0.9234\n",
            "Epoch 35/100\n",
            "5/5 [==============================] - 0s 3ms/step - loss: 0.3347 - accuracy: 0.9117\n",
            "Epoch 36/100\n",
            "5/5 [==============================] - 0s 3ms/step - loss: 0.3425 - accuracy: 0.9467\n",
            "Epoch 37/100\n",
            "5/5 [==============================] - 0s 3ms/step - loss: 0.3093 - accuracy: 0.9484\n",
            "Epoch 38/100\n",
            "5/5 [==============================] - 0s 4ms/step - loss: 0.3176 - accuracy: 0.9484\n",
            "Epoch 39/100\n",
            "5/5 [==============================] - 0s 3ms/step - loss: 0.3066 - accuracy: 0.9763\n",
            "Epoch 40/100\n",
            "5/5 [==============================] - 0s 5ms/step - loss: 0.3078 - accuracy: 0.9480\n",
            "Epoch 41/100\n",
            "5/5 [==============================] - 0s 4ms/step - loss: 0.2590 - accuracy: 0.9763\n",
            "Epoch 42/100\n",
            "5/5 [==============================] - 0s 3ms/step - loss: 0.2740 - accuracy: 0.9694\n",
            "Epoch 43/100\n",
            "5/5 [==============================] - 0s 3ms/step - loss: 0.2534 - accuracy: 0.9628\n",
            "Epoch 44/100\n",
            "5/5 [==============================] - 0s 3ms/step - loss: 0.2466 - accuracy: 0.9703\n",
            "Epoch 45/100\n",
            "5/5 [==============================] - 0s 3ms/step - loss: 0.2316 - accuracy: 0.9728\n",
            "Epoch 46/100\n",
            "5/5 [==============================] - 0s 3ms/step - loss: 0.2384 - accuracy: 0.9664\n",
            "Epoch 47/100\n",
            "5/5 [==============================] - 0s 3ms/step - loss: 0.2266 - accuracy: 0.9720\n",
            "Epoch 48/100\n",
            "5/5 [==============================] - 0s 4ms/step - loss: 0.2189 - accuracy: 0.9703\n",
            "Epoch 49/100\n",
            "5/5 [==============================] - 0s 3ms/step - loss: 0.2137 - accuracy: 0.9768\n",
            "Epoch 50/100\n",
            "5/5 [==============================] - 0s 3ms/step - loss: 0.1969 - accuracy: 0.9807\n",
            "Epoch 51/100\n",
            "5/5 [==============================] - 0s 3ms/step - loss: 0.1861 - accuracy: 0.9817\n",
            "Epoch 52/100\n",
            "5/5 [==============================] - 0s 3ms/step - loss: 0.1761 - accuracy: 0.9812\n",
            "Epoch 53/100\n",
            "5/5 [==============================] - 0s 3ms/step - loss: 0.1711 - accuracy: 0.9855\n",
            "Epoch 54/100\n",
            "5/5 [==============================] - 0s 3ms/step - loss: 0.1748 - accuracy: 0.9886\n",
            "Epoch 55/100\n",
            "5/5 [==============================] - 0s 4ms/step - loss: 0.1710 - accuracy: 0.9768\n",
            "Epoch 56/100\n",
            "5/5 [==============================] - 0s 3ms/step - loss: 0.1597 - accuracy: 0.9746\n",
            "Epoch 57/100\n",
            "5/5 [==============================] - 0s 3ms/step - loss: 0.1474 - accuracy: 0.9764\n",
            "Epoch 58/100\n",
            "5/5 [==============================] - 0s 3ms/step - loss: 0.1376 - accuracy: 0.9855\n",
            "Epoch 59/100\n",
            "5/5 [==============================] - 0s 3ms/step - loss: 0.1549 - accuracy: 0.9899\n",
            "Epoch 60/100\n",
            "5/5 [==============================] - 0s 3ms/step - loss: 0.1393 - accuracy: 0.9899\n",
            "Epoch 61/100\n",
            "5/5 [==============================] - 0s 3ms/step - loss: 0.1639 - accuracy: 0.9638\n",
            "Epoch 62/100\n",
            "5/5 [==============================] - 0s 3ms/step - loss: 0.1368 - accuracy: 0.9817\n",
            "Epoch 63/100\n",
            "5/5 [==============================] - 0s 3ms/step - loss: 0.1188 - accuracy: 0.9925\n",
            "Epoch 64/100\n",
            "5/5 [==============================] - 0s 3ms/step - loss: 0.1360 - accuracy: 0.9791\n",
            "Epoch 65/100\n",
            "5/5 [==============================] - 0s 3ms/step - loss: 0.1225 - accuracy: 0.9843\n",
            "Epoch 66/100\n",
            "5/5 [==============================] - 0s 3ms/step - loss: 0.1223 - accuracy: 0.9877\n",
            "Epoch 67/100\n",
            "5/5 [==============================] - 0s 3ms/step - loss: 0.1048 - accuracy: 0.9956\n",
            "Epoch 68/100\n",
            "5/5 [==============================] - 0s 3ms/step - loss: 0.1094 - accuracy: 0.9764\n",
            "Epoch 69/100\n",
            "5/5 [==============================] - 0s 3ms/step - loss: 0.1138 - accuracy: 0.9899\n",
            "Epoch 70/100\n",
            "5/5 [==============================] - 0s 4ms/step - loss: 0.1001 - accuracy: 0.9925\n",
            "Epoch 71/100\n",
            "5/5 [==============================] - 0s 3ms/step - loss: 0.1131 - accuracy: 0.9790\n",
            "Epoch 72/100\n",
            "5/5 [==============================] - 0s 3ms/step - loss: 0.0891 - accuracy: 0.9912\n",
            "Epoch 73/100\n",
            "5/5 [==============================] - 0s 3ms/step - loss: 0.1100 - accuracy: 0.9712\n",
            "Epoch 74/100\n",
            "5/5 [==============================] - 0s 3ms/step - loss: 0.1067 - accuracy: 0.9890\n",
            "Epoch 75/100\n",
            "5/5 [==============================] - 0s 3ms/step - loss: 0.0845 - accuracy: 0.9850\n",
            "Epoch 76/100\n",
            "5/5 [==============================] - 0s 3ms/step - loss: 0.1045 - accuracy: 0.9816\n",
            "Epoch 77/100\n",
            "5/5 [==============================] - 0s 3ms/step - loss: 0.0838 - accuracy: 0.9864\n",
            "Epoch 78/100\n",
            "5/5 [==============================] - 0s 3ms/step - loss: 0.0765 - accuracy: 0.9899\n",
            "Epoch 79/100\n",
            "5/5 [==============================] - 0s 3ms/step - loss: 0.1018 - accuracy: 0.9812\n",
            "Epoch 80/100\n",
            "5/5 [==============================] - 0s 3ms/step - loss: 0.0936 - accuracy: 0.9794\n",
            "Epoch 81/100\n",
            "5/5 [==============================] - 0s 3ms/step - loss: 0.1077 - accuracy: 0.9768\n",
            "Epoch 82/100\n",
            "5/5 [==============================] - 0s 3ms/step - loss: 0.0866 - accuracy: 0.9847\n",
            "Epoch 83/100\n",
            "5/5 [==============================] - 0s 3ms/step - loss: 0.0900 - accuracy: 0.9759\n",
            "Epoch 84/100\n",
            "5/5 [==============================] - 0s 3ms/step - loss: 0.0741 - accuracy: 0.9907\n",
            "Epoch 85/100\n",
            "5/5 [==============================] - 0s 3ms/step - loss: 0.1003 - accuracy: 0.9817\n",
            "Epoch 86/100\n",
            "5/5 [==============================] - 0s 3ms/step - loss: 0.0820 - accuracy: 0.9851\n",
            "Epoch 87/100\n",
            "5/5 [==============================] - 0s 3ms/step - loss: 0.0908 - accuracy: 0.9738\n",
            "Epoch 88/100\n",
            "5/5 [==============================] - 0s 4ms/step - loss: 0.0708 - accuracy: 0.9872\n",
            "Epoch 89/100\n",
            "5/5 [==============================] - 0s 3ms/step - loss: 0.0885 - accuracy: 0.9703\n",
            "Epoch 90/100\n",
            "5/5 [==============================] - 0s 3ms/step - loss: 0.1094 - accuracy: 0.9739\n",
            "Epoch 91/100\n",
            "5/5 [==============================] - 0s 3ms/step - loss: 0.0821 - accuracy: 0.9860\n",
            "Epoch 92/100\n",
            "5/5 [==============================] - 0s 3ms/step - loss: 0.0756 - accuracy: 0.9790\n",
            "Epoch 93/100\n",
            "5/5 [==============================] - 0s 3ms/step - loss: 0.0932 - accuracy: 0.9660\n",
            "Epoch 94/100\n",
            "5/5 [==============================] - 0s 3ms/step - loss: 0.0736 - accuracy: 0.9873\n",
            "Epoch 95/100\n",
            "5/5 [==============================] - 0s 3ms/step - loss: 0.0654 - accuracy: 0.9943\n",
            "Epoch 96/100\n",
            "5/5 [==============================] - 0s 4ms/step - loss: 0.0745 - accuracy: 0.9899\n",
            "Epoch 97/100\n",
            "5/5 [==============================] - 0s 4ms/step - loss: 0.0816 - accuracy: 0.9746\n",
            "Epoch 98/100\n",
            "5/5 [==============================] - 0s 4ms/step - loss: 0.0808 - accuracy: 0.9842\n",
            "Epoch 99/100\n",
            "5/5 [==============================] - 0s 6ms/step - loss: 0.0691 - accuracy: 0.9907\n",
            "Epoch 100/100\n",
            "5/5 [==============================] - 0s 4ms/step - loss: 0.0825 - accuracy: 0.9812\n"
          ],
          "name": "stdout"
        },
        {
          "output_type": "execute_result",
          "data": {
            "text/plain": [
              "<tensorflow.python.keras.callbacks.History at 0x7fab500487f0>"
            ]
          },
          "metadata": {
            "tags": []
          },
          "execution_count": 10
        }
      ]
    },
    {
      "cell_type": "code",
      "metadata": {
        "id": "S2zow9BvO3hx",
        "colab": {
          "base_uri": "https://localhost:8080/"
        },
        "outputId": "3a15c817-b35d-4adb-f1c0-770e03d85bc0"
      },
      "source": [
        "# 모델을 이용합니다\n",
        "print(model.predict(독립[0:5]))\n",
        "print(종속[0:5])"
      ],
      "execution_count": 11,
      "outputs": [
        {
          "output_type": "stream",
          "text": [
            "[[9.98841584e-01 1.15837483e-03 9.23073173e-08]\n",
            " [9.98281598e-01 1.71821087e-03 1.99252824e-07]\n",
            " [9.98384118e-01 1.61563081e-03 2.59163301e-07]\n",
            " [9.97506917e-01 2.49258871e-03 5.11975202e-07]\n",
            " [9.98779833e-01 1.22007553e-03 1.16342825e-07]]\n",
            "   품종_setosa  품종_versicolor  품종_virginica\n",
            "0          1              0             0\n",
            "1          1              0             0\n",
            "2          1              0             0\n",
            "3          1              0             0\n",
            "4          1              0             0\n"
          ],
          "name": "stdout"
        }
      ]
    }
  ]
}