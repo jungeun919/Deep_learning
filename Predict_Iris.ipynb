{
  "nbformat": 4,
  "nbformat_minor": 0,
  "metadata": {
    "colab": {
      "name": "Predict_Iris.ipynb",
      "provenance": [],
      "collapsed_sections": [],
      "include_colab_link": true
    },
    "kernelspec": {
      "name": "python3",
      "display_name": "Python 3"
    },
    "accelerator": "GPU"
  },
  "cells": [
    {
      "cell_type": "markdown",
      "metadata": {
        "id": "view-in-github",
        "colab_type": "text"
      },
      "source": [
        "<a href=\"https://colab.research.google.com/github/jungeun919/Deep_learning/blob/main/Predict_Iris.ipynb\" target=\"_parent\"><img src=\"https://colab.research.google.com/assets/colab-badge.svg\" alt=\"Open In Colab\"/></a>"
      ]
    },
    {
      "cell_type": "markdown",
      "metadata": {
        "id": "U5WW2-llc6Gc"
      },
      "source": [
        "# 아이리스 품종 분류\n"
      ]
    },
    {
      "cell_type": "code",
      "metadata": {
        "id": "FWqLEsGBcSFx"
      },
      "source": [
        "import tensorflow as tf\n",
        "import pandas as pd"
      ],
      "execution_count": 1,
      "outputs": []
    },
    {
      "cell_type": "code",
      "metadata": {
        "id": "jjZXFbCDc-Sb",
        "colab": {
          "base_uri": "https://localhost:8080/",
          "height": 194
        },
        "outputId": "60ef7e64-2734-4aed-bc95-8cfd4575d94c"
      },
      "source": [
        "# 과거의 데이터를 준비합니다.\n",
        "파일경로 = 'https://raw.githubusercontent.com/blackdew/tensorflow1/master/csv/iris.csv'\n",
        "아이리스 = pd.read_csv(파일경로)\n",
        "아이리스.head()"
      ],
      "execution_count": 2,
      "outputs": [
        {
          "output_type": "execute_result",
          "data": {
            "text/html": [
              "<div>\n",
              "<style scoped>\n",
              "    .dataframe tbody tr th:only-of-type {\n",
              "        vertical-align: middle;\n",
              "    }\n",
              "\n",
              "    .dataframe tbody tr th {\n",
              "        vertical-align: top;\n",
              "    }\n",
              "\n",
              "    .dataframe thead th {\n",
              "        text-align: right;\n",
              "    }\n",
              "</style>\n",
              "<table border=\"1\" class=\"dataframe\">\n",
              "  <thead>\n",
              "    <tr style=\"text-align: right;\">\n",
              "      <th></th>\n",
              "      <th>꽃잎길이</th>\n",
              "      <th>꽃잎폭</th>\n",
              "      <th>꽃받침길이</th>\n",
              "      <th>꽃받침폭</th>\n",
              "      <th>품종</th>\n",
              "    </tr>\n",
              "  </thead>\n",
              "  <tbody>\n",
              "    <tr>\n",
              "      <th>0</th>\n",
              "      <td>5.1</td>\n",
              "      <td>3.5</td>\n",
              "      <td>1.4</td>\n",
              "      <td>0.2</td>\n",
              "      <td>setosa</td>\n",
              "    </tr>\n",
              "    <tr>\n",
              "      <th>1</th>\n",
              "      <td>4.9</td>\n",
              "      <td>3.0</td>\n",
              "      <td>1.4</td>\n",
              "      <td>0.2</td>\n",
              "      <td>setosa</td>\n",
              "    </tr>\n",
              "    <tr>\n",
              "      <th>2</th>\n",
              "      <td>4.7</td>\n",
              "      <td>3.2</td>\n",
              "      <td>1.3</td>\n",
              "      <td>0.2</td>\n",
              "      <td>setosa</td>\n",
              "    </tr>\n",
              "    <tr>\n",
              "      <th>3</th>\n",
              "      <td>4.6</td>\n",
              "      <td>3.1</td>\n",
              "      <td>1.5</td>\n",
              "      <td>0.2</td>\n",
              "      <td>setosa</td>\n",
              "    </tr>\n",
              "    <tr>\n",
              "      <th>4</th>\n",
              "      <td>5.0</td>\n",
              "      <td>3.6</td>\n",
              "      <td>1.4</td>\n",
              "      <td>0.2</td>\n",
              "      <td>setosa</td>\n",
              "    </tr>\n",
              "  </tbody>\n",
              "</table>\n",
              "</div>"
            ],
            "text/plain": [
              "   꽃잎길이  꽃잎폭  꽃받침길이  꽃받침폭      품종\n",
              "0   5.1  3.5    1.4   0.2  setosa\n",
              "1   4.9  3.0    1.4   0.2  setosa\n",
              "2   4.7  3.2    1.3   0.2  setosa\n",
              "3   4.6  3.1    1.5   0.2  setosa\n",
              "4   5.0  3.6    1.4   0.2  setosa"
            ]
          },
          "metadata": {
            "tags": []
          },
          "execution_count": 2
        }
      ]
    },
    {
      "cell_type": "code",
      "metadata": {
        "id": "Pg9D5TgBhVC7",
        "colab": {
          "base_uri": "https://localhost:8080/",
          "height": 194
        },
        "outputId": "1400ecb3-a49e-4f58-e1b5-15842e933efc"
      },
      "source": [
        "# 원핫인코딩\n",
        "인코딩 = pd.get_dummies(아이리스)\n",
        "인코딩.head()"
      ],
      "execution_count": 3,
      "outputs": [
        {
          "output_type": "execute_result",
          "data": {
            "text/html": [
              "<div>\n",
              "<style scoped>\n",
              "    .dataframe tbody tr th:only-of-type {\n",
              "        vertical-align: middle;\n",
              "    }\n",
              "\n",
              "    .dataframe tbody tr th {\n",
              "        vertical-align: top;\n",
              "    }\n",
              "\n",
              "    .dataframe thead th {\n",
              "        text-align: right;\n",
              "    }\n",
              "</style>\n",
              "<table border=\"1\" class=\"dataframe\">\n",
              "  <thead>\n",
              "    <tr style=\"text-align: right;\">\n",
              "      <th></th>\n",
              "      <th>꽃잎길이</th>\n",
              "      <th>꽃잎폭</th>\n",
              "      <th>꽃받침길이</th>\n",
              "      <th>꽃받침폭</th>\n",
              "      <th>품종_setosa</th>\n",
              "      <th>품종_versicolor</th>\n",
              "      <th>품종_virginica</th>\n",
              "    </tr>\n",
              "  </thead>\n",
              "  <tbody>\n",
              "    <tr>\n",
              "      <th>0</th>\n",
              "      <td>5.1</td>\n",
              "      <td>3.5</td>\n",
              "      <td>1.4</td>\n",
              "      <td>0.2</td>\n",
              "      <td>1</td>\n",
              "      <td>0</td>\n",
              "      <td>0</td>\n",
              "    </tr>\n",
              "    <tr>\n",
              "      <th>1</th>\n",
              "      <td>4.9</td>\n",
              "      <td>3.0</td>\n",
              "      <td>1.4</td>\n",
              "      <td>0.2</td>\n",
              "      <td>1</td>\n",
              "      <td>0</td>\n",
              "      <td>0</td>\n",
              "    </tr>\n",
              "    <tr>\n",
              "      <th>2</th>\n",
              "      <td>4.7</td>\n",
              "      <td>3.2</td>\n",
              "      <td>1.3</td>\n",
              "      <td>0.2</td>\n",
              "      <td>1</td>\n",
              "      <td>0</td>\n",
              "      <td>0</td>\n",
              "    </tr>\n",
              "    <tr>\n",
              "      <th>3</th>\n",
              "      <td>4.6</td>\n",
              "      <td>3.1</td>\n",
              "      <td>1.5</td>\n",
              "      <td>0.2</td>\n",
              "      <td>1</td>\n",
              "      <td>0</td>\n",
              "      <td>0</td>\n",
              "    </tr>\n",
              "    <tr>\n",
              "      <th>4</th>\n",
              "      <td>5.0</td>\n",
              "      <td>3.6</td>\n",
              "      <td>1.4</td>\n",
              "      <td>0.2</td>\n",
              "      <td>1</td>\n",
              "      <td>0</td>\n",
              "      <td>0</td>\n",
              "    </tr>\n",
              "  </tbody>\n",
              "</table>\n",
              "</div>"
            ],
            "text/plain": [
              "   꽃잎길이  꽃잎폭  꽃받침길이  꽃받침폭  품종_setosa  품종_versicolor  품종_virginica\n",
              "0   5.1  3.5    1.4   0.2          1              0             0\n",
              "1   4.9  3.0    1.4   0.2          1              0             0\n",
              "2   4.7  3.2    1.3   0.2          1              0             0\n",
              "3   4.6  3.1    1.5   0.2          1              0             0\n",
              "4   5.0  3.6    1.4   0.2          1              0             0"
            ]
          },
          "metadata": {
            "tags": []
          },
          "execution_count": 3
        }
      ]
    },
    {
      "cell_type": "code",
      "metadata": {
        "id": "kCtE-GQJr4IC",
        "colab": {
          "base_uri": "https://localhost:8080/"
        },
        "outputId": "c60cdd61-6a32-43b2-e09b-0a4a22c85fb4"
      },
      "source": [
        "# 칼럼이름 출력\n",
        "print(인코딩.columns)"
      ],
      "execution_count": 4,
      "outputs": [
        {
          "output_type": "stream",
          "text": [
            "Index(['꽃잎길이', '꽃잎폭', '꽃받침길이', '꽃받침폭', '품종_setosa', '품종_versicolor',\n",
            "       '품종_virginica'],\n",
            "      dtype='object')\n"
          ],
          "name": "stdout"
        }
      ]
    },
    {
      "cell_type": "code",
      "metadata": {
        "id": "qetzh63uhgRx",
        "colab": {
          "base_uri": "https://localhost:8080/"
        },
        "outputId": "9633352e-f29b-4ff0-ea61-dc5d8ff7e534"
      },
      "source": [
        "# 독립변수, 종속변수\n",
        "독립 = 인코딩[['꽃잎길이', '꽃잎폭', '꽃받침길이', '꽃받침폭']]\n",
        "종속 = 인코딩[['품종_setosa', '품종_versicolor', '품종_virginica']]\n",
        "print(독립.shape, 종속.shape)"
      ],
      "execution_count": 5,
      "outputs": [
        {
          "output_type": "stream",
          "text": [
            "(150, 4) (150, 3)\n"
          ],
          "name": "stdout"
        }
      ]
    },
    {
      "cell_type": "code",
      "metadata": {
        "id": "x9LngWLtc_v7"
      },
      "source": [
        "# 모델의 구조를 만듭니다\n",
        "X = tf.keras.layers.Input(shape=[4])\n",
        "Y = tf.keras.layers.Dense(3, activation='softmax')(X)\n",
        "model = tf.keras.models.Model(X, Y)\n",
        "model.compile(loss='categorical_crossentropy',\n",
        "              metrics='accuracy')"
      ],
      "execution_count": 6,
      "outputs": []
    },
    {
      "cell_type": "code",
      "metadata": {
        "id": "J5HhGmzWdIve",
        "colab": {
          "base_uri": "https://localhost:8080/"
        },
        "outputId": "f2f71a9d-080e-4ead-8ff6-973484f6f56c"
      },
      "source": [
        "# 3.데이터로 모델을 학습(FIT)합니다.\n",
        "model.fit(독립, 종속, epochs=100)"
      ],
      "execution_count": 7,
      "outputs": [
        {
          "output_type": "stream",
          "text": [
            "Epoch 1/100\n",
            "5/5 [==============================] - 2s 3ms/step - loss: 3.4347 - accuracy: 0.3433\n",
            "Epoch 2/100\n",
            "5/5 [==============================] - 0s 3ms/step - loss: 3.3027 - accuracy: 0.3381\n",
            "Epoch 3/100\n",
            "5/5 [==============================] - 0s 3ms/step - loss: 3.2994 - accuracy: 0.3155\n",
            "Epoch 4/100\n",
            "5/5 [==============================] - 0s 3ms/step - loss: 3.0865 - accuracy: 0.3529\n",
            "Epoch 5/100\n",
            "5/5 [==============================] - 0s 3ms/step - loss: 3.0174 - accuracy: 0.3464\n",
            "Epoch 6/100\n",
            "5/5 [==============================] - 0s 2ms/step - loss: 2.9021 - accuracy: 0.3199\n",
            "Epoch 7/100\n",
            "5/5 [==============================] - 0s 2ms/step - loss: 2.7940 - accuracy: 0.3828\n",
            "Epoch 8/100\n",
            "5/5 [==============================] - 0s 3ms/step - loss: 3.0965 - accuracy: 0.3134\n",
            "Epoch 9/100\n",
            "5/5 [==============================] - 0s 2ms/step - loss: 2.8003 - accuracy: 0.2951\n",
            "Epoch 10/100\n",
            "5/5 [==============================] - 0s 2ms/step - loss: 2.5435 - accuracy: 0.3681\n",
            "Epoch 11/100\n",
            "5/5 [==============================] - 0s 2ms/step - loss: 2.7214 - accuracy: 0.2878\n",
            "Epoch 12/100\n",
            "5/5 [==============================] - 0s 2ms/step - loss: 2.6776 - accuracy: 0.3090\n",
            "Epoch 13/100\n",
            "5/5 [==============================] - 0s 6ms/step - loss: 2.7099 - accuracy: 0.3030\n",
            "Epoch 14/100\n",
            "5/5 [==============================] - 0s 5ms/step - loss: 2.3467 - accuracy: 0.3121\n",
            "Epoch 15/100\n",
            "5/5 [==============================] - 0s 4ms/step - loss: 2.4022 - accuracy: 0.3112\n",
            "Epoch 16/100\n",
            "5/5 [==============================] - 0s 4ms/step - loss: 2.2275 - accuracy: 0.3533\n",
            "Epoch 17/100\n",
            "5/5 [==============================] - 0s 4ms/step - loss: 2.0759 - accuracy: 0.3542\n",
            "Epoch 18/100\n",
            "5/5 [==============================] - 0s 6ms/step - loss: 2.2172 - accuracy: 0.3290\n",
            "Epoch 19/100\n",
            "5/5 [==============================] - 0s 5ms/step - loss: 2.0809 - accuracy: 0.3403\n",
            "Epoch 20/100\n",
            "5/5 [==============================] - 0s 5ms/step - loss: 2.0345 - accuracy: 0.3385\n",
            "Epoch 21/100\n",
            "5/5 [==============================] - 0s 8ms/step - loss: 1.9741 - accuracy: 0.3503\n",
            "Epoch 22/100\n",
            "5/5 [==============================] - 0s 4ms/step - loss: 1.9902 - accuracy: 0.3338\n",
            "Epoch 23/100\n",
            "5/5 [==============================] - 0s 4ms/step - loss: 1.9636 - accuracy: 0.3364\n",
            "Epoch 24/100\n",
            "5/5 [==============================] - 0s 4ms/step - loss: 1.8063 - accuracy: 0.3403\n",
            "Epoch 25/100\n",
            "5/5 [==============================] - 0s 5ms/step - loss: 1.8425 - accuracy: 0.3216\n",
            "Epoch 26/100\n",
            "5/5 [==============================] - 0s 5ms/step - loss: 1.6361 - accuracy: 0.3433\n",
            "Epoch 27/100\n",
            "5/5 [==============================] - 0s 3ms/step - loss: 1.8951 - accuracy: 0.3012\n",
            "Epoch 28/100\n",
            "5/5 [==============================] - 0s 4ms/step - loss: 1.5337 - accuracy: 0.3420\n",
            "Epoch 29/100\n",
            "5/5 [==============================] - 0s 4ms/step - loss: 1.6393 - accuracy: 0.3381\n",
            "Epoch 30/100\n",
            "5/5 [==============================] - 0s 3ms/step - loss: 1.5574 - accuracy: 0.3486\n",
            "Epoch 31/100\n",
            "5/5 [==============================] - 0s 3ms/step - loss: 1.5374 - accuracy: 0.3199\n",
            "Epoch 32/100\n",
            "5/5 [==============================] - 0s 3ms/step - loss: 1.4620 - accuracy: 0.3507\n",
            "Epoch 33/100\n",
            "5/5 [==============================] - 0s 5ms/step - loss: 1.3139 - accuracy: 0.3686\n",
            "Epoch 34/100\n",
            "5/5 [==============================] - 0s 4ms/step - loss: 1.3587 - accuracy: 0.3396\n",
            "Epoch 35/100\n",
            "5/5 [==============================] - 0s 6ms/step - loss: 1.3590 - accuracy: 0.3683\n",
            "Epoch 36/100\n",
            "5/5 [==============================] - 0s 5ms/step - loss: 1.2983 - accuracy: 0.3795\n",
            "Epoch 37/100\n",
            "5/5 [==============================] - 0s 5ms/step - loss: 1.3799 - accuracy: 0.3406\n",
            "Epoch 38/100\n",
            "5/5 [==============================] - 0s 5ms/step - loss: 1.2494 - accuracy: 0.3964\n",
            "Epoch 39/100\n",
            "5/5 [==============================] - 0s 6ms/step - loss: 1.1700 - accuracy: 0.4411\n",
            "Epoch 40/100\n",
            "5/5 [==============================] - 0s 5ms/step - loss: 1.1876 - accuracy: 0.4107\n",
            "Epoch 41/100\n",
            "5/5 [==============================] - 0s 8ms/step - loss: 1.1172 - accuracy: 0.4307\n",
            "Epoch 42/100\n",
            "5/5 [==============================] - 0s 4ms/step - loss: 1.0922 - accuracy: 0.4334\n",
            "Epoch 43/100\n",
            "5/5 [==============================] - 0s 3ms/step - loss: 1.0447 - accuracy: 0.4677\n",
            "Epoch 44/100\n",
            "5/5 [==============================] - 0s 3ms/step - loss: 1.0925 - accuracy: 0.4179\n",
            "Epoch 45/100\n",
            "5/5 [==============================] - 0s 2ms/step - loss: 1.0393 - accuracy: 0.4666\n",
            "Epoch 46/100\n",
            "5/5 [==============================] - 0s 3ms/step - loss: 1.0438 - accuracy: 0.4649\n",
            "Epoch 47/100\n",
            "5/5 [==============================] - 0s 3ms/step - loss: 1.0181 - accuracy: 0.4464\n",
            "Epoch 48/100\n",
            "5/5 [==============================] - 0s 3ms/step - loss: 1.0141 - accuracy: 0.4529\n",
            "Epoch 49/100\n",
            "5/5 [==============================] - 0s 3ms/step - loss: 0.9903 - accuracy: 0.4999\n",
            "Epoch 50/100\n",
            "5/5 [==============================] - 0s 3ms/step - loss: 0.9924 - accuracy: 0.4490\n",
            "Epoch 51/100\n",
            "5/5 [==============================] - 0s 3ms/step - loss: 0.9585 - accuracy: 0.4978\n",
            "Epoch 52/100\n",
            "5/5 [==============================] - 0s 3ms/step - loss: 0.9370 - accuracy: 0.5145\n",
            "Epoch 53/100\n",
            "5/5 [==============================] - 0s 4ms/step - loss: 0.9467 - accuracy: 0.4454\n",
            "Epoch 54/100\n",
            "5/5 [==============================] - 0s 3ms/step - loss: 0.9400 - accuracy: 0.3945\n",
            "Epoch 55/100\n",
            "5/5 [==============================] - 0s 3ms/step - loss: 0.9207 - accuracy: 0.4326\n",
            "Epoch 56/100\n",
            "5/5 [==============================] - 0s 2ms/step - loss: 0.9119 - accuracy: 0.4422\n",
            "Epoch 57/100\n",
            "5/5 [==============================] - 0s 2ms/step - loss: 0.8920 - accuracy: 0.4992\n",
            "Epoch 58/100\n",
            "5/5 [==============================] - 0s 3ms/step - loss: 0.8944 - accuracy: 0.4653\n",
            "Epoch 59/100\n",
            "5/5 [==============================] - 0s 2ms/step - loss: 0.8856 - accuracy: 0.4784\n",
            "Epoch 60/100\n",
            "5/5 [==============================] - 0s 2ms/step - loss: 0.8808 - accuracy: 0.4792\n",
            "Epoch 61/100\n",
            "5/5 [==============================] - 0s 3ms/step - loss: 0.8898 - accuracy: 0.4223\n",
            "Epoch 62/100\n",
            "5/5 [==============================] - 0s 3ms/step - loss: 0.8682 - accuracy: 0.4694\n",
            "Epoch 63/100\n",
            "5/5 [==============================] - 0s 3ms/step - loss: 0.8724 - accuracy: 0.4677\n",
            "Epoch 64/100\n",
            "5/5 [==============================] - 0s 2ms/step - loss: 0.8620 - accuracy: 0.4965\n",
            "Epoch 65/100\n",
            "5/5 [==============================] - 0s 3ms/step - loss: 0.8563 - accuracy: 0.5139\n",
            "Epoch 66/100\n",
            "5/5 [==============================] - 0s 2ms/step - loss: 0.8340 - accuracy: 0.5161\n",
            "Epoch 67/100\n",
            "5/5 [==============================] - 0s 3ms/step - loss: 0.8479 - accuracy: 0.5170\n",
            "Epoch 68/100\n",
            "5/5 [==============================] - 0s 3ms/step - loss: 0.8504 - accuracy: 0.4845\n",
            "Epoch 69/100\n",
            "5/5 [==============================] - 0s 3ms/step - loss: 0.8200 - accuracy: 0.5474\n",
            "Epoch 70/100\n",
            "5/5 [==============================] - 0s 3ms/step - loss: 0.8326 - accuracy: 0.5266\n",
            "Epoch 71/100\n",
            "5/5 [==============================] - 0s 3ms/step - loss: 0.8098 - accuracy: 0.4934\n",
            "Epoch 72/100\n",
            "5/5 [==============================] - 0s 3ms/step - loss: 0.8226 - accuracy: 0.5036\n",
            "Epoch 73/100\n",
            "5/5 [==============================] - 0s 3ms/step - loss: 0.7916 - accuracy: 0.5680\n",
            "Epoch 74/100\n",
            "5/5 [==============================] - 0s 3ms/step - loss: 0.8108 - accuracy: 0.4907\n",
            "Epoch 75/100\n",
            "5/5 [==============================] - 0s 3ms/step - loss: 0.7869 - accuracy: 0.5733\n",
            "Epoch 76/100\n",
            "5/5 [==============================] - 0s 3ms/step - loss: 0.8020 - accuracy: 0.5411\n",
            "Epoch 77/100\n",
            "5/5 [==============================] - 0s 3ms/step - loss: 0.7889 - accuracy: 0.5106\n",
            "Epoch 78/100\n",
            "5/5 [==============================] - 0s 3ms/step - loss: 0.7805 - accuracy: 0.5389\n",
            "Epoch 79/100\n",
            "5/5 [==============================] - 0s 3ms/step - loss: 0.7797 - accuracy: 0.5298\n",
            "Epoch 80/100\n",
            "5/5 [==============================] - 0s 3ms/step - loss: 0.7684 - accuracy: 0.5420\n",
            "Epoch 81/100\n",
            "5/5 [==============================] - 0s 3ms/step - loss: 0.7675 - accuracy: 0.5376\n",
            "Epoch 82/100\n",
            "5/5 [==============================] - 0s 3ms/step - loss: 0.7541 - accuracy: 0.5380\n",
            "Epoch 83/100\n",
            "5/5 [==============================] - 0s 3ms/step - loss: 0.7545 - accuracy: 0.5503\n",
            "Epoch 84/100\n",
            "5/5 [==============================] - 0s 3ms/step - loss: 0.7427 - accuracy: 0.5546\n",
            "Epoch 85/100\n",
            "5/5 [==============================] - 0s 3ms/step - loss: 0.7376 - accuracy: 0.5999\n",
            "Epoch 86/100\n",
            "5/5 [==============================] - 0s 3ms/step - loss: 0.7369 - accuracy: 0.5582\n",
            "Epoch 87/100\n",
            "5/5 [==============================] - 0s 2ms/step - loss: 0.7478 - accuracy: 0.5286\n",
            "Epoch 88/100\n",
            "5/5 [==============================] - 0s 3ms/step - loss: 0.7343 - accuracy: 0.5695\n",
            "Epoch 89/100\n",
            "5/5 [==============================] - 0s 2ms/step - loss: 0.7244 - accuracy: 0.5864\n",
            "Epoch 90/100\n",
            "5/5 [==============================] - 0s 4ms/step - loss: 0.7203 - accuracy: 0.5786\n",
            "Epoch 91/100\n",
            "5/5 [==============================] - 0s 3ms/step - loss: 0.7304 - accuracy: 0.5826\n",
            "Epoch 92/100\n",
            "5/5 [==============================] - 0s 3ms/step - loss: 0.6985 - accuracy: 0.5817\n",
            "Epoch 93/100\n",
            "5/5 [==============================] - 0s 4ms/step - loss: 0.7248 - accuracy: 0.5587\n",
            "Epoch 94/100\n",
            "5/5 [==============================] - 0s 3ms/step - loss: 0.7119 - accuracy: 0.5454\n",
            "Epoch 95/100\n",
            "5/5 [==============================] - 0s 3ms/step - loss: 0.7021 - accuracy: 0.5979\n",
            "Epoch 96/100\n",
            "5/5 [==============================] - 0s 3ms/step - loss: 0.7127 - accuracy: 0.5858\n",
            "Epoch 97/100\n",
            "5/5 [==============================] - 0s 3ms/step - loss: 0.6922 - accuracy: 0.6063\n",
            "Epoch 98/100\n",
            "5/5 [==============================] - 0s 3ms/step - loss: 0.7036 - accuracy: 0.5984\n",
            "Epoch 99/100\n",
            "5/5 [==============================] - 0s 3ms/step - loss: 0.6684 - accuracy: 0.6353\n",
            "Epoch 100/100\n",
            "5/5 [==============================] - 0s 3ms/step - loss: 0.6855 - accuracy: 0.5732\n"
          ],
          "name": "stdout"
        },
        {
          "output_type": "execute_result",
          "data": {
            "text/plain": [
              "<tensorflow.python.keras.callbacks.History at 0x7fde8ef79518>"
            ]
          },
          "metadata": {
            "tags": []
          },
          "execution_count": 7
        }
      ]
    },
    {
      "cell_type": "code",
      "metadata": {
        "id": "YbXAjULedNpB",
        "colab": {
          "base_uri": "https://localhost:8080/"
        },
        "outputId": "b7d550cf-c4b7-4521-95df-ba10500ceb42"
      },
      "source": [
        "# 모델을 이용합니다. \n",
        "print(model.predict(독립[:5]))\n",
        "print(종속[:5])\n",
        "\n",
        "print(model.predict(독립[-5:]))\n",
        "print(종속[-5:])\n"
      ],
      "execution_count": 8,
      "outputs": [
        {
          "output_type": "stream",
          "text": [
            "[[0.7168888  0.09093291 0.19217831]\n",
            " [0.5984407  0.13708216 0.26447713]\n",
            " [0.68790454 0.10783651 0.20425898]\n",
            " [0.66674274 0.12769012 0.20556715]\n",
            " [0.75393236 0.0811497  0.16491795]]\n",
            "   품종_setosa  품종_versicolor  품종_virginica\n",
            "0          1              0             0\n",
            "1          1              0             0\n",
            "2          1              0             0\n",
            "3          1              0             0\n",
            "4          1              0             0\n",
            "[[0.06432228 0.34936467 0.586313  ]\n",
            " [0.05783178 0.4246042  0.51756406]\n",
            " [0.08683503 0.40297082 0.5101942 ]\n",
            " [0.12981448 0.39164844 0.4785371 ]\n",
            " [0.13260525 0.45174995 0.41564474]]\n",
            "     품종_setosa  품종_versicolor  품종_virginica\n",
            "145          0              0             1\n",
            "146          0              0             1\n",
            "147          0              0             1\n",
            "148          0              0             1\n",
            "149          0              0             1\n"
          ],
          "name": "stdout"
        }
      ]
    },
    {
      "cell_type": "code",
      "metadata": {
        "id": "bgFs6C9Jidm0",
        "colab": {
          "base_uri": "https://localhost:8080/"
        },
        "outputId": "b8849312-a946-405b-e198-a2fdcce7a8c0"
      },
      "source": [
        "# weights & bias 출력\n",
        "print(model.get_weights())"
      ],
      "execution_count": 9,
      "outputs": [
        {
          "output_type": "stream",
          "text": [
            "[array([[-0.69713914, -0.36857918,  0.04123674],\n",
            "       [ 0.7897909 , -0.5237367 , -0.505409  ],\n",
            "       [ 0.25414592,  0.7628403 ,  0.16388346],\n",
            "       [-0.08121587,  0.2242655 ,  0.8904228 ]], dtype=float32), array([ 0.23295122,  0.316575  , -0.3840236 ], dtype=float32)]\n"
          ],
          "name": "stdout"
        }
      ]
    }
  ]
}