{
  "nbformat": 4,
  "nbformat_minor": 0,
  "metadata": {
    "colab": {
      "name": "Training_Linear_Model2.ipynb",
      "provenance": [],
      "collapsed_sections": [],
      "authorship_tag": "ABX9TyMznR2U7T9iutWqiJP+pIxo",
      "include_colab_link": true
    },
    "kernelspec": {
      "name": "python3",
      "display_name": "Python 3"
    },
    "language_info": {
      "name": "python"
    }
  },
  "cells": [
    {
      "cell_type": "markdown",
      "metadata": {
        "id": "view-in-github",
        "colab_type": "text"
      },
      "source": [
        "<a href=\"https://colab.research.google.com/github/jungeun919/Keras_study/blob/main/Hands-On/Training_Linear_Model2.ipynb\" target=\"_parent\"><img src=\"https://colab.research.google.com/assets/colab-badge.svg\" alt=\"Open In Colab\"/></a>"
      ]
    },
    {
      "cell_type": "markdown",
      "metadata": {
        "id": "SKR51byK74jC"
      },
      "source": [
        "# 선형회귀"
      ]
    },
    {
      "cell_type": "code",
      "metadata": {
        "id": "9b-ZMuF533cH"
      },
      "source": [
        "# 정규방정식 테스트를 위한 가상의 데이터 생성\n",
        "import numpy as np\n",
        "\n",
        "# 100개를 만듦 (행: 100, 열: 1)\n",
        "X = 2 * np.random.rand(100, 1) # training data feature의 range를 [0, 1] -> [0, 2]로 변경하기 위해 2를 곱함\n",
        "y = 4 + 3 * X + np.random.rand(100, 1) # prediction 식, np.random.rand()는 noise"
      ],
      "execution_count": null,
      "outputs": []
    },
    {
      "cell_type": "code",
      "metadata": {
        "colab": {
          "base_uri": "https://localhost:8080/"
        },
        "id": "5a9_tADQ4cJ6",
        "outputId": "85255503-0fee-4af5-eb9f-0ba48c9ac3a3"
      },
      "source": [
        "X_b = np.c_[np.ones((100, 1)), X] # 모든 샘플에 x0 = 1을 추가, 1로 채워진 100 * 1 행렬은 만든 뒤 행렬을 붙임 (-> 100 * 2)\n",
        "theta_best = np.linalg.inv(X_b.T.dot(X_b)).dot(X_b.T).dot(y) # 정규방정식\n",
        "# inv(): 사용해 역행렬 계산\n",
        "# dot(): 행렬 곱셈 계산\n",
        "\n",
        "theta_best # 정규방정식으로 계산한 값 확인"
      ],
      "execution_count": null,
      "outputs": [
        {
          "output_type": "execute_result",
          "data": {
            "text/plain": [
              "array([[4.52622642],\n",
              "       [2.98594552]])"
            ]
          },
          "metadata": {
            "tags": []
          },
          "execution_count": 2
        }
      ]
    },
    {
      "cell_type": "code",
      "metadata": {
        "colab": {
          "base_uri": "https://localhost:8080/"
        },
        "id": "XlV4_hmH6IE5",
        "outputId": "166766c8-4203-4b3e-93e7-d1bb8f18a957"
      },
      "source": [
        "X_new = np.array([[0], [2]])\n",
        "X_new_b = np.c_[np.ones((2, 1)), X_new] # 모든 샘플에 x0 = 1을 추가\n",
        "# [1  0\n",
        "#  1  2]\n",
        "\n",
        "y_predict = X_new_b.dot(theta_best)\n",
        "y_predict # X_new에 대한 예측값 확인"
      ],
      "execution_count": null,
      "outputs": [
        {
          "output_type": "execute_result",
          "data": {
            "text/plain": [
              "array([[ 4.52622642],\n",
              "       [10.49811747]])"
            ]
          },
          "metadata": {
            "tags": []
          },
          "execution_count": 3
        }
      ]
    },
    {
      "cell_type": "code",
      "metadata": {
        "colab": {
          "base_uri": "https://localhost:8080/",
          "height": 265
        },
        "id": "fMNUVFlH61ik",
        "outputId": "ed696215-76e9-4717-842a-feeb8a047f63"
      },
      "source": [
        "# 모델의 예측을 그래프화\n",
        "import matplotlib.pyplot as plt\n",
        "\n",
        "plt.plot(X_new, y_predict, \"r--\")\n",
        "plt.plot(X, y, \"b.\")\n",
        "plt.axis([0, 2, 0, 15])\n",
        "plt.show()"
      ],
      "execution_count": null,
      "outputs": [
        {
          "output_type": "display_data",
          "data": {
            "image/png": "[encoded data removed]",
            "text/plain": [
              "<Figure size 432x288 with 1 Axes>"
            ]
          },
          "metadata": {
            "tags": [],
            "needs_background": "light"
          }
        }
      ]
    },
    {
      "cell_type": "code",
      "metadata": {
        "colab": {
          "base_uri": "https://localhost:8080/"
        },
        "id": "ZAD7dmKq7sZY",
        "outputId": "055a1700-2954-4c75-cff6-913da1e56780"
      },
      "source": [
        "# 사이킷런으로 선형회귀 예측\n",
        "from sklearn.linear_model import LinearRegression\n",
        "\n",
        "lin_reg = LinearRegression()\n",
        "lin_reg.fit(X, y) # 훈련\n",
        "lin_reg.intercept_, lin_reg.coef_ # 세타0, 세타1에 대한 값 확인"
      ],
      "execution_count": null,
      "outputs": [
        {
          "output_type": "execute_result",
          "data": {
            "text/plain": [
              "(array([4.52622642]), array([[2.98594552]]))"
            ]
          },
          "metadata": {
            "tags": []
          },
          "execution_count": 5
        }
      ]
    },
    {
      "cell_type": "code",
      "metadata": {
        "colab": {
          "base_uri": "https://localhost:8080/"
        },
        "id": "uMF7TuLJ8Uh6",
        "outputId": "645b8726-a97b-416a-d135-e267f22be1f5"
      },
      "source": [
        "lin_reg.predict(X_new) # X_new에 대한 예측값 확인"
      ],
      "execution_count": null,
      "outputs": [
        {
          "output_type": "execute_result",
          "data": {
            "text/plain": [
              "array([[ 4.52622642],\n",
              "       [10.49811747]])"
            ]
          },
          "metadata": {
            "tags": []
          },
          "execution_count": 6
        }
      ]
    },
    {
      "cell_type": "code",
      "metadata": {
        "colab": {
          "base_uri": "https://localhost:8080/"
        },
        "id": "oj_H_b5A8w1V",
        "outputId": "70e1685a-c616-4215-8ab0-790022be1946"
      },
      "source": [
        "# LinearRegression 클래스는 scipy.linalg.lstsq 함수를 기반으로 함\n",
        "theta_best_svd, residuals, rank, s = np.linalg.lstsq(X_b, y, rcond=1e-6)\n",
        "theta_best_svd"
      ],
      "execution_count": null,
      "outputs": [
        {
          "output_type": "execute_result",
          "data": {
            "text/plain": [
              "array([[4.52622642],\n",
              "       [2.98594552]])"
            ]
          },
          "metadata": {
            "tags": []
          },
          "execution_count": 7
        }
      ]
    },
    {
      "cell_type": "code",
      "metadata": {
        "colab": {
          "base_uri": "https://localhost:8080/"
        },
        "id": "_GxztetZ9GtK",
        "outputId": "cff3250b-0890-4097-cd87-ca23788411a1"
      },
      "source": [
        "np.linalg.pinv(X_b).dot(y) # 유사역행렬 구하기"
      ],
      "execution_count": null,
      "outputs": [
        {
          "output_type": "execute_result",
          "data": {
            "text/plain": [
              "array([[4.52622642],\n",
              "       [2.98594552]])"
            ]
          },
          "metadata": {
            "tags": []
          },
          "execution_count": 8
        }
      ]
    },
    {
      "cell_type": "markdown",
      "metadata": {
        "id": "2ASLGKCj-n8z"
      },
      "source": [
        "# 경사하강법"
      ]
    },
    {
      "cell_type": "code",
      "metadata": {
        "colab": {
          "base_uri": "https://localhost:8080/"
        },
        "id": "HGDcKENw9UQw",
        "outputId": "3175593e-ca23-4c07-9854-2b23ce24cac8"
      },
      "source": [
        "# 파라미터 결정\n",
        "eta = 0.1 # 학습률\n",
        "n_iterations = 1000 # 반복 횟수\n",
        "m = 100 # 데이터 개수\n",
        "\n",
        "# 찾아야 할 모델 파라미터\n",
        "theta = np.random.randn(2, 1) # 무작위 초기화\n",
        "\n",
        "for iteration in range(n_iterations):\n",
        "    gradients = 2/m * X_b.T.dot(X_b.dot(theta) - y) # 기울기 구하기\n",
        "    theta = theta - eta * gradients # theta 갱신, 내려가는 스텝의 크기를 결정하기 위해 gradient 벡터에 학습률을 곱함\n",
        "\n",
        "theta # 값 확인 (정규방정식으로 찾은 결과와 동일)"
      ],
      "execution_count": null,
      "outputs": [
        {
          "output_type": "execute_result",
          "data": {
            "text/plain": [
              "array([[4.52622642],\n",
              "       [2.98594552]])"
            ]
          },
          "metadata": {
            "tags": []
          },
          "execution_count": 9
        }
      ]
    },
    {
      "cell_type": "code",
      "metadata": {
        "colab": {
          "base_uri": "https://localhost:8080/"
        },
        "id": "q-vbsYD9FDH3",
        "outputId": "1b2d6d96-88c1-4ee8-9665-2c1f392514b0"
      },
      "source": [
        "# 학습 스케줄을 사용한 확률적 경사하강법\n",
        "n_epochs = 50\n",
        "t0, t1 = 5, 50 # 학습 스케줄 하이퍼파라미터\n",
        "\n",
        "def learning_schedule(t):\n",
        "    return t0 / (t + t1)\n",
        "\n",
        "theta = np.random.randn(2, 1) # 무작위 초기화\n",
        "\n",
        "for epoch in range(n_epochs):\n",
        "    for i in range(m): # m: training data의 개수만큼 반복\n",
        "        random_index = np.random.randint(m)\n",
        "        xi = X_b[random_index:random_index+1] # random_index에 해당하는 샘플\n",
        "        yi = y[random_index:random_index+1]\n",
        "        gradients = 2 * xi.T.dot(xi.dot(theta) - yi)\n",
        "        eta = learning_schedule(epoch * m + 1)\n",
        "        theta = theta - eta * gradients # theta 업데이트\n",
        "\n",
        "theta # 값 확인"
      ],
      "execution_count": null,
      "outputs": [
        {
          "output_type": "execute_result",
          "data": {
            "text/plain": [
              "array([[4.51967508],\n",
              "       [2.99885747]])"
            ]
          },
          "metadata": {
            "tags": []
          },
          "execution_count": 10
        }
      ]
    },
    {
      "cell_type": "code",
      "metadata": {
        "colab": {
          "base_uri": "https://localhost:8080/"
        },
        "id": "IMIlZzVdLFCw",
        "outputId": "83a2d8dc-2bd4-4793-ace9-b7f04634c1d4"
      },
      "source": [
        "# 사이킷런을 활용하여 SGD\n",
        "from sklearn.linear_model import SGDRegressor\n",
        "\n",
        "sgd_reg = SGDRegressor(max_iter=1000, tol=1e-3, penalty=None, eta0=0.1) # 한 에포크에서 0.001보다 적게 손실이 줄어들 때까지 실행\n",
        "sgd_reg.fit(X, y.ravel()) # 훈련 사이킷런을 활용하여 SGD\n",
        "\n",
        "sgd_reg.intercept_, sgd_reg.coef_ # 정규방정식으로 구한 값과 유사한 값값"
      ],
      "execution_count": null,
      "outputs": [
        {
          "output_type": "execute_result",
          "data": {
            "text/plain": [
              "(array([4.53169918]), array([3.00791202]))"
            ]
          },
          "metadata": {
            "tags": []
          },
          "execution_count": 11
        }
      ]
    },
    {
      "cell_type": "markdown",
      "metadata": {
        "id": "2qW4CJjZMtHk"
      },
      "source": [
        "# 다항회귀"
      ]
    },
    {
      "cell_type": "code",
      "metadata": {
        "id": "S8CPIgmu5qtb"
      },
      "source": [
        "import numpy as np\n",
        "\n",
        "np.random.seed(42)"
      ],
      "execution_count": null,
      "outputs": []
    },
    {
      "cell_type": "code",
      "metadata": {
        "id": "SDZDs-SV3pA1"
      },
      "source": [
        "# 데이터셋 생성\n",
        "# 각 특성의 거듭제곱이나 특성간의 곱을 새로운 특성으로 확장하여 선형회귀를 적용\n",
        "m = 100\n",
        "X = 6 * np.random.rand(m, 1) - 3 # X의 범위: [0, 1] -> [0, 6] -> [-3, 3]의 분포를 가짐 데이터셋 생성\n",
        "y = 0.5 * X**2 + X + 2 + np.random.randn(m, 1) # np.random.randn()는 noise"
      ],
      "execution_count": null,
      "outputs": []
    },
    {
      "cell_type": "code",
      "metadata": {
        "colab": {
          "base_uri": "https://localhost:8080/"
        },
        "id": "iTQgETIRL6sX",
        "outputId": "98693704-6082-42b6-b8c6-d9eb3b010424"
      },
      "source": [
        "# 훈련 데이터 변환\n",
        "from sklearn.preprocessing import PolynomialFeatures\n",
        "\n",
        "# 훈련세트에 있는 각 특성을 제곱하여 새로운 특성으로 추가\n",
        "# X_poly는 원래 특성 X와 이 특성의 제곱을 포함\n",
        "poly_features = PolynomialFeatures(degree=2, include_bias=False)\n",
        "X_poly = poly_features.fit_transform(X)\n",
        "X[0]"
      ],
      "execution_count": null,
      "outputs": [
        {
          "output_type": "execute_result",
          "data": {
            "text/plain": [
              "array([-0.75275929])"
            ]
          },
          "metadata": {
            "tags": []
          },
          "execution_count": 14
        }
      ]
    },
    {
      "cell_type": "code",
      "metadata": {
        "colab": {
          "base_uri": "https://localhost:8080/"
        },
        "id": "NH-IhiMgMQmz",
        "outputId": "cc72e52e-9ab4-4628-beb1-a3f4022b1e0d"
      },
      "source": [
        "X_poly[0]"
      ],
      "execution_count": null,
      "outputs": [
        {
          "output_type": "execute_result",
          "data": {
            "text/plain": [
              "array([-0.75275929,  0.56664654])"
            ]
          },
          "metadata": {
            "tags": []
          },
          "execution_count": 15
        }
      ]
    },
    {
      "cell_type": "code",
      "metadata": {
        "colab": {
          "base_uri": "https://localhost:8080/"
        },
        "id": "hxf_pOH9MR61",
        "outputId": "412a60de-420b-487e-8e01-5017d2e23a2d"
      },
      "source": [
        "# 확장된 훈련 데이터에 LinearRegression 적용\n",
        "lin_reg = LinearRegression()\n",
        "lin_reg.fit(X_poly, y)\n",
        "lin_reg.intercept_, lin_reg.coef_"
      ],
      "execution_count": null,
      "outputs": [
        {
          "output_type": "execute_result",
          "data": {
            "text/plain": [
              "(array([1.78134581]), array([[0.93366893, 0.56456263]]))"
            ]
          },
          "metadata": {
            "tags": []
          },
          "execution_count": 16
        }
      ]
    },
    {
      "cell_type": "markdown",
      "metadata": {
        "id": "_uwcN1UWxknl"
      },
      "source": [
        "# ====================7주차===================="
      ]
    },
    {
      "cell_type": "code",
      "metadata": {
        "id": "6qWPQIA2-9md"
      },
      "source": [
        "# ctrl m m : markdown\n",
        "# ctrl m d : delete\n",
        "# ctrl m a : code"
      ],
      "execution_count": null,
      "outputs": []
    },
    {
      "cell_type": "markdown",
      "metadata": {
        "id": "SApqRZxu_EhM"
      },
      "source": [
        "# 학습 곡선"
      ]
    },
    {
      "cell_type": "code",
      "metadata": {
        "id": "Ph7st9wMEP_C"
      },
      "source": [
        "from sklearn.metrics import mean_squared_error\n",
        "from sklearn.model_selection import train_test_split\n",
        "\n",
        "# 훈련 데이터에서 모델의 학습 곡선을 그리는 함수\n",
        "# 그래프를 생성하기 위해 훈련 세트에서 크기가 다른 서브 세트를 만들어 모델을 여러번 훈련시킴 \n",
        "def plot_learning_curves(model, X, y):\n",
        "    X_train, X_val, y_train, y_val = train_test_split(X, y, test_size=0.2, random_state=10) # 훈련세트, 검증세트를 나눔\n",
        "    train_errors, val_errors = [], []\n",
        "    for m in range(1, len(X_train)):\n",
        "        model.fit(X_train[:m], y_train[:m])\n",
        "        y_train_predict = model.predict(X_train[:m])\n",
        "        y_val_predict = model.predict(X_val)\n",
        "        train_errors.append(mean_squared_error(y_train[:m], y_train_predict))\n",
        "        val_errors.append(mean_squared_error(y_val, y_val_predict))\n",
        "\n",
        "    plt.plot(np.sqrt(train_errors), \"r-+\", linewidth=2, label=\"train_set\")\n",
        "    plt.plot(np.sqrt(val_errors), \"b-\", linewidth=3, label=\"val_set\")"
      ],
      "execution_count": null,
      "outputs": []
    },
    {
      "cell_type": "code",
      "metadata": {
        "colab": {
          "base_uri": "https://localhost:8080/",
          "height": 269
        },
        "id": "Ib4e76weeNDU",
        "outputId": "311e974a-bc97-4295-849c-df8a9a5be278"
      },
      "source": [
        "lin_reg = LinearRegression()\n",
        "plot_learning_curves(lin_reg, X, y) # 단순 선형 회귀 모델의 학습곡선 그리기"
      ],
      "execution_count": null,
      "outputs": [
        {
          "output_type": "display_data",
          "data": {
            "image/png": "[encoded data removed]",
            "text/plain": [
              "<Figure size 432x288 with 1 Axes>"
            ]
          },
          "metadata": {
            "tags": [],
            "needs_background": "light"
          }
        }
      ]
    },
    {
      "cell_type": "code",
      "metadata": {
        "colab": {
          "base_uri": "https://localhost:8080/",
          "height": 269
        },
        "id": "4R81zTf_fD7y",
        "outputId": "3998e69c-93ce-473c-b92e-300d6f815ebf"
      },
      "source": [
        "from sklearn.pipeline import Pipeline\n",
        "\n",
        "# 다항 회귀 모델의 학습 곡선 그리기\n",
        "polynomial_regression = Pipeline([\n",
        "        (\"poly_features\", PolynomialFeatures(degree=10, include_bias=False)), # 10차 다항 회귀\n",
        "        (\"lin_reg\", LinearRegression()),\n",
        "    ])\n",
        "\n",
        "plot_learning_curves(polynomial_regression, X, y)\n",
        "plt.axis([0, 80, 0, 3])\n",
        "plt.show()\n",
        "# -> 훈련 데이터의 오차가 선형 회귀 모델보다 훨씬 낮다.\n",
        "# -> 두 곡선 사이의 공간은 훈련 데이터에서의 모델 성능이 검증 데이터보다 훨씬 좋다는 것이다. (과대적합)"
      ],
      "execution_count": null,
      "outputs": [
        {
          "output_type": "display_data",
          "data": {
            "image/png": "[encoded data removed]",
            "text/plain": [
              "<Figure size 432x288 with 1 Axes>"
            ]
          },
          "metadata": {
            "tags": [],
            "needs_background": "light"
          }
        }
      ]
    },
    {
      "cell_type": "markdown",
      "metadata": {
        "id": "JMSutHalGE9M"
      },
      "source": [
        "# 규제가 있는 선형 모델"
      ]
    },
    {
      "cell_type": "code",
      "metadata": {
        "id": "6HjV-KNUGIBl",
        "colab": {
          "base_uri": "https://localhost:8080/"
        },
        "outputId": "28f5ceca-2866-4b72-bfcb-e6ab4a9cd5dc"
      },
      "source": [
        "# 1. 릿지 회귀\n",
        "# 정규방정식을 사용한 릿지 회귀 적용\n",
        "from sklearn.linear_model import Ridge\n",
        "\n",
        "ridge_reg = Ridge(alpha=1, solver=\"cholesky\")\n",
        "ridge_reg.fit(X, y) # 훈련\n",
        "ridge_reg.predict([[1.5]])"
      ],
      "execution_count": null,
      "outputs": [
        {
          "output_type": "execute_result",
          "data": {
            "text/plain": [
              "array([[4.82497007]])"
            ]
          },
          "metadata": {
            "tags": []
          },
          "execution_count": 21
        }
      ]
    },
    {
      "cell_type": "code",
      "metadata": {
        "colab": {
          "base_uri": "https://localhost:8080/"
        },
        "id": "YVw3UvFngCnI",
        "outputId": "969f8617-135c-479d-ae81-5117ac0ad375"
      },
      "source": [
        "# 확률적 경사하강법 사용\n",
        "sgd_reg = SGDRegressor(penalty=\"l2\") # penalty l2는 SGD가 비용함수에 가중치 벡터의 노름의 제곱을 2로 나눈 규제항을 추가하게 함\n",
        "sgd_reg.fit(X, y.ravel()) # 훈련\n",
        "sgd_reg.predict([[1.5]])"
      ],
      "execution_count": null,
      "outputs": [
        {
          "output_type": "execute_result",
          "data": {
            "text/plain": [
              "array([4.80078479])"
            ]
          },
          "metadata": {
            "tags": []
          },
          "execution_count": 22
        }
      ]
    },
    {
      "cell_type": "code",
      "metadata": {
        "colab": {
          "base_uri": "https://localhost:8080/"
        },
        "id": "sMnnVisjgpyd",
        "outputId": "869296b4-5fc5-493d-8d03-55863e3dfe86"
      },
      "source": [
        "# 2. 라쏘 회귀\n",
        "# Lasso 대신 SGDRegressor(penalty=\"l1\") 사용 가능\n",
        "from sklearn.linear_model import Lasso\n",
        "\n",
        "lasso_reg = Lasso(alpha=0.1) # Lasso 클래스 사용\n",
        "lasso_reg.fit(X, y) # 모델 훈련\n",
        "lasso_reg.predict([[1.5]])"
      ],
      "execution_count": null,
      "outputs": [
        {
          "output_type": "execute_result",
          "data": {
            "text/plain": [
              "array([4.77621741])"
            ]
          },
          "metadata": {
            "tags": []
          },
          "execution_count": 23
        }
      ]
    },
    {
      "cell_type": "code",
      "metadata": {
        "colab": {
          "base_uri": "https://localhost:8080/"
        },
        "id": "iSPUONcbhGeN",
        "outputId": "f741da4a-1e4a-4890-cab1-01eb4c506cad"
      },
      "source": [
        "# 3. 엘라스틱넷\n",
        "from sklearn.linear_model import ElasticNet\n",
        "\n",
        "# ElasticNet 클래스 사용\n",
        "elastic_net = ElasticNet(alpha=0.1, l1_ratio=0.5) # l1_ratio: 혼합 비율 r (r=0: 릿지 회귀, r=1: 라쏘 회귀)\n",
        "elastic_net.fit(X, y) # 모델 훈련\n",
        "elastic_net.predict([[1.5]])"
      ],
      "execution_count": null,
      "outputs": [
        {
          "output_type": "execute_result",
          "data": {
            "text/plain": [
              "array([4.78114505])"
            ]
          },
          "metadata": {
            "tags": []
          },
          "execution_count": 24
        }
      ]
    },
    {
      "cell_type": "code",
      "metadata": {
        "id": "rjxEGhbxhqre"
      },
      "source": [
        "# 4. 조기 종료: 검증 에러가 최솟값에 도달하면 훈련을 중지\n",
        "from sklearn.base import clone\n",
        "from sklearn.preprocessing import StandardScaler\n",
        "\n",
        "# 데이터 준비\n",
        "X_train, X_val, y_train, y_val = train_test_split(X[:50], y[:50].ravel(), test_size=0.5)\n",
        "\n",
        "poly_scaler = Pipeline([\n",
        "    (\"poly_features\", PolynomialFeatures(degree=90, include_bias=False)),\n",
        "    (\"std_scaler\", StandardScaler())\n",
        "])\n",
        "\n",
        "X_train_poly_scaled = poly_scaler.fit_transform(X_train)\n",
        "X_val_poly_scaled = poly_scaler.transform(X_val)\n",
        "\n",
        "# warm_start=True로 지정하면 fit() 메서드가 호출될 때 이전 모델 파라미터에서 훈련을 이어나감\n",
        "sgd_reg = SGDRegressor(max_iter=1, tol=-np.infty, warm_start=True,\n",
        "                       penalty=None, learning_rate=\"constant\", eta0=0.0005)\n",
        "\n",
        "minimum_val_error = float(\"inf\")\n",
        "best_epoch = None\n",
        "best_model = None\n",
        "\n",
        "for epoch in range(1000):\n",
        "    sgd_reg.fit(X_train_poly_scaled, y_train)\n",
        "    y_val_predict = sgd_reg.predict(X_val_poly_scaled)\n",
        "    val_error = mean_squared_error(y_val, y_val_predict)\n",
        "    if val_error < minimum_val_error:\n",
        "        minimum_val_error = val_error\n",
        "        best_epoch = epoch\n",
        "        best_model = clone(sgd_reg)"
      ],
      "execution_count": null,
      "outputs": []
    },
    {
      "cell_type": "markdown",
      "metadata": {
        "id": "k4Lhf6AZPdUt"
      },
      "source": [
        "# 로지스틱 회귀"
      ]
    },
    {
      "cell_type": "code",
      "metadata": {
        "colab": {
          "base_uri": "https://localhost:8080/"
        },
        "id": "LDSfvirwOlLI",
        "outputId": "cb35302b-070d-4642-e161-ee5006dd93eb"
      },
      "source": [
        "# 결정 경계\n",
        "from sklearn import datasets\n",
        "\n",
        "iris = datasets.load_iris() # 데이터 로드\n",
        "list(iris.keys()) # 데이터의 key list 확인"
      ],
      "execution_count": null,
      "outputs": [
        {
          "output_type": "execute_result",
          "data": {
            "text/plain": [
              "['data', 'target', 'target_names', 'DESCR', 'feature_names', 'filename']"
            ]
          },
          "metadata": {
            "tags": []
          },
          "execution_count": 26
        }
      ]
    },
    {
      "cell_type": "code",
      "metadata": {
        "id": "9pDl2_pgTUCc"
      },
      "source": [
        "X = iris[\"data\"][:, 3:] # 꽃잎의 너비\n",
        "y = (iris[\"target\"]==2).astype(np.int) # Iris-Virginica이면 1, 아니면 0"
      ],
      "execution_count": null,
      "outputs": []
    },
    {
      "cell_type": "code",
      "metadata": {
        "colab": {
          "base_uri": "https://localhost:8080/"
        },
        "id": "oS7kwyPdk_45",
        "outputId": "deed3592-393e-456c-db86-9737502bae0b"
      },
      "source": [
        "from sklearn.linear_model import LogisticRegression\n",
        "\n",
        "log_reg = LogisticRegression()\n",
        "log_reg.fit(X, y) # 로지스틱 회귀 모델 훈련"
      ],
      "execution_count": null,
      "outputs": [
        {
          "output_type": "execute_result",
          "data": {
            "text/plain": [
              "LogisticRegression(C=1.0, class_weight=None, dual=False, fit_intercept=True,\n",
              "                   intercept_scaling=1, l1_ratio=None, max_iter=100,\n",
              "                   multi_class='auto', n_jobs=None, penalty='l2',\n",
              "                   random_state=None, solver='lbfgs', tol=0.0001, verbose=0,\n",
              "                   warm_start=False)"
            ]
          },
          "metadata": {
            "tags": []
          },
          "execution_count": 28
        }
      ]
    },
    {
      "cell_type": "code",
      "metadata": {
        "colab": {
          "base_uri": "https://localhost:8080/",
          "height": 282
        },
        "id": "NaLcZ_mXlRkn",
        "outputId": "980c6653-ac95-4356-e0d9-7876cb27b4af"
      },
      "source": [
        "# 꽃잎의 너비가 0~3cm인 꽃에 대해 모델의 추정 확률 계산 (그래프 출력)\n",
        "X_new = np.linspace(0, 3, 1000).reshape(-1, 1)\n",
        "y_proba = log_reg.predict_proba(X_new)\n",
        "plt.plot(X_new, y_proba[:, 1], \"g-\", label=\"Iris virginica\")\n",
        "plt.plot(X_new, y_proba[:, 0], \"b--\", label=\"Not Iris virginica\")"
      ],
      "execution_count": null,
      "outputs": [
        {
          "output_type": "execute_result",
          "data": {
            "text/plain": [
              "[<matplotlib.lines.Line2D at 0x7f074e821f50>]"
            ]
          },
          "metadata": {
            "tags": []
          },
          "execution_count": 29
        },
        {
          "output_type": "display_data",
          "data": {
            "image/png": "[encoded data removed]",
            "text/plain": [
              "<Figure size 432x288 with 1 Axes>"
            ]
          },
          "metadata": {
            "tags": [],
            "needs_background": "light"
          }
        }
      ]
    },
    {
      "cell_type": "code",
      "metadata": {
        "colab": {
          "base_uri": "https://localhost:8080/"
        },
        "id": "Jv3yYFHCl480",
        "outputId": "ecf0f525-3675-4b51-a136-157db9941ff5"
      },
      "source": [
        "log_reg.predict([[1.7], [1.5]]) # 로지스틱 회귀를 통해 예측"
      ],
      "execution_count": null,
      "outputs": [
        {
          "output_type": "execute_result",
          "data": {
            "text/plain": [
              "array([1, 0])"
            ]
          },
          "metadata": {
            "tags": []
          },
          "execution_count": 30
        }
      ]
    },
    {
      "cell_type": "code",
      "metadata": {
        "colab": {
          "base_uri": "https://localhost:8080/"
        },
        "id": "DoRT6VQRmIO4",
        "outputId": "98a84888-ed91-42af-9cac-f8f7990ac4b2"
      },
      "source": [
        "# 소프트맥스 회귀\n",
        "X = iris[\"data\"][:, (2, 3)] # 꽃잎 길이, 꽃잎 너비\n",
        "y = iris[\"target\"]\n",
        "\n",
        "# multi_class의 매개변수를 multinomial로 바꾸면 소프트맥스 회귀 사용 가능\n",
        "# solver 매개변수에 lbfgs 알고리즘 지정해주어야 함\n",
        "softmax_reg = LogisticRegression(multi_class=\"multinomial\", solver=\"lbfgs\", C=10)\n",
        "softmax_reg.fit(X, y)"
      ],
      "execution_count": null,
      "outputs": [
        {
          "output_type": "execute_result",
          "data": {
            "text/plain": [
              "LogisticRegression(C=10, class_weight=None, dual=False, fit_intercept=True,\n",
              "                   intercept_scaling=1, l1_ratio=None, max_iter=100,\n",
              "                   multi_class='multinomial', n_jobs=None, penalty='l2',\n",
              "                   random_state=None, solver='lbfgs', tol=0.0001, verbose=0,\n",
              "                   warm_start=False)"
            ]
          },
          "metadata": {
            "tags": []
          },
          "execution_count": 31
        }
      ]
    },
    {
      "cell_type": "code",
      "metadata": {
        "colab": {
          "base_uri": "https://localhost:8080/"
        },
        "id": "4xaCEyzonV8O",
        "outputId": "dd0a341d-0728-43e0-9bd6-679a342bb2ca"
      },
      "source": [
        "softmax_reg.predict([[5, 2]]) # 꽃잎의 길이가 5cm, 너비가 2cm인 붓꽃 예측 (클래스)"
      ],
      "execution_count": null,
      "outputs": [
        {
          "output_type": "execute_result",
          "data": {
            "text/plain": [
              "array([2])"
            ]
          },
          "metadata": {
            "tags": []
          },
          "execution_count": 32
        }
      ]
    },
    {
      "cell_type": "code",
      "metadata": {
        "colab": {
          "base_uri": "https://localhost:8080/"
        },
        "id": "eF3SptU7nhob",
        "outputId": "baf1c892-5346-48a5-ff78-3c82c3b2c351"
      },
      "source": [
        "softmax_reg.predict_proba([[5, 2]]) # 꽃잎의 길이가 5cm, 너비가 2cm인 붓꽃 예측 (확률)"
      ],
      "execution_count": null,
      "outputs": [
        {
          "output_type": "execute_result",
          "data": {
            "text/plain": [
              "array([[6.38014896e-07, 5.74929995e-02, 9.42506362e-01]])"
            ]
          },
          "metadata": {
            "tags": []
          },
          "execution_count": 33
        }
      ]
    }
  ]
}