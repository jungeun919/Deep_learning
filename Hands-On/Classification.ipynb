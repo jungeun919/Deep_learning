{
  "nbformat": 4,
  "nbformat_minor": 0,
  "metadata": {
    "colab": {
      "name": "Classification.ipynb",
      "provenance": [],
      "collapsed_sections": [],
      "authorship_tag": "ABX9TyPJLg1HgP/zO7W+noeS0fs2",
      "include_colab_link": true
    },
    "kernelspec": {
      "name": "python3",
      "display_name": "Python 3"
    },
    "language_info": {
      "name": "python"
    }
  },
  "cells": [
    {
      "cell_type": "markdown",
      "metadata": {
        "id": "view-in-github",
        "colab_type": "text"
      },
      "source": [
        "<a href=\"https://colab.research.google.com/github/jungeun919/Keras_study/blob/main/Hands-On/Classification.ipynb\" target=\"_parent\"><img src=\"https://colab.research.google.com/assets/colab-badge.svg\" alt=\"Open In Colab\"/></a>"
      ]
    },
    {
      "cell_type": "markdown",
      "metadata": {
        "id": "atKXyKmx0b7P"
      },
      "source": [
        "# MNIST"
      ]
    },
    {
      "cell_type": "code",
      "metadata": {
        "id": "yrJ-mTDVwZst"
      },
      "source": [
        "import sklearn\n",
        "import numpy as np\n",
        "import os"
      ],
      "execution_count": null,
      "outputs": []
    },
    {
      "cell_type": "code",
      "metadata": {
        "colab": {
          "base_uri": "https://localhost:8080/"
        },
        "id": "-HwQgNsiqhT6",
        "outputId": "6b8f4195-2c8f-4e03-da39-7baef28a9a90"
      },
      "source": [
        "# MNIST dataset 다운로드 (사이킷런에서 제공)\n",
        "# 사이킷런에서 읽어들인 dataset은 일반적으로 딕셔너리 구조를 가지고 있음\n",
        "from sklearn.datasets import fetch_openml\n",
        "mnist = fetch_openml('mnist_784', version=1, as_frame=False)\n",
        "mnist.keys()"
      ],
      "execution_count": null,
      "outputs": [
        {
          "output_type": "execute_result",
          "data": {
            "text/plain": [
              "dict_keys(['data', 'target', 'frame', 'feature_names', 'target_names', 'DESCR', 'details', 'categories', 'url'])"
            ]
          },
          "metadata": {
            "tags": []
          },
          "execution_count": 64
        }
      ]
    },
    {
      "cell_type": "code",
      "metadata": {
        "colab": {
          "base_uri": "https://localhost:8080/"
        },
        "id": "J5-pv1E1wChk",
        "outputId": "6060338c-2d28-4119-db10-393c00245441"
      },
      "source": [
        "# 배열 살펴보기\n",
        "X, y = mnist[\"data\"], mnist[\"target\"]\n",
        "X.shape # image: 70000개, 특성: 784개 (28 * 28 픽셀)"
      ],
      "execution_count": null,
      "outputs": [
        {
          "output_type": "execute_result",
          "data": {
            "text/plain": [
              "(70000, 784)"
            ]
          },
          "metadata": {
            "tags": []
          },
          "execution_count": 65
        }
      ]
    },
    {
      "cell_type": "code",
      "metadata": {
        "colab": {
          "base_uri": "https://localhost:8080/"
        },
        "id": "PfdwQmIaysYa",
        "outputId": "38b384e0-be39-4cd6-d951-86f549936fad"
      },
      "source": [
        "y.shape # y의 모양 확인"
      ],
      "execution_count": null,
      "outputs": [
        {
          "output_type": "execute_result",
          "data": {
            "text/plain": [
              "(70000,)"
            ]
          },
          "metadata": {
            "tags": []
          },
          "execution_count": 66
        }
      ]
    },
    {
      "cell_type": "code",
      "metadata": {
        "colab": {
          "base_uri": "https://localhost:8080/",
          "height": 248
        },
        "id": "Rm0fRFEkyuTa",
        "outputId": "4099bc00-e9f8-4bc6-8b53-ce21b254bacb"
      },
      "source": [
        "import matplotlib as mpl\n",
        "import matplotlib.pyplot as plt\n",
        "\n",
        "some_digit = X[84] # 샘플 사진 가져오기 (index 84번째 사진)\n",
        "some_digit_image = some_digit.reshape(28, 28) # 샘플의 특성을 추출해서 28*28 배열의 크기로 변경\n",
        "plt.imshow(some_digit_image, cmap=\"binary\") # 이미지 출력\n",
        "plt.axis(\"off\")\n",
        "plt.show()"
      ],
      "execution_count": null,
      "outputs": [
        {
          "output_type": "display_data",
          "data": {
            "image/png": "[encoded data removed]",
            "text/plain": [
              "<Figure size 432x288 with 1 Axes>"
            ]
          },
          "metadata": {
            "tags": [],
            "needs_background": "light"
          }
        }
      ]
    },
    {
      "cell_type": "code",
      "metadata": {
        "colab": {
          "base_uri": "https://localhost:8080/"
        },
        "id": "GS39WofR1Wwf",
        "outputId": "9958a167-fa55-4201-bc57-81fbfde39b1a"
      },
      "source": [
        "# reshape 전 shape 확인 (784,)\n",
        "some_digit.shape"
      ],
      "execution_count": null,
      "outputs": [
        {
          "output_type": "execute_result",
          "data": {
            "text/plain": [
              "(784,)"
            ]
          },
          "metadata": {
            "tags": []
          },
          "execution_count": 68
        }
      ]
    },
    {
      "cell_type": "code",
      "metadata": {
        "colab": {
          "base_uri": "https://localhost:8080/"
        },
        "id": "naLItlFN1Avw",
        "outputId": "45bfae8b-f10a-4c01-b493-439ac70a5efc"
      },
      "source": [
        "# reshape 후 shape 확인 (28, 28)\n",
        "some_digit_image.shape"
      ],
      "execution_count": null,
      "outputs": [
        {
          "output_type": "execute_result",
          "data": {
            "text/plain": [
              "(28, 28)"
            ]
          },
          "metadata": {
            "tags": []
          },
          "execution_count": 69
        }
      ]
    },
    {
      "cell_type": "code",
      "metadata": {
        "colab": {
          "base_uri": "https://localhost:8080/",
          "height": 35
        },
        "id": "9xt4XJOCyw0X",
        "outputId": "899819f1-454f-4af0-e1ee-40ebbfb22994"
      },
      "source": [
        "# 실제 레이블 확인 (string)\n",
        "y[84]"
      ],
      "execution_count": null,
      "outputs": [
        {
          "output_type": "execute_result",
          "data": {
            "application/vnd.google.colaboratory.intrinsic+json": {
              "type": "string"
            },
            "text/plain": [
              "'7'"
            ]
          },
          "metadata": {
            "tags": []
          },
          "execution_count": 70
        }
      ]
    },
    {
      "cell_type": "code",
      "metadata": {
        "id": "Me6mbiu7zS5o"
      },
      "source": [
        "# y를 정수로 변환\n",
        "y = y.astype(np.uint8) # unsigned int 8 byte"
      ],
      "execution_count": null,
      "outputs": []
    },
    {
      "cell_type": "code",
      "metadata": {
        "id": "vG7etyPAzbCo"
      },
      "source": [
        "# 훈련세트: 60000개, 테스트세트: 10000개로 나눔\n",
        "X_train, X_test, y_train, y_test = X[:60000], X[60000:], y[:60000], y[60000:]"
      ],
      "execution_count": null,
      "outputs": []
    },
    {
      "cell_type": "markdown",
      "metadata": {
        "id": "t8TiMUhy5MwC"
      },
      "source": [
        "# 이진 분류기 훈련"
      ]
    },
    {
      "cell_type": "code",
      "metadata": {
        "id": "RT7XSrRr0X5O"
      },
      "source": [
        "# '5-감지기'와 '5-아님' 두 개의 클래스를 구분할 수 있는 이진 분류기의 예시\n",
        "y_train_5 = (y_train == 5) # 5는 True, 나머지는 False\n",
        "y_test_5 = (y_test == 5)\n",
        "\n",
        "# '7-감지기'와 '7-아님' 두 개의 클래스를 구분할 수 있는 이진 분류기의 예시\n",
        "y_train_7 = (y_train == 7) # 7은 True, 나머지는 False\n",
        "y_test_7 = (y_test == 7)"
      ],
      "execution_count": null,
      "outputs": []
    },
    {
      "cell_type": "code",
      "metadata": {
        "colab": {
          "base_uri": "https://localhost:8080/"
        },
        "id": "UJ900Dnh5bwn",
        "outputId": "fe067e36-8a01-4c2d-f2b3-e34c0ee5a67e"
      },
      "source": [
        "# 사이킷런의 SGDClassifier 클래스를 사용해 확률적 경사 하강법 분류기로 시작\n",
        "# -> 큰 dataset을 효율적으로 처리\n",
        "# -> 한 번에 하나씩 훈련 샘플을 독립적으로 처리\n",
        "from sklearn.linear_model import SGDClassifier\n",
        "\n",
        "sgd_clf_5 = SGDClassifier(random_state=42)\n",
        "sgd_clf_5.fit(X_train, y_train_5) # 모델 훈련 (5감지)\n",
        "\n",
        "sgd_clf_7 = SGDClassifier(random_state=42)\n",
        "sgd_clf_7.fit(X_train, y_train_7) # 모델 훈련 (7감지)"
      ],
      "execution_count": null,
      "outputs": [
        {
          "output_type": "execute_result",
          "data": {
            "text/plain": [
              "SGDClassifier(alpha=0.0001, average=False, class_weight=None,\n",
              "              early_stopping=False, epsilon=0.1, eta0=0.0, fit_intercept=True,\n",
              "              l1_ratio=0.15, learning_rate='optimal', loss='hinge',\n",
              "              max_iter=1000, n_iter_no_change=5, n_jobs=None, penalty='l2',\n",
              "              power_t=0.5, random_state=42, shuffle=True, tol=0.001,\n",
              "              validation_fraction=0.1, verbose=0, warm_start=False)"
            ]
          },
          "metadata": {
            "tags": []
          },
          "execution_count": 74
        }
      ]
    },
    {
      "cell_type": "code",
      "metadata": {
        "colab": {
          "base_uri": "https://localhost:8080/"
        },
        "id": "Xy7SKoko5qXc",
        "outputId": "4244829b-2a1f-4210-8f11-c1c13bd74bac"
      },
      "source": [
        "# index 84번째 사진의 레이블은 7(!= 5) 이므로 False\n",
        "sgd_clf_5.predict([some_digit])"
      ],
      "execution_count": null,
      "outputs": [
        {
          "output_type": "execute_result",
          "data": {
            "text/plain": [
              "array([False])"
            ]
          },
          "metadata": {
            "tags": []
          },
          "execution_count": 75
        }
      ]
    },
    {
      "cell_type": "code",
      "metadata": {
        "colab": {
          "base_uri": "https://localhost:8080/"
        },
        "id": "snpcUMJr51Is",
        "outputId": "6bb5ceeb-bd13-4b93-8062-6d9502f9aa0a"
      },
      "source": [
        "# index 84번째 사진의 레이블은 7(!= 7) 이므로 True\n",
        "sgd_clf_7.predict([some_digit])"
      ],
      "execution_count": null,
      "outputs": [
        {
          "output_type": "execute_result",
          "data": {
            "text/plain": [
              "array([ True])"
            ]
          },
          "metadata": {
            "tags": []
          },
          "execution_count": 76
        }
      ]
    },
    {
      "cell_type": "markdown",
      "metadata": {
        "id": "HuJBS2kM7CR3"
      },
      "source": [
        "# 성능 측정"
      ]
    },
    {
      "cell_type": "code",
      "metadata": {
        "colab": {
          "base_uri": "https://localhost:8080/"
        },
        "id": "Fu9i9pV_66pf",
        "outputId": "c255beae-7559-4fc8-fcb3-7da3fdc389fc"
      },
      "source": [
        "# SGDClassifier 모댈 평가\n",
        "from sklearn.model_selection import cross_val_score\n",
        "\n",
        "cross_val_score(sgd_clf_5, X_train, y_train_5, cv=3, scoring=\"accuracy\") # 3개의 폴드로 나눔, 평가기준: 정확도\n",
        "# -> 결과: 모든 교차 검증 폴더에 대해 정확도 95% 이상"
      ],
      "execution_count": null,
      "outputs": [
        {
          "output_type": "execute_result",
          "data": {
            "text/plain": [
              "array([0.95035, 0.96035, 0.9604 ])"
            ]
          },
          "metadata": {
            "tags": []
          },
          "execution_count": 77
        }
      ]
    },
    {
      "cell_type": "code",
      "metadata": {
        "id": "Q-sY_tNT7NN0"
      },
      "source": [
        "# 숫자 5: True\n",
        "# 숫자 5 아님: False\n",
        "from sklearn.base import BaseEstimator\n",
        "\n",
        "class Never5Classifier(BaseEstimator):\n",
        "    def fit(self, X, y=None):\n",
        "        return self\n",
        "    def predict(self, X):\n",
        "        return np.zeros((len(X), 1), dtype=bool) # all False"
      ],
      "execution_count": null,
      "outputs": []
    },
    {
      "cell_type": "code",
      "metadata": {
        "id": "oVPQjUT58GG6"
      },
      "source": [
        "# 오차 행렬 (분류기의 성능 평가 방법)\n",
        "# cross_val_predict 함수를 이용하여 실제 타깃과 비교할 수 있도록 예측값을 만듦\n",
        "from sklearn.model_selection import cross_val_predict\n",
        "\n",
        "y_train_pred = cross_val_predict(sgd_clf_5, X_train, y_train_5, cv=3)"
      ],
      "execution_count": null,
      "outputs": []
    },
    {
      "cell_type": "code",
      "metadata": {
        "colab": {
          "base_uri": "https://localhost:8080/"
        },
        "id": "ALFDjHZNFBz5",
        "outputId": "0cde9974-25cd-49c2-ffd5-4cebdd7a884a"
      },
      "source": [
        "# confusion_matrix 함수를 통해 오차 행렬 준비\n",
        "from sklearn.metrics import confusion_matrix\n",
        "\n",
        "confusion_matrix(y_train_5, y_train_pred) # 타깃 클래스와 예측 클래스를 넣고 호출\n",
        "# -> 결과: 오차행렬의 행은 실제 클래스, 열은 예측한 클래스를 나타냄"
      ],
      "execution_count": null,
      "outputs": [
        {
          "output_type": "execute_result",
          "data": {
            "text/plain": [
              "array([[53892,   687],\n",
              "       [ 1891,  3530]])"
            ]
          },
          "metadata": {
            "tags": []
          },
          "execution_count": 80
        }
      ]
    },
    {
      "cell_type": "code",
      "metadata": {
        "colab": {
          "base_uri": "https://localhost:8080/"
        },
        "id": "v8U4xo2uFO7L",
        "outputId": "992a9a38-48c8-45ff-801d-74bac39dafe1"
      },
      "source": [
        "y_train_perfect_predictions = y_train_5 # 100% 예측 (완벽한 분류기일 경우)\n",
        "confusion_matrix(y_train_5, y_train_perfect_predictions)"
      ],
      "execution_count": null,
      "outputs": [
        {
          "output_type": "execute_result",
          "data": {
            "text/plain": [
              "array([[54579,     0],\n",
              "       [    0,  5421]])"
            ]
          },
          "metadata": {
            "tags": []
          },
          "execution_count": 81
        }
      ]
    },
    {
      "cell_type": "code",
      "metadata": {
        "colab": {
          "base_uri": "https://localhost:8080/"
        },
        "id": "AD2Wf9tLFvJN",
        "outputId": "fe52d14f-a315-44e2-d9a6-ab3e8a0bdb60"
      },
      "source": [
        "# 사이킷런에서 분류기의 지표를 계산하는 여러 함수를 제공\n",
        "# 정밀도와 재현율 계산\n",
        "from sklearn.metrics import precision_score, recall_score\n",
        "\n",
        "precision_score(y_train_5, y_train_pred) # 정밀도 계산 (TP / (TP + FP)), (TP / predicted P)"
      ],
      "execution_count": null,
      "outputs": [
        {
          "output_type": "execute_result",
          "data": {
            "text/plain": [
              "0.8370879772350012"
            ]
          },
          "metadata": {
            "tags": []
          },
          "execution_count": 82
        }
      ]
    },
    {
      "cell_type": "code",
      "metadata": {
        "colab": {
          "base_uri": "https://localhost:8080/"
        },
        "id": "YBNhcq0PGLUZ",
        "outputId": "adc0701d-3fe4-40df-88e5-72717f086cff"
      },
      "source": [
        "recall_score(y_train_5, y_train_pred) # 재현율 계산 (TP / (TP + FN)), (TP / real P)"
      ],
      "execution_count": null,
      "outputs": [
        {
          "output_type": "execute_result",
          "data": {
            "text/plain": [
              "0.6511713705958311"
            ]
          },
          "metadata": {
            "tags": []
          },
          "execution_count": 83
        }
      ]
    },
    {
      "cell_type": "code",
      "metadata": {
        "colab": {
          "base_uri": "https://localhost:8080/"
        },
        "id": "WPN_h6eJGgS-",
        "outputId": "45e0ecc1-46ac-4dab-f8ce-42e447cc18cc"
      },
      "source": [
        "# F1 score (정밀도와 재현율의 조화 평균) 계산\n",
        "from sklearn.metrics import f1_score\n",
        "\n",
        "f1_score(y_train_5, y_train_pred)"
      ],
      "execution_count": null,
      "outputs": [
        {
          "output_type": "execute_result",
          "data": {
            "text/plain": [
              "0.7325171197343846"
            ]
          },
          "metadata": {
            "tags": []
          },
          "execution_count": 84
        }
      ]
    },
    {
      "cell_type": "code",
      "metadata": {
        "colab": {
          "base_uri": "https://localhost:8080/"
        },
        "id": "-3WsSXrHG4NI",
        "outputId": "ac22179c-0a30-4d00-e88e-d0607dc8ab9f"
      },
      "source": [
        "# decision_function() 메서드를 통해 각 샘플의 점수를 얻음\n",
        "# some_digit[84] = 7\n",
        "y_scores = sgd_clf_5.decision_function([some_digit])\n",
        "y_scores"
      ],
      "execution_count": null,
      "outputs": [
        {
          "output_type": "execute_result",
          "data": {
            "text/plain": [
              "array([-12371.89046646])"
            ]
          },
          "metadata": {
            "tags": []
          },
          "execution_count": 85
        }
      ]
    },
    {
      "cell_type": "code",
      "metadata": {
        "colab": {
          "base_uri": "https://localhost:8080/"
        },
        "id": "E_RWXj6IHUZa",
        "outputId": "008ba144-2f50-4eb4-f7cc-4f2312aa3ec4"
      },
      "source": [
        "y_scores = sgd_clf_7.decision_function([some_digit])\n",
        "y_scores"
      ],
      "execution_count": null,
      "outputs": [
        {
          "output_type": "execute_result",
          "data": {
            "text/plain": [
              "array([6542.47292185])"
            ]
          },
          "metadata": {
            "tags": []
          },
          "execution_count": 86
        }
      ]
    },
    {
      "cell_type": "code",
      "metadata": {
        "colab": {
          "base_uri": "https://localhost:8080/"
        },
        "id": "iORjUv5PHbWb",
        "outputId": "162ba060-51c1-4a67-b5d8-c92befb4a694"
      },
      "source": [
        "# 임곗값이 0이므로 predict() 메서드와 같은 결과 반환\n",
        "threshold = 0\n",
        "y_some_digit_pred = (y_scores > threshold)\n",
        "y_some_digit_pred"
      ],
      "execution_count": null,
      "outputs": [
        {
          "output_type": "execute_result",
          "data": {
            "text/plain": [
              "array([ True])"
            ]
          },
          "metadata": {
            "tags": []
          },
          "execution_count": 87
        }
      ]
    },
    {
      "cell_type": "code",
      "metadata": {
        "colab": {
          "base_uri": "https://localhost:8080/"
        },
        "id": "B7OU2gYTHr9m",
        "outputId": "a9c8ddcd-6da5-4fb4-ab6d-ec68f2a240e6"
      },
      "source": [
        "# 임곗값 변경\n",
        "threshold = 8000\n",
        "y_some_digit_pred = (y_scores > threshold)\n",
        "y_some_digit_pred\n",
        "# -> 결과: False (임계값을 높이면 재현율이 줄어든다는 것을 볼 수 있음)"
      ],
      "execution_count": null,
      "outputs": [
        {
          "output_type": "execute_result",
          "data": {
            "text/plain": [
              "array([False])"
            ]
          },
          "metadata": {
            "tags": []
          },
          "execution_count": 88
        }
      ]
    },
    {
      "cell_type": "code",
      "metadata": {
        "id": "vAG2PimDHyAI"
      },
      "source": [
        "# 적절한 임계값 찾기\n",
        "# cross_val_predict() 함수를 통해 훈련 세트에 있는 모든 샘플의 점수를 구함\n",
        "# 결정 점수를 반환하도록 지정\n",
        "y_scores = cross_val_predict(sgd_clf_5, X_train, y_train_5, cv=3,\n",
        "                             method=\"decision_function\")"
      ],
      "execution_count": null,
      "outputs": []
    },
    {
      "cell_type": "code",
      "metadata": {
        "id": "TqXsG3JvIY8C"
      },
      "source": [
        "# 가능한 모든 임계값에 대해 정밀도와 재현율을 계산\n",
        "from sklearn.metrics import precision_recall_curve\n",
        "\n",
        "precisions, recalls, thresholds = precision_recall_curve(y_train_5, y_scores)"
      ],
      "execution_count": null,
      "outputs": []
    },
    {
      "cell_type": "code",
      "metadata": {
        "colab": {
          "base_uri": "https://localhost:8080/",
          "height": 288
        },
        "id": "XK5oT96gIhhJ",
        "outputId": "cd71ed9b-a235-4302-cfcb-db736c28e8f3"
      },
      "source": [
        "# 임계값의 함수로 정밀도와 재현율을 그림으로 표현\n",
        "def plot_precision_recall_vs_threshold(precisions, recalls, thresholds):\n",
        "    plt.plot(thresholds, precisions[:-1], \"b--\", label=\"Precision\", linewidth=2) # b--: blue 실선\n",
        "    plt.plot(thresholds, recalls[:-1], \"g-\", label=\"Recall\", linewidth=2) # g-: green 직선\n",
        "    plt.legend(loc=\"center right\", fontsize=16) # 범례 추가\n",
        "    plt.xlabel(\"Threshold\", fontsize=16) # x축 이름 추가\n",
        "    plt.grid(True) # 그리드 추가\n",
        "    plt.axis([-50000, 50000, 0, 1])\n",
        "\n",
        "recall_90_precision = recalls[np.argmax(precisions >= 0.90)]\n",
        "threshold_90_precision = thresholds[np.argmax(precisions >= 0.90)]\n",
        "\n",
        "plot_precision_recall_vs_threshold(precisions, recalls, thresholds)\n",
        "plt.show()\n",
        "# -> 그림 결과: 임계값을 올리더라도 정밀도가 낮아질수도 있기 때문에 정밀도 (Precision) 결과가 더 울퉁불퉁함\n",
        "# 재현율은 임계값이 올라감에 따라 줄어들 수 밖에 없기 때문에 부드러운 곡선이 됨"
      ],
      "execution_count": null,
      "outputs": [
        {
          "output_type": "display_data",
          "data": {
            "image/png": "[encoded data removed]",
            "text/plain": [
              "<Figure size 432x288 with 1 Axes>"
            ]
          },
          "metadata": {
            "tags": [],
            "needs_background": "light"
          }
        }
      ]
    },
    {
      "cell_type": "code",
      "metadata": {
        "colab": {
          "base_uri": "https://localhost:8080/",
          "height": 397
        },
        "id": "GBdqZLymdCol",
        "outputId": "2164d1ec-6f70-42e3-b42e-78cbf2af1db3"
      },
      "source": [
        "# 재현율에 대한 정밀도 곡선 그림\n",
        "def plot_precision_vs_recall(precisions, recalls):\n",
        "    plt.plot(recalls, precisions, \"b-\", linewidth=2)\n",
        "    plt.xlabel(\"Recall\", fontsize=16) # x축 이름 추가\n",
        "    plt.ylabel(\"Precision\", fontsize=16) # y축 이름 추가\n",
        "    plt.axis([0, 1, 0, 1])\n",
        "    plt.grid(True) # 그리드 추가\n",
        "\n",
        "plt.figure(figsize=(8, 6))\n",
        "plot_precision_vs_recall(precisions, recalls)\n",
        "plt.plot([recall_90_precision, recall_90_precision], [0., 0.9], \"r:\")\n",
        "plt.plot([0.0, recall_90_precision], [0.9, 0.9], \"r:\")\n",
        "plt.plot([recall_90_precision], [0.9], \"ro\")\n",
        "plt.show()"
      ],
      "execution_count": null,
      "outputs": [
        {
          "output_type": "display_data",
          "data": {
            "image/png": "[encoded data removed]",
            "text/plain": [
              "<Figure size 576x432 with 1 Axes>"
            ]
          },
          "metadata": {
            "tags": [],
            "needs_background": "light"
          }
        }
      ]
    },
    {
      "cell_type": "code",
      "metadata": {
        "id": "Awj723TXKtlN"
      },
      "source": [
        "# 최소한 90% 정밀도가 되는 가장 낮은 임계값을 찾을 수 있음\n",
        "# np.argmax()는 최댓값의 첫 번째 인덱스를 반환\n",
        "threshold_90_precision = thresholds[np.argmax(precisions >= 0.90)]"
      ],
      "execution_count": null,
      "outputs": []
    },
    {
      "cell_type": "code",
      "metadata": {
        "colab": {
          "base_uri": "https://localhost:8080/"
        },
        "id": "mVzDh9dHK9XG",
        "outputId": "cd24d8a9-b6b8-45c1-ed59-8a8709b58882"
      },
      "source": [
        "# 훈련 세트에 대한 예측 만듦\n",
        "y_train_pred_90 = (y_scores >= threshold_90_precision)\n",
        "# 예측에 대한 정밀도 확인\n",
        "precision_score(y_train_5, y_train_pred_90)"
      ],
      "execution_count": null,
      "outputs": [
        {
          "output_type": "execute_result",
          "data": {
            "text/plain": [
              "0.9000345901072293"
            ]
          },
          "metadata": {
            "tags": []
          },
          "execution_count": 94
        }
      ]
    },
    {
      "cell_type": "code",
      "metadata": {
        "colab": {
          "base_uri": "https://localhost:8080/"
        },
        "id": "u1zWaTtELH3f",
        "outputId": "c362312b-c9d5-4b88-acfc-0ebeeaac1937"
      },
      "source": [
        "# 예측에 대한 재현율 확인\n",
        "recall_score(y_train_5, y_train_pred_90)"
      ],
      "execution_count": null,
      "outputs": [
        {
          "output_type": "execute_result",
          "data": {
            "text/plain": [
              "0.4799852425751706"
            ]
          },
          "metadata": {
            "tags": []
          },
          "execution_count": 95
        }
      ]
    },
    {
      "cell_type": "code",
      "metadata": {
        "id": "3DGEVAGILMt8"
      },
      "source": [
        "# ROC 곡선: 이진 분류에서 사용하는 도구\n",
        "# ROC 곡선을 그리기 위해 roc_curve 함수를 사용\n",
        "from sklearn.metrics import roc_curve\n",
        "\n",
        "# TPR(진짜 양성 비율), FPR(거짓 양성 비율) 계산\n",
        "fpr, tpr, thresholds = roc_curve(y_train_5, y_scores)"
      ],
      "execution_count": null,
      "outputs": []
    },
    {
      "cell_type": "code",
      "metadata": {
        "colab": {
          "base_uri": "https://localhost:8080/",
          "height": 397
        },
        "id": "TT311gwgei0e",
        "outputId": "ec599f23-9b26-4984-a14d-f8a7f0113fa1"
      },
      "source": [
        "# matplotlib을 사용해 TPR에 대한 FPR 곡선 그래프를 그림\n",
        "def plot_roc_curve(fpr, tpr, label=None):\n",
        "    plt.plot(fpr, tpr, linewidth=2, label=label)\n",
        "    plt.plot([0, 1], [0, 1], 'k--') # 대각 점선\n",
        "    plt.axis([0, 1, 0, 1])\n",
        "    plt.xlabel('False Positive Rate (Fall-Out)', fontsize=16) # x축 이름 추가\n",
        "    plt.ylabel('True Positive Rate (Recall)', fontsize=16) # y축 이름 추가\n",
        "    plt.grid(True) # 그리드 추가\n",
        "\n",
        "plt.figure(figsize=(8, 6))\n",
        "plot_roc_curve(fpr, tpr)\n",
        "fpr_90 = fpr[np.argmax(tpr >= recall_90_precision)]\n",
        "plt.plot([fpr_90, fpr_90], [0., recall_90_precision], \"r:\")\n",
        "plt.plot([0.0, fpr_90], [recall_90_precision, recall_90_precision], \"r:\")\n",
        "plt.plot([fpr_90], [recall_90_precision], \"ro\")\n",
        "plt.show()\n",
        "# 왼쪽 모서리를 찍을수록 좋은 커브라고 할 수 있음"
      ],
      "execution_count": null,
      "outputs": [
        {
          "output_type": "display_data",
          "data": {
            "image/png": "[encoded data removed]",
            "text/plain": [
              "<Figure size 576x432 with 1 Axes>"
            ]
          },
          "metadata": {
            "tags": [],
            "needs_background": "light"
          }
        }
      ]
    },
    {
      "cell_type": "code",
      "metadata": {
        "colab": {
          "base_uri": "https://localhost:8080/"
        },
        "id": "X72yFluCfVjD",
        "outputId": "e77b1386-349d-4aeb-d803-2bc10b063a7c"
      },
      "source": [
        "# 곡선 아래의 면적 (AUC) 측정\n",
        "# 완벽한 분류기: AUC = 1\n",
        "# 랜덤 분류기: AUC = 0.5\n",
        "from sklearn.metrics import roc_auc_score\n",
        "\n",
        "roc_auc_score(y_train_5, y_scores)"
      ],
      "execution_count": null,
      "outputs": [
        {
          "output_type": "execute_result",
          "data": {
            "text/plain": [
              "0.9604938554008616"
            ]
          },
          "metadata": {
            "tags": []
          },
          "execution_count": 98
        }
      ]
    },
    {
      "cell_type": "code",
      "metadata": {
        "id": "hVK14Qivf9mg"
      },
      "source": [
        "# RandomForestClassifier를 훈련시켜 SGDClassifier의 ROC곡선, AUC 점수 비교\n",
        "from sklearn.ensemble import RandomForestClassifier\n",
        "\n",
        "forest_clf = RandomForestClassifier(n_estimators=100, random_state=42)\n",
        "y_probas_forest = cross_val_predict(forest_clf, X_train, y_train_5, cv=3, method=\"predict_proba\")\n",
        "# predict_proba: 샘플이 행, 클래스가 열이고 샘플이 주어진 클래스에 속할 확률을 담은 배열을 반환"
      ],
      "execution_count": null,
      "outputs": []
    },
    {
      "cell_type": "code",
      "metadata": {
        "id": "Ob96-mCxgdrq"
      },
      "source": [
        "y_scores_forest = y_probas_forest[:, 1] # 양성 클래스에 대한 확률을 점수로 사용\n",
        "fpr_forest, tpr_forest, thresholds_forest = roc_curve(y_train_5,y_scores_forest) # roc_curve() 함수는 레이블과 점수를 기대 (점수 대신 클래스의 확률 전달 가능)"
      ],
      "execution_count": null,
      "outputs": []
    },
    {
      "cell_type": "code",
      "metadata": {
        "colab": {
          "base_uri": "https://localhost:8080/",
          "height": 288
        },
        "id": "-GwbavpFhHqC",
        "outputId": "1ec3fc74-2156-4091-ab6c-16ec713b610c"
      },
      "source": [
        "# ROC 곡선 그리기\n",
        "plt.plot(fpr, tpr, \"b:\", label=\"SGD\")\n",
        "plot_roc_curve(fpr_forest, tpr_forest, \"Random Forest\")\n",
        "plt.legend(loc=\"lower right\")\n",
        "plt.show()\n",
        "# -> 결과: Random Forest 분류기가 SGD 분류기보다 좋음\n",
        "# Random Forest의 ROC 곡선이 왼쪽 위 모서리에 더 가까워 AUC 값이 크기 때문"
      ],
      "execution_count": null,
      "outputs": [
        {
          "output_type": "display_data",
          "data": {
            "image/png": "[encoded data removed]",
            "text/plain": [
              "<Figure size 432x288 with 1 Axes>"
            ]
          },
          "metadata": {
            "tags": [],
            "needs_background": "light"
          }
        }
      ]
    },
    {
      "cell_type": "code",
      "metadata": {
        "colab": {
          "base_uri": "https://localhost:8080/"
        },
        "id": "d-9O46vzhbi7",
        "outputId": "6378fc5c-1f71-483b-ba25-a9902b377f71"
      },
      "source": [
        "# 정밀도와 재현율 점수 계산\n",
        "roc_auc_score(y_train_5, y_scores_forest)"
      ],
      "execution_count": null,
      "outputs": [
        {
          "output_type": "execute_result",
          "data": {
            "text/plain": [
              "0.9983436731328145"
            ]
          },
          "metadata": {
            "tags": []
          },
          "execution_count": 102
        }
      ]
    },
    {
      "cell_type": "markdown",
      "metadata": {
        "id": "ww9EfwqjiMjo"
      },
      "source": [
        "# 다중 분류"
      ]
    },
    {
      "cell_type": "code",
      "metadata": {
        "colab": {
          "base_uri": "https://localhost:8080/"
        },
        "id": "A1Xi1mfgiJxY",
        "outputId": "269d1ee2-e8dd-4a53-c4f0-05c718622b42"
      },
      "source": [
        "# 이진 분류 알고리즘을 선택하면 자동으로 OvR 또는 OvO를 실행\n",
        "from sklearn.svm import SVC # 서포트 벡터 머신 분류기 테스트\n",
        "\n",
        "svm_clf = SVC()\n",
        "svm_clf.fit(X_train[:1000], y_train[:1000]) # y_train_5가 아닌 y_train을 사용\n",
        "svm_clf.predict([some_digit])"
      ],
      "execution_count": null,
      "outputs": [
        {
          "output_type": "execute_result",
          "data": {
            "text/plain": [
              "array([7], dtype=uint8)"
            ]
          },
          "metadata": {
            "tags": []
          },
          "execution_count": 106
        }
      ]
    },
    {
      "cell_type": "code",
      "metadata": {
        "colab": {
          "base_uri": "https://localhost:8080/"
        },
        "id": "CW17u2L-wd0P",
        "outputId": "0fa6a9c3-4c80-4621-845e-aaa6d3436ddd"
      },
      "source": [
        "# decision_function() 메서드를 호출하면 샘플당 10개의 점수 반환\n",
        "some_digit_scores = svm_clf.decision_function([some_digit])\n",
        "some_digit_scores"
      ],
      "execution_count": null,
      "outputs": [
        {
          "output_type": "execute_result",
          "data": {
            "text/plain": [
              "array([[ 2.76466364, -0.28778701,  6.18342938,  7.24737157,  4.79982101,\n",
              "         3.91577837,  0.71996711,  9.30200604,  1.74730239,  8.27963448]])"
            ]
          },
          "metadata": {
            "tags": []
          },
          "execution_count": 108
        }
      ]
    },
    {
      "cell_type": "code",
      "metadata": {
        "colab": {
          "base_uri": "https://localhost:8080/"
        },
        "id": "i1wvpUI6wwYU",
        "outputId": "3d2b7c43-9dde-4158-a579-ce46f77fe8bd"
      },
      "source": [
        "# 가장 높은 점수가 클래스 7에 해당하는 값\n",
        "np.argmax(some_digit_scores)"
      ],
      "execution_count": null,
      "outputs": [
        {
          "output_type": "execute_result",
          "data": {
            "text/plain": [
              "7"
            ]
          },
          "metadata": {
            "tags": []
          },
          "execution_count": 110
        }
      ]
    },
    {
      "cell_type": "code",
      "metadata": {
        "colab": {
          "base_uri": "https://localhost:8080/"
        },
        "id": "-_shWbYHxR17",
        "outputId": "fc958d10-cfdb-449d-f51b-76d292e5b2cb"
      },
      "source": [
        "# 분류기가 훈련될 때 classes_ 속성에 타깃 클래스의 리스트를 값으로 정렬하여 저장\n",
        "svm_clf.classes_"
      ],
      "execution_count": null,
      "outputs": [
        {
          "output_type": "execute_result",
          "data": {
            "text/plain": [
              "array([0, 1, 2, 3, 4, 5, 6, 7, 8, 9], dtype=uint8)"
            ]
          },
          "metadata": {
            "tags": []
          },
          "execution_count": 111
        }
      ]
    },
    {
      "cell_type": "code",
      "metadata": {
        "colab": {
          "base_uri": "https://localhost:8080/"
        },
        "id": "3mgFeKM5xc0A",
        "outputId": "f3b0ebf3-9cdb-4124-8946-52ec8e3b0d27"
      },
      "source": [
        "svm_clf.classes_[7] # classes_ 배열에 있는 각 클래스의 인덱스가 클래스 값 자체와 같음 (그러나 일반적으로는 드문 경우)"
      ],
      "execution_count": null,
      "outputs": [
        {
          "output_type": "execute_result",
          "data": {
            "text/plain": [
              "7"
            ]
          },
          "metadata": {
            "tags": []
          },
          "execution_count": 112
        }
      ]
    },
    {
      "cell_type": "code",
      "metadata": {
        "colab": {
          "base_uri": "https://localhost:8080/"
        },
        "id": "N2PVHSA3xh3J",
        "outputId": "44268bab-fb08-4672-cc3c-33d208e5db33"
      },
      "source": [
        "# SVC 기반으로 OvR 전략을 사용하는 다중 분류기\n",
        "from sklearn.multiclass import OneVsRestClassifier\n",
        "\n",
        "ovr_clf = OneVsRestClassifier(SVC()) # 이진 분류기 인스턴스를 만듦\n",
        "ovr_clf.fit(X_train[:1000], y_train[:1000])\n",
        "ovr_clf.predict([some_digit]) # 예측값"
      ],
      "execution_count": null,
      "outputs": [
        {
          "output_type": "execute_result",
          "data": {
            "text/plain": [
              "array([7], dtype=uint8)"
            ]
          },
          "metadata": {
            "tags": []
          },
          "execution_count": 114
        }
      ]
    },
    {
      "cell_type": "code",
      "metadata": {
        "colab": {
          "base_uri": "https://localhost:8080/"
        },
        "id": "Hu6mdD_FyVk3",
        "outputId": "a84e891c-eae2-4ead-f1e8-d02c599e5c66"
      },
      "source": [
        "# SGDClassifier를 훈련\n",
        "sgd_clf_7.fit(X_train, y_train)\n",
        "sgd_clf_7.predict([some_digit])"
      ],
      "execution_count": null,
      "outputs": [
        {
          "output_type": "execute_result",
          "data": {
            "text/plain": [
              "array([7], dtype=uint8)"
            ]
          },
          "metadata": {
            "tags": []
          },
          "execution_count": 119
        }
      ]
    },
    {
      "cell_type": "code",
      "metadata": {
        "colab": {
          "base_uri": "https://localhost:8080/"
        },
        "id": "Nw_hbeItyqJG",
        "outputId": "12c46c81-2d68-4e43-a284-1b2ba00383de"
      },
      "source": [
        "# decision_function() 메서드는 클래스마다 하나의 값을 반환\n",
        "# SGD 분류기가 클래스마다 부여한 점수 확인\n",
        "sgd_clf_7.decision_function([some_digit])"
      ],
      "execution_count": null,
      "outputs": [
        {
          "output_type": "execute_result",
          "data": {
            "text/plain": [
              "array([[-44329.84787555, -56609.94749827, -14526.51540817,\n",
              "         -2120.00150725, -19356.06406399, -14265.67545919,\n",
              "        -40627.49532582,   3171.63108673,  -7574.61905841,\n",
              "         -7347.33702224]])"
            ]
          },
          "metadata": {
            "tags": []
          },
          "execution_count": 120
        }
      ]
    },
    {
      "cell_type": "code",
      "metadata": {
        "colab": {
          "base_uri": "https://localhost:8080/"
        },
        "id": "Jf-YX3xTzGZV",
        "outputId": "7540d432-8d15-4d59-bf1a-3be7f17a787c"
      },
      "source": [
        "# SGDClassifier의 정확도 평가\n",
        "# 분류기의 평가에는 일반적으로 교차 검증을 사용\n",
        "cross_val_score(sgd_clf_7, X_train, y_train, cv=3, scoring=\"accuracy\")"
      ],
      "execution_count": null,
      "outputs": [
        {
          "output_type": "execute_result",
          "data": {
            "text/plain": [
              "array([0.87365, 0.85835, 0.8689 ])"
            ]
          },
          "metadata": {
            "tags": []
          },
          "execution_count": 121
        }
      ]
    },
    {
      "cell_type": "code",
      "metadata": {
        "colab": {
          "base_uri": "https://localhost:8080/"
        },
        "id": "rJnCH6e_zWn1",
        "outputId": "8dd52a9e-3cd8-4297-c1b8-4f92ea7a7612"
      },
      "source": [
        "from sklearn.preprocessing import StandardScaler\n",
        "\n",
        "scaler = StandardScaler()\n",
        "X_train_scaled = scaler.fit_transform(X_train.astype(np.float64))\n",
        "cross_val_score(sgd_clf_7, X_train_scaled, y_train, cv=3, scoring=\"accuracy\")\n",
        "# -> 결과: 모든 테스트 폴드에서 84% 이상의 정확도를 얻음"
      ],
      "execution_count": null,
      "outputs": [
        {
          "output_type": "execute_result",
          "data": {
            "text/plain": [
              "array([0.8983, 0.891 , 0.9018])"
            ]
          },
          "metadata": {
            "tags": []
          },
          "execution_count": 123
        }
      ]
    },
    {
      "cell_type": "markdown",
      "metadata": {
        "id": "2mVFvi8E0S5w"
      },
      "source": [
        "# 에러 분석"
      ]
    },
    {
      "cell_type": "code",
      "metadata": {
        "colab": {
          "base_uri": "https://localhost:8080/"
        },
        "id": "ciDT9Iqg0Txj",
        "outputId": "03071a8c-baf2-4132-c21a-e12791ded0a5"
      },
      "source": [
        "y_train_pred = cross_val_predict(sgd_clf_7, X_train_scaled, y_train, cv=3) # 예측을 만듦\n",
        "conf_mx = confusion_matrix(y_train, y_train_pred) # confusion_matrix 함수를 통해 오차 행렬 준비\n",
        "conf_mx"
      ],
      "execution_count": null,
      "outputs": [
        {
          "output_type": "execute_result",
          "data": {
            "text/plain": [
              "array([[5577,    0,   22,    5,    8,   43,   36,    6,  225,    1],\n",
              "       [   0, 6400,   37,   24,    4,   44,    4,    7,  212,   10],\n",
              "       [  27,   27, 5220,   92,   73,   27,   67,   36,  378,   11],\n",
              "       [  22,   17,  117, 5227,    2,  203,   27,   40,  403,   73],\n",
              "       [  12,   14,   41,    9, 5182,   12,   34,   27,  347,  164],\n",
              "       [  27,   15,   30,  168,   53, 4444,   75,   14,  535,   60],\n",
              "       [  30,   15,   42,    3,   44,   97, 5552,    3,  131,    1],\n",
              "       [  21,   10,   51,   30,   49,   12,    3, 5684,  195,  210],\n",
              "       [  17,   63,   48,   86,    3,  126,   25,   10, 5429,   44],\n",
              "       [  25,   18,   30,   64,  118,   36,    1,  179,  371, 5107]])"
            ]
          },
          "metadata": {
            "tags": []
          },
          "execution_count": 124
        }
      ]
    },
    {
      "cell_type": "code",
      "metadata": {
        "colab": {
          "base_uri": "https://localhost:8080/",
          "height": 275
        },
        "id": "dKZ86p330Y3i",
        "outputId": "2099dcab-7e10-4b57-9112-339abbef4ee8"
      },
      "source": [
        "# matplotlib을 사용해 이미지로 표현\n",
        "plt.matshow(conf_mx, cmap=plt.cm.gray)\n",
        "plt.show()"
      ],
      "execution_count": null,
      "outputs": [
        {
          "output_type": "display_data",
          "data": {
            "image/png": "[encoded data removed]",
            "text/plain": [
              "<Figure size 288x288 with 1 Axes>"
            ]
          },
          "metadata": {
            "tags": [],
            "needs_background": "light"
          }
        }
      ]
    },
    {
      "cell_type": "code",
      "metadata": {
        "id": "Jn-hAL881Alp"
      },
      "source": [
        "row_sums = conf_mx.sum(axis=1, keepdims=True)\n",
        "norm_conf_mx = conf_mx / row_sums # 오차 행렬의 각 값에 대응되는 클래스의 이미지 개수로 나누어 에러 비율을 비교"
      ],
      "execution_count": null,
      "outputs": []
    },
    {
      "cell_type": "code",
      "metadata": {
        "colab": {
          "base_uri": "https://localhost:8080/",
          "height": 275
        },
        "id": "TJ4p0Xf53ZL0",
        "outputId": "5920a03b-8331-4cff-8a43-8f54cfb763b6"
      },
      "source": [
        "# 다른 항목은 유지, 주대각선만 0으로 채워서 그래프를 그림\n",
        "np.fill_diagonal(norm_conf_mx, 0)\n",
        "plt.matshow(norm_conf_mx, cmap=plt.cm.gray) # 이미지로 표현\n",
        "plt.show()"
      ],
      "execution_count": null,
      "outputs": [
        {
          "output_type": "display_data",
          "data": {
            "image/png": "[encoded data removed]",
            "text/plain": [
              "<Figure size 288x288 with 1 Axes>"
            ]
          },
          "metadata": {
            "tags": [],
            "needs_background": "light"
          }
        }
      ]
    },
    {
      "cell_type": "code",
      "metadata": {
        "id": "gIrCLSH27tWC"
      },
      "source": [
        "# 출력 함수 정의\n",
        "def plot_digits(instances, images_per_row=10, **options):\n",
        "    size = 28\n",
        "    images_per_row = min(len(instances), images_per_row)\n",
        "    images = [instance.reshape(size,size) for instance in instances]\n",
        "    n_rows = (len(instances) - 1) // images_per_row + 1\n",
        "    row_images = []\n",
        "    n_empty = n_rows * images_per_row - len(instances)\n",
        "    images.append(np.zeros((size, size * n_empty)))\n",
        "    for row in range(n_rows):\n",
        "        rimages = images[row * images_per_row : (row + 1) * images_per_row]\n",
        "        row_images.append(np.concatenate(rimages, axis=1))\n",
        "    image = np.concatenate(row_images, axis=0)\n",
        "    plt.imshow(image, cmap = mpl.cm.binary, **options)\n",
        "    plt.axis(\"off\")"
      ],
      "execution_count": null,
      "outputs": []
    },
    {
      "cell_type": "code",
      "metadata": {
        "colab": {
          "base_uri": "https://localhost:8080/",
          "height": 466
        },
        "id": "ydnyiQA_34zO",
        "outputId": "383c4ab3-f057-4440-c8d6-d984b29f22d5"
      },
      "source": [
        "cl_a, cl_b = 3, 5 # 3과 5의 샘플 그리기\n",
        "X_aa = X_train[(y_train == cl_a) & (y_train_pred == cl_a)]\n",
        "X_ab = X_train[(y_train == cl_a) & (y_train_pred == cl_b)]\n",
        "X_ba = X_train[(y_train == cl_b) & (y_train_pred == cl_a)]\n",
        "X_bb = X_train[(y_train == cl_b) & (y_train_pred == cl_b)]\n",
        "\n",
        "# plot_digits(): matplotlib의 imshow() 함수를 사용하는 함수\n",
        "plt.figure(figsize=(8,8))\n",
        "plt.subplot(221); plot_digits(X_aa[:25], images_per_row=5)\n",
        "plt.subplot(222); plot_digits(X_ab[:25], images_per_row=5)\n",
        "plt.subplot(223); plot_digits(X_ba[:25], images_per_row=5)\n",
        "plt.subplot(224); plot_digits(X_bb[:25], images_per_row=5)\n",
        "plt.show()"
      ],
      "execution_count": null,
      "outputs": [
        {
          "output_type": "display_data",
          "data": {
            "image/png": "[encoded data removed]",
            "text/plain": [
              "<Figure size 576x576 with 4 Axes>"
            ]
          },
          "metadata": {
            "tags": [],
            "needs_background": "light"
          }
        }
      ]
    }
  ]
}