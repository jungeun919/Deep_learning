{
  "nbformat": 4,
  "nbformat_minor": 0,
  "metadata": {
    "colab": {
      "name": "Training_Linear_Model_1.ipynb",
      "provenance": [],
      "collapsed_sections": [],
      "authorship_tag": "ABX9TyMqvqa2tWz8sDy1V2FgzKQv",
      "include_colab_link": true
    },
    "kernelspec": {
      "name": "python3",
      "display_name": "Python 3"
    },
    "language_info": {
      "name": "python"
    }
  },
  "cells": [
    {
      "cell_type": "markdown",
      "metadata": {
        "id": "view-in-github",
        "colab_type": "text"
      },
      "source": [
        "<a href=\"https://colab.research.google.com/github/jungeun919/Keras_study/blob/main/Hands-On/Training_Linear_Model_1.ipynb\" target=\"_parent\"><img src=\"https://colab.research.google.com/assets/colab-badge.svg\" alt=\"Open In Colab\"/></a>"
      ]
    },
    {
      "cell_type": "markdown",
      "metadata": {
        "id": "SKR51byK74jC"
      },
      "source": [
        "# 선형회귀"
      ]
    },
    {
      "cell_type": "code",
      "metadata": {
        "id": "9b-ZMuF533cH"
      },
      "source": [
        "# 정규방정식 테스트를 위한 가상의 데이터 생성\n",
        "import numpy as np\n",
        "\n",
        "# 100개를 만듦 (행: 100, 열: 1)\n",
        "X = 2 * np.random.rand(100, 1) # training data feature의 range를 [0, 1] -> [0, 2]로 변경하기 위해 2를 곱함\n",
        "y = 4 + 3 * X + np.random.rand(100, 1) # prediction 식, np.random.rand()는 noise"
      ],
      "execution_count": null,
      "outputs": []
    },
    {
      "cell_type": "code",
      "metadata": {
        "colab": {
          "base_uri": "https://localhost:8080/"
        },
        "id": "5a9_tADQ4cJ6",
        "outputId": "c01fa080-11b5-4f6a-da3d-4f300fb9adc2"
      },
      "source": [
        "X_b = np.c_[np.ones((100, 1)), X] # 모든 샘플에 x0 = 1을 추가, 1로 채워진 100 * 1 행렬은 만든 뒤 행렬을 붙임 (-> 100 * 2)\n",
        "theta_best = np.linalg.inv(X_b.T.dot(X_b)).dot(X_b.T).dot(y) # 정규방정식\n",
        "# inv(): 사용해 역행렬 계산\n",
        "# dot(): 행렬 곱셈 계산\n",
        "\n",
        "theta_best # 정규방정식으로 계산한 값 확인"
      ],
      "execution_count": null,
      "outputs": [
        {
          "output_type": "execute_result",
          "data": {
            "text/plain": [
              "array([[4.41752837],\n",
              "       [3.05959311]])"
            ]
          },
          "metadata": {
            "tags": []
          },
          "execution_count": 2
        }
      ]
    },
    {
      "cell_type": "code",
      "metadata": {
        "colab": {
          "base_uri": "https://localhost:8080/"
        },
        "id": "XlV4_hmH6IE5",
        "outputId": "856fcc24-afc8-4bcc-dc54-8bf502f4c23b"
      },
      "source": [
        "X_new = np.array([[0], [2]])\n",
        "X_new_b = np.c_[np.ones((2, 1)), X_new] # 모든 샘플에 x0 = 1을 추가\n",
        "# [1  0\n",
        "#  1  2]\n",
        "\n",
        "y_predict = X_new_b.dot(theta_best)\n",
        "y_predict # X_new에 대한 예측값 확인"
      ],
      "execution_count": null,
      "outputs": [
        {
          "output_type": "execute_result",
          "data": {
            "text/plain": [
              "array([[ 4.41752837],\n",
              "       [10.53671459]])"
            ]
          },
          "metadata": {
            "tags": []
          },
          "execution_count": 3
        }
      ]
    },
    {
      "cell_type": "code",
      "metadata": {
        "colab": {
          "base_uri": "https://localhost:8080/",
          "height": 265
        },
        "id": "fMNUVFlH61ik",
        "outputId": "1ec91a01-ed2b-43ab-b148-001aef1d548d"
      },
      "source": [
        "# 모델의 예측을 그래프화\n",
        "import matplotlib.pyplot as plt\n",
        "\n",
        "plt.plot(X_new, y_predict, \"r--\")\n",
        "plt.plot(X, y, \"b.\")\n",
        "plt.axis([0, 2, 0, 15])\n",
        "plt.show()"
      ],
      "execution_count": null,
      "outputs": [
        {
          "output_type": "display_data",
          "data": {
            "image/png": "[encoded data removed]",
            "text/plain": [
              "<Figure size 432x288 with 1 Axes>"
            ]
          },
          "metadata": {
            "tags": [],
            "needs_background": "light"
          }
        }
      ]
    },
    {
      "cell_type": "code",
      "metadata": {
        "colab": {
          "base_uri": "https://localhost:8080/"
        },
        "id": "ZAD7dmKq7sZY",
        "outputId": "a2f3254d-21c1-4c3a-b006-b3dced65c4f3"
      },
      "source": [
        "# 사이킷런으로 선형회귀 예측\n",
        "from sklearn.linear_model import LinearRegression\n",
        "\n",
        "lin_reg = LinearRegression()\n",
        "lin_reg.fit(X, y) # 훈련\n",
        "lin_reg.intercept_, lin_reg.coef_ # 세타0, 세타1에 대한 값 확인"
      ],
      "execution_count": null,
      "outputs": [
        {
          "output_type": "execute_result",
          "data": {
            "text/plain": [
              "(array([4.41752837]), array([[3.05959311]]))"
            ]
          },
          "metadata": {
            "tags": []
          },
          "execution_count": 7
        }
      ]
    },
    {
      "cell_type": "code",
      "metadata": {
        "colab": {
          "base_uri": "https://localhost:8080/"
        },
        "id": "uMF7TuLJ8Uh6",
        "outputId": "91a50187-5e8c-4dbc-9e2c-7f04a9d711b3"
      },
      "source": [
        "lin_reg.predict(X_new) # X_new에 대한 예측값 확인"
      ],
      "execution_count": null,
      "outputs": [
        {
          "output_type": "execute_result",
          "data": {
            "text/plain": [
              "array([[ 4.41752837],\n",
              "       [10.53671459]])"
            ]
          },
          "metadata": {
            "tags": []
          },
          "execution_count": 8
        }
      ]
    },
    {
      "cell_type": "code",
      "metadata": {
        "colab": {
          "base_uri": "https://localhost:8080/"
        },
        "id": "oj_H_b5A8w1V",
        "outputId": "2b3ac010-e2cd-4d6e-b2c8-d1bdc51a97b8"
      },
      "source": [
        "# LinearRegression 클래스는 scipy.linalg.lstsq 함수를 기반으로 함\n",
        "theta_best_svd, residuals, rank, s = np.linalg.lstsq(X_b, y, rcond=1e-6)\n",
        "theta_best_svd"
      ],
      "execution_count": null,
      "outputs": [
        {
          "output_type": "execute_result",
          "data": {
            "text/plain": [
              "array([[4.41752837],\n",
              "       [3.05959311]])"
            ]
          },
          "metadata": {
            "tags": []
          },
          "execution_count": 9
        }
      ]
    },
    {
      "cell_type": "code",
      "metadata": {
        "colab": {
          "base_uri": "https://localhost:8080/"
        },
        "id": "_GxztetZ9GtK",
        "outputId": "3bef7ea5-ab66-4384-c7fd-bf315759a4a3"
      },
      "source": [
        "np.linalg.pinv(X_b).dot(y) # 유사역행렬 구하기"
      ],
      "execution_count": null,
      "outputs": [
        {
          "output_type": "execute_result",
          "data": {
            "text/plain": [
              "array([[4.41752837],\n",
              "       [3.05959311]])"
            ]
          },
          "metadata": {
            "tags": []
          },
          "execution_count": 10
        }
      ]
    },
    {
      "cell_type": "markdown",
      "metadata": {
        "id": "2ASLGKCj-n8z"
      },
      "source": [
        "# 경사하강법"
      ]
    },
    {
      "cell_type": "code",
      "metadata": {
        "colab": {
          "base_uri": "https://localhost:8080/"
        },
        "id": "HGDcKENw9UQw",
        "outputId": "cc978816-d2ba-41ff-ffe3-45e18da28c5c"
      },
      "source": [
        "# 파라미터 결정\n",
        "eta = 0.1 # 학습률\n",
        "n_iterations = 1000 # 반복 횟수\n",
        "m = 100 # 데이터 개수\n",
        "\n",
        "# 찾아야 할 모델 파라미터\n",
        "theta = np.random.randn(2, 1) # 무작위 초기화\n",
        "\n",
        "for iteration in range(n_iterations):\n",
        "    gradients = 2/m * X_b.T.dot(X_b.dot(theta) - y) # 기울기 구하기\n",
        "    theta = theta - eta * gradients # theta 갱신, 내려가는 스텝의 크기를 결정하기 위해 gradient 벡터에 학습률을 곱함\n",
        "\n",
        "theta # 값 확인 (정규방정식으로 찾은 결과와 동일)"
      ],
      "execution_count": null,
      "outputs": [
        {
          "output_type": "execute_result",
          "data": {
            "text/plain": [
              "array([[4.41752837],\n",
              "       [3.05959311]])"
            ]
          },
          "metadata": {
            "tags": []
          },
          "execution_count": 11
        }
      ]
    },
    {
      "cell_type": "code",
      "metadata": {
        "colab": {
          "base_uri": "https://localhost:8080/"
        },
        "id": "q-vbsYD9FDH3",
        "outputId": "a80f634d-e4a6-4d6b-a2c8-5674b754929c"
      },
      "source": [
        "# 학습 스케줄을 사용한 확률적 경사하강법\n",
        "n_epochs = 50\n",
        "t0, t1 = 5, 50 # 학습 스케줄 하이퍼파라미터\n",
        "\n",
        "def learning_schedule(t):\n",
        "    return t0 / (t + t1)\n",
        "\n",
        "theta = np.random.randn(2, 1) # 무작위 초기화\n",
        "\n",
        "for epoch in range(n_epochs):\n",
        "    for i in range(m):\n",
        "        random_index = np.random.randint(m)\n",
        "        xi = X_b[random_index:random_index+1] # random_index에 해당하는 샘플\n",
        "        yi = y[random_index:random_index+1]\n",
        "        gradients = 2 * xi.T.dot(xi.dot(theta) - yi)\n",
        "        eta = learning_schedule(epoch * m + 1)\n",
        "        theta = theta - eta * gradients # theta 업데이트\n",
        "\n",
        "theta # 값 확인"
      ],
      "execution_count": null,
      "outputs": [
        {
          "output_type": "execute_result",
          "data": {
            "text/plain": [
              "array([[4.42017273],\n",
              "       [3.08263507]])"
            ]
          },
          "metadata": {
            "tags": []
          },
          "execution_count": 26
        }
      ]
    },
    {
      "cell_type": "code",
      "metadata": {
        "colab": {
          "base_uri": "https://localhost:8080/"
        },
        "id": "IMIlZzVdLFCw",
        "outputId": "4c31958c-08e7-4996-bbd5-8e8fc2eebbfc"
      },
      "source": [
        "# 사이킷런을 활용하여 SGD\n",
        "from sklearn.linear_model import SGDRegressor\n",
        "\n",
        "sgd_reg = SGDRegressor(max_iter=1000, tol=1e-3, penalty=None, eta0=0.1) # 한 에포크에서 0.001보다 적게 손실이 줄어들 때까지 실행\n",
        "sgd_reg.fit(X, y.ravel()) # 훈련 사이킷런을 활용하여 SGD\n",
        "\n",
        "sgd_reg.intercept_, sgd_reg.coef_ # 정규방정식으로 구한 값과 유사한 값값"
      ],
      "execution_count": null,
      "outputs": [
        {
          "output_type": "execute_result",
          "data": {
            "text/plain": [
              "(array([4.35302372]), array([3.06917794]))"
            ]
          },
          "metadata": {
            "tags": []
          },
          "execution_count": 25
        }
      ]
    },
    {
      "cell_type": "markdown",
      "metadata": {
        "id": "2qW4CJjZMtHk"
      },
      "source": [
        "# 다항회귀"
      ]
    },
    {
      "cell_type": "code",
      "metadata": {
        "id": "S8CPIgmu5qtb"
      },
      "source": [
        "import numpy as np\n",
        "\n",
        "np.random.seed(42)"
      ],
      "execution_count": null,
      "outputs": []
    },
    {
      "cell_type": "code",
      "metadata": {
        "id": "SDZDs-SV3pA1"
      },
      "source": [
        "# 데이터셋 생성\n",
        "# 각 특성의 거듭제곱이나 특성간의 곱을 새로운 특성으로 확장하여 선형회귀를 적용\n",
        "m = 100\n",
        "X = 6 * np.random.rand(m, 1) - 3 # X의 범위: [0, 1] -> [0, 6] -> [-3, 3]의 분포를 가짐 데이터셋 생성\n",
        "y = 0.5 * X**2 + X + 2 + np.random.randn(m, 1) # np.random.randn()는 noise"
      ],
      "execution_count": null,
      "outputs": []
    },
    {
      "cell_type": "code",
      "metadata": {
        "colab": {
          "base_uri": "https://localhost:8080/"
        },
        "id": "iTQgETIRL6sX",
        "outputId": "d040b0ad-b9a2-47a5-b3bb-fc353f224062"
      },
      "source": [
        "# 훈련 데이터 변환\n",
        "from sklearn.preprocessing import PolynomialFeatures\n",
        "\n",
        "# 훈련세트에 있는 각 특성을 제곱하여 새로운 특성으로 추가\n",
        "# X_poly는 원래 특성 X와 이 특성의 제곱을 포함\n",
        "poly_features = PolynomialFeatures(degree=2, include_bias=False)\n",
        "X_poly = poly_features.fit_transform(X)\n",
        "X[0]"
      ],
      "execution_count": null,
      "outputs": [
        {
          "output_type": "execute_result",
          "data": {
            "text/plain": [
              "array([-0.75275929])"
            ]
          },
          "metadata": {
            "tags": []
          },
          "execution_count": 37
        }
      ]
    },
    {
      "cell_type": "code",
      "metadata": {
        "colab": {
          "base_uri": "https://localhost:8080/"
        },
        "id": "NH-IhiMgMQmz",
        "outputId": "de82be5e-21bc-4f2a-b518-57abb5eba747"
      },
      "source": [
        "X_poly[0]"
      ],
      "execution_count": null,
      "outputs": [
        {
          "output_type": "execute_result",
          "data": {
            "text/plain": [
              "array([-0.75275929,  0.56664654])"
            ]
          },
          "metadata": {
            "tags": []
          },
          "execution_count": 38
        }
      ]
    },
    {
      "cell_type": "code",
      "metadata": {
        "colab": {
          "base_uri": "https://localhost:8080/"
        },
        "id": "hxf_pOH9MR61",
        "outputId": "e626abb8-56e1-486c-b5ba-533dd2577abd"
      },
      "source": [
        "# 확장된 훈련 데이터에 LinearRegression 적용\n",
        "lin_reg = LinearRegression()\n",
        "lin_reg.fit(X_poly, y)\n",
        "lin_reg.intercept_, lin_reg.coef_"
      ],
      "execution_count": null,
      "outputs": [
        {
          "output_type": "execute_result",
          "data": {
            "text/plain": [
              "(array([1.78134581]), array([[0.93366893, 0.56456263]]))"
            ]
          },
          "metadata": {
            "tags": []
          },
          "execution_count": 40
        }
      ]
    }
  ]
}