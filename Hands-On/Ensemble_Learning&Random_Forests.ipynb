{
  "nbformat": 4,
  "nbformat_minor": 0,
  "metadata": {
    "colab": {
      "name": "Ensemble_Learning&Random_Forests.ipynb",
      "provenance": [],
      "collapsed_sections": [],
      "authorship_tag": "ABX9TyOsw58HNc0Wo4Pfkgt2EzMp",
      "include_colab_link": true
    },
    "kernelspec": {
      "name": "python3",
      "display_name": "Python 3"
    },
    "language_info": {
      "name": "python"
    }
  },
  "cells": [
    {
      "cell_type": "markdown",
      "metadata": {
        "id": "view-in-github",
        "colab_type": "text"
      },
      "source": [
        "<a href=\"https://colab.research.google.com/github/jungeun919/Keras_study/blob/main/Hands-On/Ensemble_Learning%26Random_Forests.ipynb\" target=\"_parent\"><img src=\"https://colab.research.google.com/assets/colab-badge.svg\" alt=\"Open In Colab\"/></a>"
      ]
    },
    {
      "cell_type": "markdown",
      "metadata": {
        "id": "7Lt2DGU1BpZQ"
      },
      "source": [
        "# 투표 기반 분류기"
      ]
    },
    {
      "cell_type": "code",
      "metadata": {
        "id": "I4SF15MVChWi"
      },
      "source": [
        "from sklearn.model_selection import train_test_split\n",
        "from sklearn.datasets import make_moons\n",
        "\n",
        "# 데이터셋 구축\n",
        "X, y = make_moons(n_samples=500, noise=0.30, random_state=42)\n",
        "X_train, X_test, y_train, y_test = train_test_split(X, y, random_state=42)"
      ],
      "execution_count": null,
      "outputs": []
    },
    {
      "cell_type": "code",
      "metadata": {
        "colab": {
          "base_uri": "https://localhost:8080/"
        },
        "id": "1k2udV5L-U2h",
        "outputId": "792aaf2d-6f4e-417c-e790-cc7a41dc9ad1"
      },
      "source": [
        "from sklearn.ensemble import RandomForestClassifier\n",
        "from sklearn.ensemble import VotingClassifier\n",
        "from sklearn.linear_model import LogisticRegression\n",
        "from sklearn.svm import SVC\n",
        "\n",
        "log_clf = LogisticRegression()\n",
        "rnd_clf = RandomForestClassifier()\n",
        "svm_clf = SVC(probability=True)\n",
        "\n",
        "# 투표 기반 분류기\n",
        "# hard\n",
        "voting_clf = VotingClassifier(\n",
        "    estimators=[('lr', log_clf), ('rf', rnd_clf), ('svc', svm_clf)],\n",
        "    voting='hard')\n",
        "\n",
        "# soft\n",
        "voting_s_clf = VotingClassifier(\n",
        "    estimators=[('lr', log_clf), ('rf', rnd_clf), ('svc', svm_clf)],\n",
        "    voting='soft')\n",
        "\n",
        "voting_clf.fit(X_train, y_train) # 훈련"
      ],
      "execution_count": null,
      "outputs": [
        {
          "output_type": "execute_result",
          "data": {
            "text/plain": [
              "VotingClassifier(estimators=[('lr',\n",
              "                              LogisticRegression(C=1.0, class_weight=None,\n",
              "                                                 dual=False, fit_intercept=True,\n",
              "                                                 intercept_scaling=1,\n",
              "                                                 l1_ratio=None, max_iter=100,\n",
              "                                                 multi_class='auto',\n",
              "                                                 n_jobs=None, penalty='l2',\n",
              "                                                 random_state=None,\n",
              "                                                 solver='lbfgs', tol=0.0001,\n",
              "                                                 verbose=0, warm_start=False)),\n",
              "                             ('rf',\n",
              "                              RandomForestClassifier(bootstrap=True,\n",
              "                                                     ccp_alpha=0.0,\n",
              "                                                     class_weight=None,\n",
              "                                                     cr...\n",
              "                                                     oob_score=False,\n",
              "                                                     random_state=None,\n",
              "                                                     verbose=0,\n",
              "                                                     warm_start=False)),\n",
              "                             ('svc',\n",
              "                              SVC(C=1.0, break_ties=False, cache_size=200,\n",
              "                                  class_weight=None, coef0=0.0,\n",
              "                                  decision_function_shape='ovr', degree=3,\n",
              "                                  gamma='scale', kernel='rbf', max_iter=-1,\n",
              "                                  probability=True, random_state=None,\n",
              "                                  shrinking=True, tol=0.001, verbose=False))],\n",
              "                 flatten_transform=True, n_jobs=None, voting='hard',\n",
              "                 weights=None)"
            ]
          },
          "metadata": {
            "tags": []
          },
          "execution_count": 3
        }
      ]
    },
    {
      "cell_type": "code",
      "metadata": {
        "colab": {
          "base_uri": "https://localhost:8080/"
        },
        "id": "JpzgoRiqCVeH",
        "outputId": "b429d292-9d80-4e92-dd93-59f712f680fe"
      },
      "source": [
        "# 각 분류기의 테스트셋 정확도 확인\n",
        "from sklearn.metrics import accuracy_score\n",
        "\n",
        "for clf in (log_clf, rnd_clf, svm_clf, voting_clf, voting_s_clf):\n",
        "    clf.fit(X_train, y_train)\n",
        "    y_pred = clf.predict(X_test)\n",
        "    print(clf.__class__.__name__, accuracy_score(y_test, y_pred))\n",
        "\n",
        "# 결과로 투표기반 분류기가 다른 분류기보다 정확도가 높은 것을 볼 수 있음"
      ],
      "execution_count": null,
      "outputs": [
        {
          "output_type": "stream",
          "text": [
            "LogisticRegression 0.864\n",
            "RandomForestClassifier 0.896\n",
            "SVC 0.896\n",
            "VotingClassifier 0.904\n",
            "VotingClassifier 0.904\n"
          ],
          "name": "stdout"
        }
      ]
    },
    {
      "cell_type": "markdown",
      "metadata": {
        "id": "SlwMfxyMEHOE"
      },
      "source": [
        "# 배깅(bagging)과 페이스팅(pasting)"
      ]
    },
    {
      "cell_type": "code",
      "metadata": {
        "id": "MSpIvC-5DU1L"
      },
      "source": [
        "from sklearn.ensemble import BaggingClassifier\n",
        "from sklearn.tree import DecisionTreeClassifier\n",
        "\n",
        "# 500개의 앙상블 훈련\n",
        "# 각 분류기는 훈련 세트에서 중복을 허용하여 샘플링 한 후 훈련, 병렬처리 가능 (배깅)\n",
        "bag_clf = BaggingClassifier(\n",
        "    DecisionTreeClassifier(), n_estimators=500,\n",
        "    max_samples=100, bootstrap=True, n_jobs=-1)\n",
        "# 페이스팅을 사용하려면 bootstrap=False\n",
        "# 매개변수 n_jobs는 훈련과 예측에 사용할 CPU 코어 수 지정 (-1일 경우 가용한 모든 코어)\n",
        "\n",
        "bag_clf.fit(X_train, y_train) # 훈련\n",
        "y_pred = bag_clf.predict(X_test)"
      ],
      "execution_count": null,
      "outputs": []
    },
    {
      "cell_type": "code",
      "metadata": {
        "colab": {
          "base_uri": "https://localhost:8080/"
        },
        "id": "PzxUfPE7EmEp",
        "outputId": "81fac777-97bb-4dcc-db6a-8093b798d874"
      },
      "source": [
        "bag_clf = BaggingClassifier(\n",
        "    DecisionTreeClassifier(), n_estimators=500,\n",
        "    bootstrap=True, n_jobs=-1, oob_score=True)\n",
        "    # oob_score=True로 지정하면 훈련이 끝난 후 자동으로 oob 평가\n",
        "\n",
        "bag_clf.fit(X_train, y_train)\n",
        "bag_clf.oob_score_ # 평가 점수 결과 확인"
      ],
      "execution_count": null,
      "outputs": [
        {
          "output_type": "execute_result",
          "data": {
            "text/plain": [
              "0.8933333333333333"
            ]
          },
          "metadata": {
            "tags": []
          },
          "execution_count": 6
        }
      ]
    },
    {
      "cell_type": "code",
      "metadata": {
        "colab": {
          "base_uri": "https://localhost:8080/"
        },
        "id": "0eEtSXOpODmZ",
        "outputId": "eee7fe9a-286a-4b49-b56e-9f988e390629"
      },
      "source": [
        "# 정확도 측정\n",
        "from sklearn.metrics import accuracy_score\n",
        "\n",
        "y_pred = bag_clf.predict(X_test)\n",
        "accuracy_score(y_test, y_pred)"
      ],
      "execution_count": null,
      "outputs": [
        {
          "output_type": "execute_result",
          "data": {
            "text/plain": [
              "0.912"
            ]
          },
          "metadata": {
            "tags": []
          },
          "execution_count": 7
        }
      ]
    },
    {
      "cell_type": "code",
      "metadata": {
        "colab": {
          "base_uri": "https://localhost:8080/"
        },
        "id": "SjDIrW7uzH2n",
        "outputId": "2b656334-7d60-47a7-9e0a-76c6d15fe220"
      },
      "source": [
        "# oob 샘플에 대한 결정 함수의 값 확인 (결정 함수는 각 훈련 샘플의 클래스 확률을 반환)\n",
        "bag_clf.oob_decision_function_"
      ],
      "execution_count": null,
      "outputs": [
        {
          "output_type": "execute_result",
          "data": {
            "text/plain": [
              "array([[0.42622951, 0.57377049],\n",
              "       [0.37362637, 0.62637363],\n",
              "       [1.        , 0.        ],\n",
              "       [0.        , 1.        ],\n",
              "       [0.        , 1.        ],\n",
              "       [0.05472637, 0.94527363],\n",
              "       [0.38421053, 0.61578947],\n",
              "       [0.02890173, 0.97109827],\n",
              "       [0.9895288 , 0.0104712 ],\n",
              "       [0.96629213, 0.03370787],\n",
              "       [0.77540107, 0.22459893],\n",
              "       [0.        , 1.        ],\n",
              "       [0.78947368, 0.21052632],\n",
              "       [0.89502762, 0.10497238],\n",
              "       [0.98882682, 0.01117318],\n",
              "       [0.03174603, 0.96825397],\n",
              "       [0.        , 1.        ],\n",
              "       [0.97948718, 0.02051282],\n",
              "       [0.93167702, 0.06832298],\n",
              "       [1.        , 0.        ],\n",
              "       [0.03448276, 0.96551724],\n",
              "       [0.25274725, 0.74725275],\n",
              "       [0.94318182, 0.05681818],\n",
              "       [1.        , 0.        ],\n",
              "       [0.95767196, 0.04232804],\n",
              "       [0.        , 1.        ],\n",
              "       [1.        , 0.        ],\n",
              "       [1.        , 0.        ],\n",
              "       [0.        , 1.        ],\n",
              "       [0.61325967, 0.38674033],\n",
              "       [0.        , 1.        ],\n",
              "       [1.        , 0.        ],\n",
              "       [0.        , 1.        ],\n",
              "       [0.        , 1.        ],\n",
              "       [0.12269939, 0.87730061],\n",
              "       [1.        , 0.        ],\n",
              "       [0.        , 1.        ],\n",
              "       [0.42391304, 0.57608696],\n",
              "       [0.        , 1.        ],\n",
              "       [1.        , 0.        ],\n",
              "       [0.18390805, 0.81609195],\n",
              "       [0.39320388, 0.60679612],\n",
              "       [1.        , 0.        ],\n",
              "       [1.        , 0.        ],\n",
              "       [0.        , 1.        ],\n",
              "       [1.        , 0.        ],\n",
              "       [1.        , 0.        ],\n",
              "       [0.01058201, 0.98941799],\n",
              "       [1.        , 0.        ],\n",
              "       [0.01538462, 0.98461538],\n",
              "       [0.98484848, 0.01515152],\n",
              "       [0.91099476, 0.08900524],\n",
              "       [0.98113208, 0.01886792],\n",
              "       [0.98882682, 0.01117318],\n",
              "       [0.        , 1.        ],\n",
              "       [0.06779661, 0.93220339],\n",
              "       [1.        , 0.        ],\n",
              "       [0.00537634, 0.99462366],\n",
              "       [0.        , 1.        ],\n",
              "       [0.00555556, 0.99444444],\n",
              "       [1.        , 0.        ],\n",
              "       [0.77966102, 0.22033898],\n",
              "       [0.40641711, 0.59358289],\n",
              "       [1.        , 0.        ],\n",
              "       [0.        , 1.        ],\n",
              "       [0.74863388, 0.25136612],\n",
              "       [1.        , 0.        ],\n",
              "       [1.        , 0.        ],\n",
              "       [0.86666667, 0.13333333],\n",
              "       [1.        , 0.        ],\n",
              "       [0.59444444, 0.40555556],\n",
              "       [0.1547619 , 0.8452381 ],\n",
              "       [0.60736196, 0.39263804],\n",
              "       [0.88383838, 0.11616162],\n",
              "       [0.        , 1.        ],\n",
              "       [0.19662921, 0.80337079],\n",
              "       [0.87755102, 0.12244898],\n",
              "       [1.        , 0.        ],\n",
              "       [0.        , 1.        ],\n",
              "       [0.9947644 , 0.0052356 ],\n",
              "       [0.        , 1.        ],\n",
              "       [0.06741573, 0.93258427],\n",
              "       [0.01724138, 0.98275862],\n",
              "       [0.33146067, 0.66853933],\n",
              "       [1.        , 0.        ],\n",
              "       [0.        , 1.        ],\n",
              "       [0.86387435, 0.13612565],\n",
              "       [0.00546448, 0.99453552],\n",
              "       [0.        , 1.        ],\n",
              "       [0.        , 1.        ],\n",
              "       [0.25520833, 0.74479167],\n",
              "       [1.        , 0.        ],\n",
              "       [0.        , 1.        ],\n",
              "       [0.        , 1.        ],\n",
              "       [0.00507614, 0.99492386],\n",
              "       [0.96842105, 0.03157895],\n",
              "       [0.80681818, 0.19318182],\n",
              "       [0.01136364, 0.98863636],\n",
              "       [1.        , 0.        ],\n",
              "       [0.21590909, 0.78409091],\n",
              "       [0.6779661 , 0.3220339 ],\n",
              "       [0.        , 1.        ],\n",
              "       [0.03664921, 0.96335079],\n",
              "       [0.51086957, 0.48913043],\n",
              "       [1.        , 0.        ],\n",
              "       [0.02702703, 0.97297297],\n",
              "       [0.99516908, 0.00483092],\n",
              "       [0.26737968, 0.73262032],\n",
              "       [0.44134078, 0.55865922],\n",
              "       [1.        , 0.        ],\n",
              "       [0.01219512, 0.98780488],\n",
              "       [0.99393939, 0.00606061],\n",
              "       [0.22891566, 0.77108434],\n",
              "       [0.91017964, 0.08982036],\n",
              "       [1.        , 0.        ],\n",
              "       [1.        , 0.        ],\n",
              "       [0.        , 1.        ],\n",
              "       [0.        , 1.        ],\n",
              "       [0.80357143, 0.19642857],\n",
              "       [1.        , 0.        ],\n",
              "       [0.00564972, 0.99435028],\n",
              "       [1.        , 0.        ],\n",
              "       [1.        , 0.        ],\n",
              "       [1.        , 0.        ],\n",
              "       [0.98351648, 0.01648352],\n",
              "       [1.        , 0.        ],\n",
              "       [0.        , 1.        ],\n",
              "       [0.94610778, 0.05389222],\n",
              "       [0.99479167, 0.00520833],\n",
              "       [0.02139037, 0.97860963],\n",
              "       [0.15183246, 0.84816754],\n",
              "       [0.96685083, 0.03314917],\n",
              "       [0.29648241, 0.70351759],\n",
              "       [0.97814208, 0.02185792],\n",
              "       [0.        , 1.        ],\n",
              "       [0.00492611, 0.99507389],\n",
              "       [0.71764706, 0.28235294],\n",
              "       [0.46808511, 0.53191489],\n",
              "       [0.44970414, 0.55029586],\n",
              "       [0.88023952, 0.11976048],\n",
              "       [0.93684211, 0.06315789],\n",
              "       [0.03910615, 0.96089385],\n",
              "       [0.83248731, 0.16751269],\n",
              "       [0.00531915, 0.99468085],\n",
              "       [0.        , 1.        ],\n",
              "       [0.02173913, 0.97826087],\n",
              "       [0.98969072, 0.01030928],\n",
              "       [1.        , 0.        ],\n",
              "       [1.        , 0.        ],\n",
              "       [0.00571429, 0.99428571],\n",
              "       [0.        , 1.        ],\n",
              "       [0.01522843, 0.98477157],\n",
              "       [0.0104712 , 0.9895288 ],\n",
              "       [1.        , 0.        ],\n",
              "       [1.        , 0.        ],\n",
              "       [0.95428571, 0.04571429],\n",
              "       [1.        , 0.        ],\n",
              "       [1.        , 0.        ],\n",
              "       [0.99450549, 0.00549451],\n",
              "       [0.        , 1.        ],\n",
              "       [0.36702128, 0.63297872],\n",
              "       [0.31111111, 0.68888889],\n",
              "       [0.        , 1.        ],\n",
              "       [0.        , 1.        ],\n",
              "       [0.33333333, 0.66666667],\n",
              "       [1.        , 0.        ],\n",
              "       [1.        , 0.        ],\n",
              "       [0.        , 1.        ],\n",
              "       [1.        , 0.        ],\n",
              "       [0.00584795, 0.99415205],\n",
              "       [0.        , 1.        ],\n",
              "       [0.98453608, 0.01546392],\n",
              "       [0.        , 1.        ],\n",
              "       [0.        , 1.        ],\n",
              "       [1.        , 0.        ],\n",
              "       [0.00564972, 0.99435028],\n",
              "       [0.61621622, 0.38378378],\n",
              "       [0.91282051, 0.08717949],\n",
              "       [0.        , 1.        ],\n",
              "       [0.98876404, 0.01123596],\n",
              "       [1.        , 0.        ],\n",
              "       [1.        , 0.        ],\n",
              "       [0.        , 1.        ],\n",
              "       [0.        , 1.        ],\n",
              "       [1.        , 0.        ],\n",
              "       [0.10047847, 0.89952153],\n",
              "       [1.        , 0.        ],\n",
              "       [0.01807229, 0.98192771],\n",
              "       [0.        , 1.        ],\n",
              "       [1.        , 0.        ],\n",
              "       [0.        , 1.        ],\n",
              "       [0.03723404, 0.96276596],\n",
              "       [0.99415205, 0.00584795],\n",
              "       [0.92934783, 0.07065217],\n",
              "       [0.7755102 , 0.2244898 ],\n",
              "       [0.58031088, 0.41968912],\n",
              "       [0.        , 1.        ],\n",
              "       [0.10628019, 0.89371981],\n",
              "       [1.        , 0.        ],\n",
              "       [0.94505495, 0.05494505],\n",
              "       [0.97      , 0.03      ],\n",
              "       [1.        , 0.        ],\n",
              "       [0.01117318, 0.98882682],\n",
              "       [0.        , 1.        ],\n",
              "       [0.48502994, 0.51497006],\n",
              "       [0.85882353, 0.14117647],\n",
              "       [0.        , 1.        ],\n",
              "       [0.        , 1.        ],\n",
              "       [1.        , 0.        ],\n",
              "       [0.02173913, 0.97826087],\n",
              "       [0.        , 1.        ],\n",
              "       [0.95953757, 0.04046243],\n",
              "       [0.        , 1.        ],\n",
              "       [0.29378531, 0.70621469],\n",
              "       [0.        , 1.        ],\n",
              "       [1.        , 0.        ],\n",
              "       [0.        , 1.        ],\n",
              "       [0.        , 1.        ],\n",
              "       [0.97419355, 0.02580645],\n",
              "       [0.83888889, 0.16111111],\n",
              "       [0.99418605, 0.00581395],\n",
              "       [0.        , 1.        ],\n",
              "       [0.07222222, 0.92777778],\n",
              "       [0.99507389, 0.00492611],\n",
              "       [0.01075269, 0.98924731],\n",
              "       [0.        , 1.        ],\n",
              "       [0.06951872, 0.93048128],\n",
              "       [0.9947644 , 0.0052356 ],\n",
              "       [0.78756477, 0.21243523],\n",
              "       [0.        , 1.        ],\n",
              "       [0.91079812, 0.08920188],\n",
              "       [1.        , 0.        ],\n",
              "       [0.2259887 , 0.7740113 ],\n",
              "       [0.28813559, 0.71186441],\n",
              "       [1.        , 0.        ],\n",
              "       [0.        , 1.        ],\n",
              "       [0.        , 1.        ],\n",
              "       [0.        , 1.        ],\n",
              "       [0.26315789, 0.73684211],\n",
              "       [0.96685083, 0.03314917],\n",
              "       [0.        , 1.        ],\n",
              "       [1.        , 0.        ],\n",
              "       [0.98924731, 0.01075269],\n",
              "       [0.        , 1.        ],\n",
              "       [0.46486486, 0.53513514],\n",
              "       [1.        , 0.        ],\n",
              "       [0.        , 1.        ],\n",
              "       [1.        , 0.        ],\n",
              "       [0.        , 1.        ],\n",
              "       [0.        , 1.        ],\n",
              "       [0.08064516, 0.91935484],\n",
              "       [0.08938547, 0.91061453],\n",
              "       [0.98857143, 0.01142857],\n",
              "       [0.015     , 0.985     ],\n",
              "       [1.        , 0.        ],\n",
              "       [0.35751295, 0.64248705],\n",
              "       [0.08602151, 0.91397849],\n",
              "       [0.52601156, 0.47398844],\n",
              "       [0.55191257, 0.44808743],\n",
              "       [0.        , 1.        ],\n",
              "       [1.        , 0.        ],\n",
              "       [0.        , 1.        ],\n",
              "       [0.        , 1.        ],\n",
              "       [0.56111111, 0.43888889],\n",
              "       [0.        , 1.        ],\n",
              "       [1.        , 0.        ],\n",
              "       [0.27932961, 0.72067039],\n",
              "       [0.81967213, 0.18032787],\n",
              "       [0.08205128, 0.91794872],\n",
              "       [1.        , 0.        ],\n",
              "       [0.81967213, 0.18032787],\n",
              "       [0.        , 1.        ],\n",
              "       [0.00595238, 0.99404762],\n",
              "       [0.08900524, 0.91099476],\n",
              "       [0.02197802, 0.97802198],\n",
              "       [0.        , 1.        ],\n",
              "       [1.        , 0.        ],\n",
              "       [0.91111111, 0.08888889],\n",
              "       [0.17894737, 0.82105263],\n",
              "       [0.94827586, 0.05172414],\n",
              "       [0.0106383 , 0.9893617 ],\n",
              "       [0.61931818, 0.38068182],\n",
              "       [0.07614213, 0.92385787],\n",
              "       [0.99435028, 0.00564972],\n",
              "       [0.85185185, 0.14814815],\n",
              "       [0.        , 1.        ],\n",
              "       [0.99494949, 0.00505051],\n",
              "       [0.96648045, 0.03351955],\n",
              "       [0.        , 1.        ],\n",
              "       [0.        , 1.        ],\n",
              "       [1.        , 0.        ],\n",
              "       [0.        , 1.        ],\n",
              "       [1.        , 0.        ],\n",
              "       [0.26767677, 0.73232323],\n",
              "       [1.        , 0.        ],\n",
              "       [1.        , 0.        ],\n",
              "       [0.        , 1.        ],\n",
              "       [0.00995025, 0.99004975],\n",
              "       [0.88832487, 0.11167513],\n",
              "       [0.        , 1.        ],\n",
              "       [1.        , 0.        ],\n",
              "       [0.80808081, 0.19191919],\n",
              "       [0.925     , 0.075     ],\n",
              "       [1.        , 0.        ],\n",
              "       [0.67379679, 0.32620321],\n",
              "       [0.52688172, 0.47311828],\n",
              "       [0.        , 1.        ],\n",
              "       [0.87301587, 0.12698413],\n",
              "       [0.        , 1.        ],\n",
              "       [1.        , 0.        ],\n",
              "       [0.86170213, 0.13829787],\n",
              "       [1.        , 0.        ],\n",
              "       [1.        , 0.        ],\n",
              "       [0.79120879, 0.20879121],\n",
              "       [0.12290503, 0.87709497],\n",
              "       [0.52432432, 0.47567568],\n",
              "       [0.27040816, 0.72959184],\n",
              "       [0.        , 1.        ],\n",
              "       [0.88108108, 0.11891892],\n",
              "       [0.87078652, 0.12921348],\n",
              "       [0.00568182, 0.99431818],\n",
              "       [1.        , 0.        ],\n",
              "       [1.        , 0.        ],\n",
              "       [1.        , 0.        ],\n",
              "       [0.        , 1.        ],\n",
              "       [0.02185792, 0.97814208],\n",
              "       [0.95754717, 0.04245283],\n",
              "       [0.97382199, 0.02617801],\n",
              "       [1.        , 0.        ],\n",
              "       [0.50295858, 0.49704142],\n",
              "       [1.        , 0.        ],\n",
              "       [0.        , 1.        ],\n",
              "       [0.99484536, 0.00515464],\n",
              "       [0.        , 1.        ],\n",
              "       [1.        , 0.        ],\n",
              "       [1.        , 0.        ],\n",
              "       [1.        , 0.        ],\n",
              "       [0.        , 1.        ],\n",
              "       [0.97633136, 0.02366864],\n",
              "       [0.        , 1.        ],\n",
              "       [0.09302326, 0.90697674],\n",
              "       [0.        , 1.        ],\n",
              "       [0.        , 1.        ],\n",
              "       [1.        , 0.        ],\n",
              "       [1.        , 0.        ],\n",
              "       [0.        , 1.        ],\n",
              "       [0.99494949, 0.00505051],\n",
              "       [0.03723404, 0.96276596],\n",
              "       [1.        , 0.        ],\n",
              "       [0.11494253, 0.88505747],\n",
              "       [0.        , 1.        ],\n",
              "       [0.01530612, 0.98469388],\n",
              "       [0.        , 1.        ],\n",
              "       [0.40540541, 0.59459459],\n",
              "       [0.08717949, 0.91282051],\n",
              "       [0.26262626, 0.73737374],\n",
              "       [1.        , 0.        ],\n",
              "       [0.99421965, 0.00578035],\n",
              "       [0.19444444, 0.80555556],\n",
              "       [0.97252747, 0.02747253],\n",
              "       [0.        , 1.        ],\n",
              "       [0.        , 1.        ],\n",
              "       [1.        , 0.        ],\n",
              "       [0.95408163, 0.04591837],\n",
              "       [0.31927711, 0.68072289],\n",
              "       [0.98765432, 0.01234568],\n",
              "       [1.        , 0.        ],\n",
              "       [0.        , 1.        ],\n",
              "       [0.98941799, 0.01058201],\n",
              "       [0.00520833, 0.99479167],\n",
              "       [0.01621622, 0.98378378],\n",
              "       [0.97727273, 0.02272727],\n",
              "       [1.        , 0.        ],\n",
              "       [0.05524862, 0.94475138],\n",
              "       [0.62871287, 0.37128713]])"
            ]
          },
          "metadata": {
            "tags": []
          },
          "execution_count": 8
        }
      ]
    },
    {
      "cell_type": "markdown",
      "metadata": {
        "id": "epgXB4mBPbre"
      },
      "source": [
        "# 랜덤 포레스트"
      ]
    },
    {
      "cell_type": "code",
      "metadata": {
        "id": "F3RDUGhFOvJh"
      },
      "source": [
        "from sklearn.ensemble import RandomForestClassifier\n",
        "\n",
        "# 16개의 리프 노드, 500개 트리로 이루어진 랜덤 포레스트 분류기 훈련\n",
        "rnd_clf = RandomForestClassifier(n_estimators=500, max_leaf_nodes=16, n_jobs=-1)\n",
        "rnd_clf.fit(X_train, y_train)\n",
        "\n",
        "y_pred_rf = rnd_clf.predict(X_test)"
      ],
      "execution_count": null,
      "outputs": []
    },
    {
      "cell_type": "code",
      "metadata": {
        "id": "I62-02v1QJgU"
      },
      "source": [
        "bag_clf = BaggingClassifier(\n",
        "    DecisionTreeClassifier(max_features=\"auto\", max_leaf_nodes=16),\n",
        "    n_estimators=500, max_samples=1.0, bootstrap=True, n_jobs=-1)"
      ],
      "execution_count": null,
      "outputs": []
    },
    {
      "cell_type": "code",
      "metadata": {
        "colab": {
          "base_uri": "https://localhost:8080/"
        },
        "id": "OF1cggduQcbC",
        "outputId": "cd2117b6-73aa-43c4-a867-7422ec5eeab9"
      },
      "source": [
        "from sklearn.datasets import load_iris\n",
        "\n",
        "iris = load_iris()\n",
        "rnd_clf = RandomForestClassifier(n_estimators=500, n_jobs=-1)\n",
        "rnd_clf.fit(iris[\"data\"], iris[\"target\"])\n",
        "\n",
        "# 훈련이 끝난 뒤 중요도의 전체 합이 1이 되도록 결과값을 정규화하고 이 값은 feature_importances_에 저장\n",
        "for name, score in zip(iris[\"feature_names\"], rnd_clf.feature_importances_):\n",
        "    print(name, score)"
      ],
      "execution_count": null,
      "outputs": [
        {
          "output_type": "stream",
          "text": [
            "sepal length (cm) 0.09644405983401168\n",
            "sepal width (cm) 0.022776222490437488\n",
            "petal length (cm) 0.43867067091366424\n",
            "petal width (cm) 0.44210904676188667\n"
          ],
          "name": "stdout"
        }
      ]
    },
    {
      "cell_type": "markdown",
      "metadata": {
        "id": "6JkA52rPV_dC"
      },
      "source": [
        "# 부스팅"
      ]
    },
    {
      "cell_type": "code",
      "metadata": {
        "id": "Q-8WIf8cZmGN"
      },
      "source": [
        "np.random.seed(42)\n",
        "X = np.random.rand(100, 1) - 0.5\n",
        "y = 3*X[:, 0]**2 + 0.05 * np.random.randn(100)"
      ],
      "execution_count": null,
      "outputs": []
    },
    {
      "cell_type": "code",
      "metadata": {
        "colab": {
          "base_uri": "https://localhost:8080/"
        },
        "id": "CZW5ORcrV-5W",
        "outputId": "397d71a5-1579-41ed-c43b-f639a776ff08"
      },
      "source": [
        "from sklearn.tree import DecisionTreeRegressor\n",
        "\n",
        "tree_reg1 = DecisionTreeRegressor(max_depth=2) # 잡음이 섞인 2차 곡선의 형태\n",
        "tree_reg1.fit(X, y)"
      ],
      "execution_count": null,
      "outputs": [
        {
          "output_type": "execute_result",
          "data": {
            "text/plain": [
              "DecisionTreeRegressor(ccp_alpha=0.0, criterion='mse', max_depth=2,\n",
              "                      max_features=None, max_leaf_nodes=None,\n",
              "                      min_impurity_decrease=0.0, min_impurity_split=None,\n",
              "                      min_samples_leaf=1, min_samples_split=2,\n",
              "                      min_weight_fraction_leaf=0.0, presort='deprecated',\n",
              "                      random_state=None, splitter='best')"
            ]
          },
          "metadata": {
            "tags": []
          },
          "execution_count": 17
        }
      ]
    },
    {
      "cell_type": "code",
      "metadata": {
        "colab": {
          "base_uri": "https://localhost:8080/"
        },
        "id": "RuQE3cBI02hW",
        "outputId": "7a4a530c-d6cb-4c48-d1e5-d2f68441685f"
      },
      "source": [
        "# 첫 번째 예측기에서 생긴 잔여 오차에 두 번째 DecisionTreeRegressor(회귀 모델) 훈련\n",
        "y2 = y - tree_reg1.predict(X)\n",
        "tree_reg2 = DecisionTreeRegressor(max_depth=2)\n",
        "tree_reg2.fit(X, y2)"
      ],
      "execution_count": null,
      "outputs": [
        {
          "output_type": "execute_result",
          "data": {
            "text/plain": [
              "DecisionTreeRegressor(ccp_alpha=0.0, criterion='mse', max_depth=2,\n",
              "                      max_features=None, max_leaf_nodes=None,\n",
              "                      min_impurity_decrease=0.0, min_impurity_split=None,\n",
              "                      min_samples_leaf=1, min_samples_split=2,\n",
              "                      min_weight_fraction_leaf=0.0, presort='deprecated',\n",
              "                      random_state=None, splitter='best')"
            ]
          },
          "metadata": {
            "tags": []
          },
          "execution_count": 18
        }
      ]
    },
    {
      "cell_type": "code",
      "metadata": {
        "colab": {
          "base_uri": "https://localhost:8080/"
        },
        "id": "mkmyZDCZaLOk",
        "outputId": "7a41cd60-2b92-4cc3-ab72-d346b17a8491"
      },
      "source": [
        "# 두 번째 예측기에서 생긴 잔여 오차에 세 번째 DecisionTreeRegressor(회귀 모델) 훈련\n",
        "y3 = y2 - tree_reg2.predict(X)\n",
        "tree_reg3 = DecisionTreeRegressor(max_depth=2)\n",
        "tree_reg3.fit(X, y3)"
      ],
      "execution_count": null,
      "outputs": [
        {
          "output_type": "execute_result",
          "data": {
            "text/plain": [
              "DecisionTreeRegressor(ccp_alpha=0.0, criterion='mse', max_depth=2,\n",
              "                      max_features=None, max_leaf_nodes=None,\n",
              "                      min_impurity_decrease=0.0, min_impurity_split=None,\n",
              "                      min_samples_leaf=1, min_samples_split=2,\n",
              "                      min_weight_fraction_leaf=0.0, presort='deprecated',\n",
              "                      random_state=None, splitter='best')"
            ]
          },
          "metadata": {
            "tags": []
          },
          "execution_count": 19
        }
      ]
    },
    {
      "cell_type": "code",
      "metadata": {
        "id": "wco75Swh1H7Y",
        "colab": {
          "base_uri": "https://localhost:8080/"
        },
        "outputId": "d9ecb6b8-beab-44f4-aec7-7bfc81aaeadf"
      },
      "source": [
        "# 모든 트리의 예측을 더해 새로운 샘플에 대한 예측을 만듦\n",
        "import numpy as np\n",
        "X_new = np.array([[0.8]])\n",
        "\n",
        "y_pred = sum(tree.predict(X_new) for tree in (tree_reg1, tree_reg2, tree_reg3))\n",
        "y_pred"
      ],
      "execution_count": null,
      "outputs": [
        {
          "output_type": "execute_result",
          "data": {
            "text/plain": [
              "array([0.75026781])"
            ]
          },
          "metadata": {
            "tags": []
          },
          "execution_count": 20
        }
      ]
    },
    {
      "cell_type": "code",
      "metadata": {
        "colab": {
          "base_uri": "https://localhost:8080/"
        },
        "id": "O7wdXYQ12GZS",
        "outputId": "957d2836-07b9-46cd-f37f-baf41bb583a6"
      },
      "source": [
        "from sklearn.ensemble import GradientBoostingRegressor\n",
        "\n",
        "# 트리 수(n_estimators): 앙상블 훈련을 제어하는 매개변수\n",
        "# max_depth: 결정 트리의 성장을 제어하는 매개변수\n",
        "gbrt = GradientBoostingRegressor(max_depth=2, n_estimators=3, learning_rate=1.0, random_state=42)\n",
        "gbrt.fit(X, y)"
      ],
      "execution_count": null,
      "outputs": [
        {
          "output_type": "execute_result",
          "data": {
            "text/plain": [
              "GradientBoostingRegressor(alpha=0.9, ccp_alpha=0.0, criterion='friedman_mse',\n",
              "                          init=None, learning_rate=1.0, loss='ls', max_depth=2,\n",
              "                          max_features=None, max_leaf_nodes=None,\n",
              "                          min_impurity_decrease=0.0, min_impurity_split=None,\n",
              "                          min_samples_leaf=1, min_samples_split=2,\n",
              "                          min_weight_fraction_leaf=0.0, n_estimators=3,\n",
              "                          n_iter_no_change=None, presort='deprecated',\n",
              "                          random_state=42, subsample=1.0, tol=0.0001,\n",
              "                          validation_fraction=0.1, verbose=0, warm_start=False)"
            ]
          },
          "metadata": {
            "tags": []
          },
          "execution_count": 21
        }
      ]
    },
    {
      "cell_type": "code",
      "metadata": {
        "colab": {
          "base_uri": "https://localhost:8080/"
        },
        "id": "F6lyW4fu2j98",
        "outputId": "1e12d5f1-2199-46fa-eaa8-665062b08063"
      },
      "source": [
        "import numpy as np\n",
        "from sklearn.model_selection import train_test_split\n",
        "from sklearn.metrics import mean_squared_error\n",
        "\n",
        "X_train, X_val, y_train, y_val = train_test_split(X, y, random_state=49)\n",
        "\n",
        "gbrt = GradientBoostingRegressor(max_depth=2, n_estimators=120, random_state=42)\n",
        "gbrt.fit(X_train, y_train)\n",
        "\n",
        "# 최적의 트리 수를 찾기 위해 각 훈련 단계에서 검증 오차 측정\n",
        "errors = [mean_squared_error(y_val, y_pred)\n",
        "          for y_pred in gbrt.staged_predict(X_val)]\n",
        "bst_n_estimators = np.argmin(errors) + 1\n",
        "\n",
        "# 최적의 트리 수를 사용해 GBRT 앙상블 훈련\n",
        "gbrt_best = GradientBoostingRegressor(max_depth=2, n_estimators=bst_n_estimators, random_state=42)\n",
        "gbrt_best.fit(X_train, y_train)"
      ],
      "execution_count": null,
      "outputs": [
        {
          "output_type": "execute_result",
          "data": {
            "text/plain": [
              "GradientBoostingRegressor(alpha=0.9, ccp_alpha=0.0, criterion='friedman_mse',\n",
              "                          init=None, learning_rate=0.1, loss='ls', max_depth=2,\n",
              "                          max_features=None, max_leaf_nodes=None,\n",
              "                          min_impurity_decrease=0.0, min_impurity_split=None,\n",
              "                          min_samples_leaf=1, min_samples_split=2,\n",
              "                          min_weight_fraction_leaf=0.0, n_estimators=56,\n",
              "                          n_iter_no_change=None, presort='deprecated',\n",
              "                          random_state=42, subsample=1.0, tol=0.0001,\n",
              "                          validation_fraction=0.1, verbose=0, warm_start=False)"
            ]
          },
          "metadata": {
            "tags": []
          },
          "execution_count": 22
        }
      ]
    },
    {
      "cell_type": "code",
      "metadata": {
        "id": "F_iQy2OK3IJj"
      },
      "source": [
        "# warm_start=True로 fit() 메서드가 호출될 때 기존 트리를 유지하고 훈련을 추가할 수 있도록 함\n",
        "gbrt = GradientBoostingRegressor(max_depth=2, warm_start=True)\n",
        "\n",
        "min_val_error = float(\"inf\")\n",
        "error_going_up = 0\n",
        "for n_estimators in range(1, 120):\n",
        "    gbrt.n_estimators = n_estimators\n",
        "    gbrt.fit(X_train, y_train)\n",
        "    y_pred = gbrt.predict(X_val)\n",
        "    val_error = mean_squared_error(y_val, y_pred)\n",
        "    if val_error < min_val_error:\n",
        "        min_val_error = val_error\n",
        "        error_going_up = 0\n",
        "    else:\n",
        "        error_going_up += 1\n",
        "        if error_going_up == 5: # 5번의 반복 동안 검증 오차가 향상되지 않으면 훈련을 종료\n",
        "            break"
      ],
      "execution_count": null,
      "outputs": []
    },
    {
      "cell_type": "code",
      "metadata": {
        "id": "gSjOIOIU3IvR"
      },
      "source": [
        "# 빠른 속도, 확장성, 이식성을 목표로 함\n",
        "import xgboost\n",
        "\n",
        "xgb_reg = xgboost.XGBRegressor(objective='reg:squarederror')\n",
        "xgb_reg.fit(X_train, y_train)\n",
        "y_pred = xgb_reg.predict(X_val)"
      ],
      "execution_count": null,
      "outputs": []
    },
    {
      "cell_type": "code",
      "metadata": {
        "colab": {
          "base_uri": "https://localhost:8080/"
        },
        "id": "2_d8U1eS4YI6",
        "outputId": "5696573f-948c-45e4-a5e0-aa0cd85ec1be"
      },
      "source": [
        "# 자동 조기 종료 기능 제공\n",
        "xgb_reg.fit(X_train, y_train,\n",
        "            eval_set=[(X_val, y_val)], early_stopping_rounds=2)\n",
        "y_pred = xgb_reg.predict(X_val)"
      ],
      "execution_count": null,
      "outputs": [
        {
          "output_type": "stream",
          "text": [
            "[0]\tvalidation_0-rmse:0.286719\n",
            "Will train until validation_0-rmse hasn't improved in 2 rounds.\n",
            "[1]\tvalidation_0-rmse:0.258221\n",
            "[2]\tvalidation_0-rmse:0.232634\n",
            "[3]\tvalidation_0-rmse:0.210526\n",
            "[4]\tvalidation_0-rmse:0.190232\n",
            "[5]\tvalidation_0-rmse:0.172196\n",
            "[6]\tvalidation_0-rmse:0.156394\n",
            "[7]\tvalidation_0-rmse:0.142241\n",
            "[8]\tvalidation_0-rmse:0.129789\n",
            "[9]\tvalidation_0-rmse:0.118752\n",
            "[10]\tvalidation_0-rmse:0.108388\n",
            "[11]\tvalidation_0-rmse:0.100155\n",
            "[12]\tvalidation_0-rmse:0.09208\n",
            "[13]\tvalidation_0-rmse:0.084791\n",
            "[14]\tvalidation_0-rmse:0.078699\n",
            "[15]\tvalidation_0-rmse:0.073248\n",
            "[16]\tvalidation_0-rmse:0.069391\n",
            "[17]\tvalidation_0-rmse:0.066277\n",
            "[18]\tvalidation_0-rmse:0.063458\n",
            "[19]\tvalidation_0-rmse:0.060326\n",
            "[20]\tvalidation_0-rmse:0.0578\n",
            "[21]\tvalidation_0-rmse:0.055643\n",
            "[22]\tvalidation_0-rmse:0.053943\n",
            "[23]\tvalidation_0-rmse:0.053138\n",
            "[24]\tvalidation_0-rmse:0.052415\n",
            "[25]\tvalidation_0-rmse:0.051821\n",
            "[26]\tvalidation_0-rmse:0.051226\n",
            "[27]\tvalidation_0-rmse:0.051135\n",
            "[28]\tvalidation_0-rmse:0.05091\n",
            "[29]\tvalidation_0-rmse:0.050893\n",
            "[30]\tvalidation_0-rmse:0.050725\n",
            "[31]\tvalidation_0-rmse:0.050471\n",
            "[32]\tvalidation_0-rmse:0.050285\n",
            "[33]\tvalidation_0-rmse:0.050492\n",
            "[34]\tvalidation_0-rmse:0.050348\n",
            "Stopping. Best iteration:\n",
            "[32]\tvalidation_0-rmse:0.050285\n",
            "\n"
          ],
          "name": "stdout"
        }
      ]
    }
  ]
}