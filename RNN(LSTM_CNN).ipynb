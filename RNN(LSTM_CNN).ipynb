{
  "nbformat": 4,
  "nbformat_minor": 0,
  "metadata": {
    "colab": {
      "name": "RNN(LSTM_CNN).ipynb",
      "provenance": [],
      "authorship_tag": "ABX9TyO9RI4SCaGkuKU18D0PISzp",
      "include_colab_link": true
    },
    "kernelspec": {
      "name": "python3",
      "display_name": "Python 3"
    }
  },
  "cells": [
    {
      "cell_type": "markdown",
      "metadata": {
        "id": "view-in-github",
        "colab_type": "text"
      },
      "source": [
        "<a href=\"https://colab.research.google.com/github/jungeun919/Deep_learning/blob/main/RNN(LSTM_CNN).ipynb\" target=\"_parent\"><img src=\"https://colab.research.google.com/assets/colab-badge.svg\" alt=\"Open In Colab\"/></a>"
      ]
    },
    {
      "cell_type": "markdown",
      "metadata": {
        "id": "tcEv7H52rYLo"
      },
      "source": [
        "# LSTM 과 CNN을 조합해 영화 리뷰 분류하기"
      ]
    },
    {
      "cell_type": "code",
      "metadata": {
        "colab": {
          "base_uri": "https://localhost:8080/",
          "height": 1000
        },
        "id": "Lz7R1k2frOte",
        "outputId": "5591e2ed-7d70-4ebb-c08b-09b34c433446"
      },
      "source": [
        "from keras.preprocessing import sequence\r\n",
        "from keras.models import Sequential\r\n",
        "from keras.layers import Dense, Dropout, Activation\r\n",
        "from keras.layers import Embedding\r\n",
        "from keras.layers import LSTM\r\n",
        "from keras.layers import Conv1D, MaxPooling1D\r\n",
        "from keras.datasets import imdb\r\n",
        "\r\n",
        "import numpy\r\n",
        "import tensorflow as tf\r\n",
        "import matplotlib.pyplot as plt\r\n",
        "\r\n",
        "seed = 0\r\n",
        "numpy.random.seed(seed)\r\n",
        "tf.random.set_seed(3)\r\n",
        "\r\n",
        "# 학습셋과 테스트셋 지정하기\r\n",
        "(x_train, y_train), (x_test, y_test) = imdb.load_data(num_words=5000)\r\n",
        "\r\n",
        "# 데이터 전처리\r\n",
        "x_train = sequence.pad_sequences(x_train, maxlen=100)\r\n",
        "x_test = sequence.pad_sequences(x_test, maxlen=100)\r\n",
        "\r\n",
        "# 모델의 설정\r\n",
        "model = Sequential()\r\n",
        "model.add(Embedding(5000, 100)) # Embedding(불러온 단어의 총 개수, 기사당 단어 수)\r\n",
        "model.add(Dropout(0.5))\r\n",
        "model.add(Conv1D(64, 5, padding='valid', activation='relu', strides=1))\r\n",
        "model.add(MaxPooling1D(pool_size=4))\r\n",
        "model.add(LSTM(55)) # RNN에서 기억 값에 대한 가중치 제어\r\n",
        "model.add(Dense(1))\r\n",
        "model.add(Activation('sigmoid'))\r\n",
        "model.summary()\r\n",
        "\r\n",
        "# 모델의 컴파일\r\n",
        "model.compile(loss='binary_crossentropy', optimizer='adam', metrics=['accuracy'])\r\n",
        "\r\n",
        "# 모델의 실행\r\n",
        "history = model.fit(x_train, y_train, batch_size=100, epochs=5, validation_data=(x_test, y_test))\r\n",
        "\r\n",
        "# 테스트 정확도 출력\r\n",
        "print(\"\\n Test Accuracy: %.4f\" % (model.evaluate(x_test, y_test)[1]))\r\n",
        "\r\n",
        "# 테스트셋의 오차\r\n",
        "y_vloss = history.history['val_loss']\r\n",
        "\r\n",
        "# 학습셋의 오차\r\n",
        "y_loss = history.history['loss']\r\n",
        "\r\n",
        "# 그래프로 표현\r\n",
        "x_len = numpy.arange(len(y_loss))\r\n",
        "plt.plot(x_len, y_vloss, marker='.', c=\"red\", label='Testset_loss')\r\n",
        "plt.plot(x_len, y_loss, marker='.', c=\"blue\", label='Trainset_loss')\r\n",
        "\r\n",
        "# 그래프에 그리드를 주고 레이블을 표시\r\n",
        "plt.legend(loc='upper right')\r\n",
        "plt.grid()\r\n",
        "plt.xlabel('epoch')\r\n",
        "plt.ylabel('loss')\r\n",
        "plt.show()"
      ],
      "execution_count": null,
      "outputs": [
        {
          "output_type": "stream",
          "text": [
            "<string>:6: VisibleDeprecationWarning: Creating an ndarray from ragged nested sequences (which is a list-or-tuple of lists-or-tuples-or ndarrays with different lengths or shapes) is deprecated. If you meant to do this, you must specify 'dtype=object' when creating the ndarray\n",
            "/usr/local/lib/python3.6/dist-packages/tensorflow/python/keras/datasets/imdb.py:159: VisibleDeprecationWarning: Creating an ndarray from ragged nested sequences (which is a list-or-tuple of lists-or-tuples-or ndarrays with different lengths or shapes) is deprecated. If you meant to do this, you must specify 'dtype=object' when creating the ndarray\n",
            "  x_train, y_train = np.array(xs[:idx]), np.array(labels[:idx])\n",
            "/usr/local/lib/python3.6/dist-packages/tensorflow/python/keras/datasets/imdb.py:160: VisibleDeprecationWarning: Creating an ndarray from ragged nested sequences (which is a list-or-tuple of lists-or-tuples-or ndarrays with different lengths or shapes) is deprecated. If you meant to do this, you must specify 'dtype=object' when creating the ndarray\n",
            "  x_test, y_test = np.array(xs[idx:]), np.array(labels[idx:])\n"
          ],
          "name": "stderr"
        },
        {
          "output_type": "stream",
          "text": [
            "Model: \"sequential_2\"\n",
            "_________________________________________________________________\n",
            "Layer (type)                 Output Shape              Param #   \n",
            "=================================================================\n",
            "embedding_2 (Embedding)      (None, None, 100)         500000    \n",
            "_________________________________________________________________\n",
            "dropout_2 (Dropout)          (None, None, 100)         0         \n",
            "_________________________________________________________________\n",
            "conv1d_2 (Conv1D)            (None, None, 64)          32064     \n",
            "_________________________________________________________________\n",
            "max_pooling1d_2 (MaxPooling1 (None, None, 64)          0         \n",
            "_________________________________________________________________\n",
            "lstm_2 (LSTM)                (None, 55)                26400     \n",
            "_________________________________________________________________\n",
            "dense_2 (Dense)              (None, 1)                 56        \n",
            "_________________________________________________________________\n",
            "activation_2 (Activation)    (None, 1)                 0         \n",
            "=================================================================\n",
            "Total params: 558,520\n",
            "Trainable params: 558,520\n",
            "Non-trainable params: 0\n",
            "_________________________________________________________________\n",
            "Epoch 1/5\n",
            "250/250 [==============================] - 30s 112ms/step - loss: 0.5558 - accuracy: 0.6807 - val_loss: 0.3673 - val_accuracy: 0.8376\n",
            "Epoch 2/5\n",
            "250/250 [==============================] - 27s 109ms/step - loss: 0.2920 - accuracy: 0.8798 - val_loss: 0.3335 - val_accuracy: 0.8556\n",
            "Epoch 3/5\n",
            "250/250 [==============================] - 28s 111ms/step - loss: 0.2423 - accuracy: 0.8998 - val_loss: 0.3248 - val_accuracy: 0.8597\n",
            "Epoch 4/5\n",
            "250/250 [==============================] - 27s 109ms/step - loss: 0.1998 - accuracy: 0.9222 - val_loss: 0.3274 - val_accuracy: 0.8563\n",
            "Epoch 5/5\n",
            "250/250 [==============================] - 27s 108ms/step - loss: 0.1701 - accuracy: 0.9392 - val_loss: 0.3495 - val_accuracy: 0.8552\n",
            "782/782 [==============================] - 8s 10ms/step - loss: 0.3495 - accuracy: 0.8552\n",
            "\n",
            " Test Accuracy: 0.8552\n"
          ],
          "name": "stdout"
        },
        {
          "output_type": "display_data",
          "data": {
            "image/png": "[encoded data removed]",
            "text/plain": [
              "<Figure size 432x288 with 1 Axes>"
            ]
          },
          "metadata": {
            "tags": [],
            "needs_background": "light"
          }
        }
      ]
    }
  ]
}